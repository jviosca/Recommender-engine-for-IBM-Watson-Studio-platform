{
 "cells": [
  {
   "cell_type": "markdown",
   "metadata": {},
   "source": [
    "# Recommendations with IBM\n",
    "\n",
    "In this notebook, I build out a number of different methods for making recommendations to use on real data from the IBM Watson Studio platform. Then, I create a class to combine all the recommendations methods for specific circumstances. Finally, the recommendation engine is deployed as a Streamlit web app.<br><br>\n",
    "This is the 3rd graded project of Udacity's [Data Scientist nanodegree](https://www.udacity.com/course/data-scientist-nanodegree--nd025). For grading purposes, several functions included in the `project_tests.py`script are used througout this notebook to check my answers to several questions (see below).\n",
    "\n",
    "\n",
    "## Table of Contents\n",
    "\n",
    "I. [Exploratory Data Analysis](#Exploratory-Data-Analysis)<br>\n",
    "II. [Rank Based Recommendations](#Rank)<br>\n",
    "III. [User-User Based Collaborative Filtering](#User-User)<br>\n",
    "IV. [Content Based Recommendations (EXTRA)](#Content-Recs)<br>\n",
    "V. [Matrix Factorization](#Matrix-Fact)<br>\n",
    "VI. [Recommender class - OOP (EXTRA)](#oop)<br>\n",
    "VII. [Deployment (EXTRA)](#deployment)<br>\n",
    "VII. [Conclusions](#conclusions)\n"
   ]
  },
  {
   "cell_type": "code",
   "execution_count": 2,
   "metadata": {},
   "outputs": [],
   "source": [
    "import pandas as pd\n",
    "import numpy as np\n",
    "import matplotlib.pyplot as plt\n",
    "import seaborn as sns\n",
    "import project_tests as t # grading script\n",
    "import pickle\n",
    "from sklearn.feature_extraction.text import TfidfVectorizer\n",
    "from sklearn.metrics.pairwise import cosine_similarity\n",
    "\n",
    "%matplotlib inline"
   ]
  },
  {
   "cell_type": "code",
   "execution_count": 3,
   "metadata": {},
   "outputs": [
    {
     "data": {
      "text/html": [
       "<div>\n",
       "<style scoped>\n",
       "    .dataframe tbody tr th:only-of-type {\n",
       "        vertical-align: middle;\n",
       "    }\n",
       "\n",
       "    .dataframe tbody tr th {\n",
       "        vertical-align: top;\n",
       "    }\n",
       "\n",
       "    .dataframe thead th {\n",
       "        text-align: right;\n",
       "    }\n",
       "</style>\n",
       "<table border=\"1\" class=\"dataframe\">\n",
       "  <thead>\n",
       "    <tr style=\"text-align: right;\">\n",
       "      <th></th>\n",
       "      <th>article_id</th>\n",
       "      <th>title</th>\n",
       "      <th>email</th>\n",
       "    </tr>\n",
       "  </thead>\n",
       "  <tbody>\n",
       "    <tr>\n",
       "      <th>0</th>\n",
       "      <td>1430.0</td>\n",
       "      <td>using pixiedust for fast, flexible, and easier...</td>\n",
       "      <td>ef5f11f77ba020cd36e1105a00ab868bbdbf7fe7</td>\n",
       "    </tr>\n",
       "    <tr>\n",
       "      <th>1</th>\n",
       "      <td>1314.0</td>\n",
       "      <td>healthcare python streaming application demo</td>\n",
       "      <td>083cbdfa93c8444beaa4c5f5e0f5f9198e4f9e0b</td>\n",
       "    </tr>\n",
       "    <tr>\n",
       "      <th>2</th>\n",
       "      <td>1429.0</td>\n",
       "      <td>use deep learning for image classification</td>\n",
       "      <td>b96a4f2e92d8572034b1e9b28f9ac673765cd074</td>\n",
       "    </tr>\n",
       "    <tr>\n",
       "      <th>3</th>\n",
       "      <td>1338.0</td>\n",
       "      <td>ml optimization using cognitive assistant</td>\n",
       "      <td>06485706b34a5c9bf2a0ecdac41daf7e7654ceb7</td>\n",
       "    </tr>\n",
       "    <tr>\n",
       "      <th>4</th>\n",
       "      <td>1276.0</td>\n",
       "      <td>deploy your python model as a restful api</td>\n",
       "      <td>f01220c46fc92c6e6b161b1849de11faacd7ccb2</td>\n",
       "    </tr>\n",
       "  </tbody>\n",
       "</table>\n",
       "</div>"
      ],
      "text/plain": [
       "   article_id                                              title  \\\n",
       "0      1430.0  using pixiedust for fast, flexible, and easier...   \n",
       "1      1314.0       healthcare python streaming application demo   \n",
       "2      1429.0         use deep learning for image classification   \n",
       "3      1338.0          ml optimization using cognitive assistant   \n",
       "4      1276.0          deploy your python model as a restful api   \n",
       "\n",
       "                                      email  \n",
       "0  ef5f11f77ba020cd36e1105a00ab868bbdbf7fe7  \n",
       "1  083cbdfa93c8444beaa4c5f5e0f5f9198e4f9e0b  \n",
       "2  b96a4f2e92d8572034b1e9b28f9ac673765cd074  \n",
       "3  06485706b34a5c9bf2a0ecdac41daf7e7654ceb7  \n",
       "4  f01220c46fc92c6e6b161b1849de11faacd7ccb2  "
      ]
     },
     "execution_count": 3,
     "metadata": {},
     "output_type": "execute_result"
    }
   ],
   "source": [
    "df = pd.read_csv('data/user-item-interactions.csv')\n",
    "df_content = pd.read_csv('data/articles_community.csv')\n",
    "del df['Unnamed: 0']\n",
    "del df_content['Unnamed: 0']\n",
    "\n",
    "# Show df to get an idea of the data\n",
    "df.head()"
   ]
  },
  {
   "cell_type": "code",
   "execution_count": 4,
   "metadata": {},
   "outputs": [
    {
     "data": {
      "text/html": [
       "<div>\n",
       "<style scoped>\n",
       "    .dataframe tbody tr th:only-of-type {\n",
       "        vertical-align: middle;\n",
       "    }\n",
       "\n",
       "    .dataframe tbody tr th {\n",
       "        vertical-align: top;\n",
       "    }\n",
       "\n",
       "    .dataframe thead th {\n",
       "        text-align: right;\n",
       "    }\n",
       "</style>\n",
       "<table border=\"1\" class=\"dataframe\">\n",
       "  <thead>\n",
       "    <tr style=\"text-align: right;\">\n",
       "      <th></th>\n",
       "      <th>doc_body</th>\n",
       "      <th>doc_description</th>\n",
       "      <th>doc_full_name</th>\n",
       "      <th>doc_status</th>\n",
       "      <th>article_id</th>\n",
       "    </tr>\n",
       "  </thead>\n",
       "  <tbody>\n",
       "    <tr>\n",
       "      <th>0</th>\n",
       "      <td>Skip navigation Sign in SearchLoading...\\r\\n\\r...</td>\n",
       "      <td>Detect bad readings in real time using Python ...</td>\n",
       "      <td>Detect Malfunctioning IoT Sensors with Streami...</td>\n",
       "      <td>Live</td>\n",
       "      <td>0</td>\n",
       "    </tr>\n",
       "    <tr>\n",
       "      <th>1</th>\n",
       "      <td>No Free Hunch Navigation * kaggle.com\\r\\n\\r\\n ...</td>\n",
       "      <td>See the forest, see the trees. Here lies the c...</td>\n",
       "      <td>Communicating data science: A guide to present...</td>\n",
       "      <td>Live</td>\n",
       "      <td>1</td>\n",
       "    </tr>\n",
       "    <tr>\n",
       "      <th>2</th>\n",
       "      <td>☰ * Login\\r\\n * Sign Up\\r\\n\\r\\n * Learning Pat...</td>\n",
       "      <td>Here’s this week’s news in Data Science and Bi...</td>\n",
       "      <td>This Week in Data Science (April 18, 2017)</td>\n",
       "      <td>Live</td>\n",
       "      <td>2</td>\n",
       "    </tr>\n",
       "    <tr>\n",
       "      <th>3</th>\n",
       "      <td>DATALAYER: HIGH THROUGHPUT, LOW LATENCY AT SCA...</td>\n",
       "      <td>Learn how distributed DBs solve the problem of...</td>\n",
       "      <td>DataLayer Conference: Boost the performance of...</td>\n",
       "      <td>Live</td>\n",
       "      <td>3</td>\n",
       "    </tr>\n",
       "    <tr>\n",
       "      <th>4</th>\n",
       "      <td>Skip navigation Sign in SearchLoading...\\r\\n\\r...</td>\n",
       "      <td>This video demonstrates the power of IBM DataS...</td>\n",
       "      <td>Analyze NY Restaurant data using Spark in DSX</td>\n",
       "      <td>Live</td>\n",
       "      <td>4</td>\n",
       "    </tr>\n",
       "  </tbody>\n",
       "</table>\n",
       "</div>"
      ],
      "text/plain": [
       "                                            doc_body  \\\n",
       "0  Skip navigation Sign in SearchLoading...\\r\\n\\r...   \n",
       "1  No Free Hunch Navigation * kaggle.com\\r\\n\\r\\n ...   \n",
       "2  ☰ * Login\\r\\n * Sign Up\\r\\n\\r\\n * Learning Pat...   \n",
       "3  DATALAYER: HIGH THROUGHPUT, LOW LATENCY AT SCA...   \n",
       "4  Skip navigation Sign in SearchLoading...\\r\\n\\r...   \n",
       "\n",
       "                                     doc_description  \\\n",
       "0  Detect bad readings in real time using Python ...   \n",
       "1  See the forest, see the trees. Here lies the c...   \n",
       "2  Here’s this week’s news in Data Science and Bi...   \n",
       "3  Learn how distributed DBs solve the problem of...   \n",
       "4  This video demonstrates the power of IBM DataS...   \n",
       "\n",
       "                                       doc_full_name doc_status  article_id  \n",
       "0  Detect Malfunctioning IoT Sensors with Streami...       Live           0  \n",
       "1  Communicating data science: A guide to present...       Live           1  \n",
       "2         This Week in Data Science (April 18, 2017)       Live           2  \n",
       "3  DataLayer Conference: Boost the performance of...       Live           3  \n",
       "4      Analyze NY Restaurant data using Spark in DSX       Live           4  "
      ]
     },
     "execution_count": 4,
     "metadata": {},
     "output_type": "execute_result"
    }
   ],
   "source": [
    "# Show df_content to get an idea of the data\n",
    "df_content.head()"
   ]
  },
  {
   "cell_type": "markdown",
   "metadata": {},
   "source": [
    "### <a class=\"anchor\" id=\"Exploratory-Data-Analysis\">Part I : Exploratory Data Analysis</a>\n",
    "\n",
    "`1.` What is the distribution of how many articles a user interacts with in the dataset? "
   ]
  },
  {
   "cell_type": "markdown",
   "metadata": {},
   "source": [
    "`1a.` *Article views (non-unique articles) per user:*"
   ]
  },
  {
   "cell_type": "code",
   "execution_count": 5,
   "metadata": {},
   "outputs": [
    {
     "name": "stdout",
     "output_type": "stream",
     "text": [
      "Number of interactions (views) = 45993\n",
      "Number of unique users = 5148\n",
      "Average number of interactions per user = 8.9\n",
      "Number of unique articles = 714\n"
     ]
    }
   ],
   "source": [
    "# user-item interactions are in df. USers can be identified by email column. If number of users is lower than number of \n",
    "# rows, it means a single user has interacted with more than one article\n",
    "n_interactions = len(df)\n",
    "n_unique_users = df['email'].nunique()\n",
    "n_unique_articles = df['article_id'].nunique()\n",
    "interactions_per_user = n_interactions / n_unique_users\n",
    "print(\"Number of interactions (views) = {}\\nNumber of unique users = {}\\nAverage number of interactions per user = {}\\nNumber of unique articles = {}\". format(n_interactions, n_unique_users, round(interactions_per_user,1), n_unique_articles))"
   ]
  },
  {
   "cell_type": "code",
   "execution_count": 6,
   "metadata": {},
   "outputs": [
    {
     "name": "stdout",
     "output_type": "stream",
     "text": [
      "Min number of views per user = 1\n",
      "Max number of views per user = 364\n",
      "Median number of views per user = 3.0\n"
     ]
    }
   ],
   "source": [
    "# Some statistics on the distribution of article views per user:\n",
    "df_views_user = df[['email','title']].groupby(['email']).count().rename(columns={'title':'n_views'})\n",
    "min_views_by_user = df_views_user['n_views'].min()\n",
    "max_views_by_user = df_views_user['n_views'].max()\n",
    "median_val = df_views_user['n_views'].median() # 50% of individuals interact with ____ number of articles or fewer.\n",
    "print(\"Min number of views per user = {}\\nMax number of views per user = {}\\nMedian number of views per user = {}\".format(min_views_by_user,max_views_by_user,median_val))"
   ]
  },
  {
   "cell_type": "code",
   "execution_count": 7,
   "metadata": {},
   "outputs": [
    {
     "data": {
      "text/plain": [
       "Text(0, 0.5, 'Number of unique users')"
      ]
     },
     "execution_count": 7,
     "metadata": {},
     "output_type": "execute_result"
    },
    {
     "data": {
      "image/png": "[encoded data removed]",
      "text/plain": [
       "<Figure size 640x480 with 1 Axes>"
      ]
     },
     "metadata": {},
     "output_type": "display_data"
    }
   ],
   "source": [
    "# Visual plot of the distribution of article views per user: most users view a few articles only\n",
    "plt.hist(df_views_user)\n",
    "plt.xlabel(\"Number of views (same or different articles)\")\n",
    "plt.ylabel(\"Number of unique users\")"
   ]
  },
  {
   "cell_type": "markdown",
   "metadata": {},
   "source": [
    "`1b.` *Unique article views per each user:*"
   ]
  },
  {
   "cell_type": "code",
   "execution_count": 8,
   "metadata": {},
   "outputs": [
    {
     "name": "stdout",
     "output_type": "stream",
     "text": [
      "Min number of articles = 1\n",
      "Median number of articles = 3.0\n",
      "Max number of articles = 135\n"
     ]
    }
   ],
   "source": [
    "# How many different articles does each user view?\n",
    "df_articles_user = df[['email','article_id']].groupby(['email']).nunique().rename(columns={'article_id':'n_articles'})\n",
    "min_articles = df_articles_user['n_articles'].min()\n",
    "median_articles = df_articles_user['n_articles'].median()\n",
    "max_articles = df_articles_user['n_articles'].max()\n",
    "print(\"Min number of articles = {}\\nMedian number of articles = {}\\nMax number of articles = {}\".format(min_articles, median_articles, max_articles))"
   ]
  },
  {
   "cell_type": "markdown",
   "metadata": {},
   "source": [
    "`2.` Remove duplicate articles from the **df_content** dataframe.  "
   ]
  },
  {
   "cell_type": "code",
   "execution_count": 9,
   "metadata": {},
   "outputs": [
    {
     "name": "stdout",
     "output_type": "stream",
     "text": [
      "column 'doc_body' : 19 duplicated cells\n",
      "column 'doc_description' : 33 duplicated cells\n",
      "column 'doc_full_name' : 5 duplicated cells\n",
      "column 'doc_status' : 1055 duplicated cells\n",
      "column 'article_id' : 5 duplicated cells\n"
     ]
    }
   ],
   "source": [
    "# Find and explore duplicate articles\n",
    "for col in df_content.columns:\n",
    "    print(\"column '{}' : {} duplicated cells\".format(col, df_content[col].duplicated().sum()))"
   ]
  },
  {
   "cell_type": "code",
   "execution_count": 10,
   "metadata": {},
   "outputs": [
    {
     "name": "stdout",
     "output_type": "stream",
     "text": [
      "column 'doc_body' : 19 duplicated cells\n",
      "column 'doc_description' : 31 duplicated cells\n",
      "column 'doc_full_name' : 0 duplicated cells\n",
      "column 'doc_status' : 1050 duplicated cells\n",
      "column 'article_id' : 0 duplicated cells\n"
     ]
    }
   ],
   "source": [
    "# Remove any rows that have the same article_id - only keep the first\n",
    "df_content.drop_duplicates(subset='article_id', keep='first', inplace=True)\n",
    "for col in df_content.columns:\n",
    "    print(\"column '{}' : {} duplicated cells\".format(col, df_content[col].duplicated().sum()))"
   ]
  },
  {
   "cell_type": "markdown",
   "metadata": {},
   "source": [
    "`3.` Use the cells below to find:\n",
    "\n",
    "**a.** The number of unique articles that have an interaction with a user.  \n",
    "**b.** The number of unique articles in the dataset (whether they have any interactions or not).<br>\n",
    "**c.** The number of unique users in the dataset. (excluding null values) <br>\n",
    "**d.** The number of user-article interactions in the dataset."
   ]
  },
  {
   "cell_type": "code",
   "execution_count": 11,
   "metadata": {},
   "outputs": [
    {
     "data": {
      "text/plain": [
       "article_id     0\n",
       "title          0\n",
       "email         17\n",
       "dtype: int64"
      ]
     },
     "execution_count": 11,
     "metadata": {},
     "output_type": "execute_result"
    }
   ],
   "source": [
    "df.isna().sum()"
   ]
  },
  {
   "cell_type": "code",
   "execution_count": 12,
   "metadata": {},
   "outputs": [
    {
     "data": {
      "text/plain": [
       "45976"
      ]
     },
     "execution_count": 12,
     "metadata": {},
     "output_type": "execute_result"
    }
   ],
   "source": [
    "# unique articles that have interaction with user\n",
    "len(df[['article_id','email']].dropna())"
   ]
  },
  {
   "cell_type": "code",
   "execution_count": 13,
   "metadata": {},
   "outputs": [],
   "source": [
    "unique_articles = df[['article_id','email']].dropna().nunique()['article_id'] # The number of unique articles that have at least one interaction\n",
    "total_articles = df_content['article_id'].nunique() # The number of unique articles on the IBM platform\n",
    "unique_users = df['email'].nunique() # The number of unique users\n",
    "#user_article_interactions = len(df[['article_id','email']].dropna()) # not accepted, because null values are assumed to come from a single user\n",
    "user_article_interactions = len(df) # The number of user-article interactions"
   ]
  },
  {
   "cell_type": "markdown",
   "metadata": {},
   "source": [
    "`4.` Use the cells below to find the most viewed **article_id**, as well as how often it was viewed.  After talking to the company leaders, the `email_mapper` function was deemed a reasonable way to map users to ids.  There were a small number of null values, and it was found that all of these null values likely belonged to a single user (which is how they are stored using the function below)."
   ]
  },
  {
   "cell_type": "code",
   "execution_count": 14,
   "metadata": {},
   "outputs": [
    {
     "data": {
      "text/html": [
       "<div>\n",
       "<style scoped>\n",
       "    .dataframe tbody tr th:only-of-type {\n",
       "        vertical-align: middle;\n",
       "    }\n",
       "\n",
       "    .dataframe tbody tr th {\n",
       "        vertical-align: top;\n",
       "    }\n",
       "\n",
       "    .dataframe thead th {\n",
       "        text-align: right;\n",
       "    }\n",
       "</style>\n",
       "<table border=\"1\" class=\"dataframe\">\n",
       "  <thead>\n",
       "    <tr style=\"text-align: right;\">\n",
       "      <th></th>\n",
       "      <th>article_id</th>\n",
       "      <th>views</th>\n",
       "    </tr>\n",
       "  </thead>\n",
       "  <tbody>\n",
       "    <tr>\n",
       "      <th>0</th>\n",
       "      <td>1429.0</td>\n",
       "      <td>937</td>\n",
       "    </tr>\n",
       "    <tr>\n",
       "      <th>1</th>\n",
       "      <td>1330.0</td>\n",
       "      <td>927</td>\n",
       "    </tr>\n",
       "    <tr>\n",
       "      <th>2</th>\n",
       "      <td>1431.0</td>\n",
       "      <td>671</td>\n",
       "    </tr>\n",
       "    <tr>\n",
       "      <th>3</th>\n",
       "      <td>1427.0</td>\n",
       "      <td>643</td>\n",
       "    </tr>\n",
       "    <tr>\n",
       "      <th>4</th>\n",
       "      <td>1364.0</td>\n",
       "      <td>627</td>\n",
       "    </tr>\n",
       "  </tbody>\n",
       "</table>\n",
       "</div>"
      ],
      "text/plain": [
       "   article_id  views\n",
       "0      1429.0    937\n",
       "1      1330.0    927\n",
       "2      1431.0    671\n",
       "3      1427.0    643\n",
       "4      1364.0    627"
      ]
     },
     "execution_count": 14,
     "metadata": {},
     "output_type": "execute_result"
    }
   ],
   "source": [
    "df_articles_views = df[['article_id','title']].groupby('article_id').count().rename(columns={'title':'views'}).sort_values(by='views', ascending=False).reset_index()\n",
    "df_articles_views.head()"
   ]
  },
  {
   "cell_type": "code",
   "execution_count": 15,
   "metadata": {},
   "outputs": [],
   "source": [
    "most_viewed_article_id = str(df_articles_views.iloc[0]['article_id']) # The most viewed article in the dataset as a string with one value following the decimal \n",
    "max_views = df_articles_views.iloc[0]['views'] # The most viewed article in the dataset was viewed how many times?"
   ]
  },
  {
   "cell_type": "code",
   "execution_count": 16,
   "metadata": {},
   "outputs": [
    {
     "data": {
      "text/plain": [
       "Text(0, 0.5, 'Number of articles')"
      ]
     },
     "execution_count": 16,
     "metadata": {},
     "output_type": "execute_result"
    },
    {
     "data": {
      "image/png": "[encoded data removed]",
      "text/plain": [
       "<Figure size 640x480 with 1 Axes>"
      ]
     },
     "metadata": {},
     "output_type": "display_data"
    }
   ],
   "source": [
    "plt.hist(df_articles_views.set_index('article_id'))\n",
    "plt.xlabel(\"Number of views\")\n",
    "plt.ylabel(\"Number of articles\")"
   ]
  },
  {
   "cell_type": "markdown",
   "metadata": {},
   "source": [
    "Thus, EDA plots above show that most users see very few articles and most articles receive very few views. In this situation, it is very unlikely that different users have great similarity in their preferences, so collaborative filtering might be an inefficient way to propose relevant content. Below more on this."
   ]
  },
  {
   "cell_type": "markdown",
   "metadata": {},
   "source": [
    "Now, we will prepare data for modelling by encoding a user_id column:"
   ]
  },
  {
   "cell_type": "code",
   "execution_count": 17,
   "metadata": {},
   "outputs": [
    {
     "data": {
      "text/html": [
       "<div>\n",
       "<style scoped>\n",
       "    .dataframe tbody tr th:only-of-type {\n",
       "        vertical-align: middle;\n",
       "    }\n",
       "\n",
       "    .dataframe tbody tr th {\n",
       "        vertical-align: top;\n",
       "    }\n",
       "\n",
       "    .dataframe thead th {\n",
       "        text-align: right;\n",
       "    }\n",
       "</style>\n",
       "<table border=\"1\" class=\"dataframe\">\n",
       "  <thead>\n",
       "    <tr style=\"text-align: right;\">\n",
       "      <th></th>\n",
       "      <th>article_id</th>\n",
       "      <th>title</th>\n",
       "      <th>user_id</th>\n",
       "    </tr>\n",
       "  </thead>\n",
       "  <tbody>\n",
       "    <tr>\n",
       "      <th>0</th>\n",
       "      <td>1430.0</td>\n",
       "      <td>using pixiedust for fast, flexible, and easier...</td>\n",
       "      <td>1</td>\n",
       "    </tr>\n",
       "    <tr>\n",
       "      <th>1</th>\n",
       "      <td>1314.0</td>\n",
       "      <td>healthcare python streaming application demo</td>\n",
       "      <td>2</td>\n",
       "    </tr>\n",
       "    <tr>\n",
       "      <th>2</th>\n",
       "      <td>1429.0</td>\n",
       "      <td>use deep learning for image classification</td>\n",
       "      <td>3</td>\n",
       "    </tr>\n",
       "    <tr>\n",
       "      <th>3</th>\n",
       "      <td>1338.0</td>\n",
       "      <td>ml optimization using cognitive assistant</td>\n",
       "      <td>4</td>\n",
       "    </tr>\n",
       "    <tr>\n",
       "      <th>4</th>\n",
       "      <td>1276.0</td>\n",
       "      <td>deploy your python model as a restful api</td>\n",
       "      <td>5</td>\n",
       "    </tr>\n",
       "  </tbody>\n",
       "</table>\n",
       "</div>"
      ],
      "text/plain": [
       "   article_id                                              title  user_id\n",
       "0      1430.0  using pixiedust for fast, flexible, and easier...        1\n",
       "1      1314.0       healthcare python streaming application demo        2\n",
       "2      1429.0         use deep learning for image classification        3\n",
       "3      1338.0          ml optimization using cognitive assistant        4\n",
       "4      1276.0          deploy your python model as a restful api        5"
      ]
     },
     "execution_count": 17,
     "metadata": {},
     "output_type": "execute_result"
    }
   ],
   "source": [
    "def email_mapper(df=df):\n",
    "    ''' Maps the user email to a user_id column and remove the email column\n",
    "    \n",
    "    INPUT\n",
    "        None\n",
    "    OUTPUT:\n",
    "        None - it creates a column in df dataframe called 'user_id'\n",
    "    \n",
    "    '''\n",
    "    coded_dict = dict()\n",
    "    cter = 1\n",
    "    email_encoded = []\n",
    "    \n",
    "    for val in df['email']:\n",
    "        if val not in coded_dict:\n",
    "            coded_dict[val] = cter\n",
    "            cter+=1\n",
    "        \n",
    "        email_encoded.append(coded_dict[val])\n",
    "    return email_encoded\n",
    "\n",
    "email_encoded = email_mapper()\n",
    "del df['email']\n",
    "df['user_id'] = email_encoded\n",
    "\n",
    "# show header\n",
    "df.head()"
   ]
  },
  {
   "cell_type": "code",
   "execution_count": 18,
   "metadata": {},
   "outputs": [
    {
     "name": "stdout",
     "output_type": "stream",
     "text": [
      "It looks like you have everything right here! Nice job!\n"
     ]
    }
   ],
   "source": [
    "# Quizz test\n",
    "sol_1_dict = {\n",
    "    '`50% of individuals have _____ or fewer interactions.`': median_val,\n",
    "    '`The total number of user-article interactions in the dataset is ______.`': user_article_interactions,\n",
    "    '`The maximum number of user-article interactions by any 1 user is ______.`': max_views_by_user,\n",
    "    '`The most viewed article in the dataset was viewed _____ times.`': max_views,\n",
    "    '`The article_id of the most viewed article is ______.`': most_viewed_article_id,\n",
    "    '`The number of unique articles that have at least 1 rating ______.`': unique_articles,\n",
    "    '`The number of unique users in the dataset is ______`': unique_users,\n",
    "    '`The number of unique articles on the IBM platform`': total_articles\n",
    "}\n",
    "\n",
    "# Test your dictionary against the solution\n",
    "t.sol_1_test(sol_1_dict)"
   ]
  },
  {
   "cell_type": "markdown",
   "metadata": {},
   "source": [
    "### <a class=\"anchor\" id=\"Rank\">Part II: Rank-Based Recommendations</a>\n",
    "\n",
    "Here, I build a function to retrieve the most popular articles in the platform. <br><br>\n",
    "Article popularity is computed by the number of views the item has received (each row in `df`dataframe is an interaction between a user and an article).\n",
    "\n",
    "`1.` Fill in the function below to return the **n** top articles ordered with most interactions as the top. Test your function using the tests below."
   ]
  },
  {
   "cell_type": "code",
   "execution_count": 19,
   "metadata": {},
   "outputs": [],
   "source": [
    "def get_top_article_ids(n, df=df):\n",
    "    ''' Returns ids of most popular articles (highest number of views)\n",
    "    INPUT:\n",
    "        n - (int) the number of top articles to return\n",
    "        df - (pandas dataframe) df containing user-article interactions (each row corresponds to\n",
    "        1 user viewing 1 article) \n",
    "    \n",
    "    OUTPUT:\n",
    "        top_articles - (list) A list of the top 'n' article ids\n",
    "    \n",
    "    '''\n",
    "    df_articles_views = df[['article_id','title']].groupby('article_id').count().rename(columns={'title':'views'}).sort_values(by='views', ascending=False).reset_index()\n",
    "    top_ids = df_articles_views.iloc[:n]['article_id'].tolist()  \n",
    "    top_ids = [str(idx) for idx in top_ids] # convert to string for tests\n",
    "    return top_ids # Return the top article ids\n",
    "\n",
    "\n",
    "def get_top_articles(n, df=df):\n",
    "    ''' Returns titles of most popular articles (highest number of views)\n",
    "    INPUT:\n",
    "    n - (int) the number of top articles to return\n",
    "    df - (pandas dataframe) df as defined at the top of the notebook \n",
    "    \n",
    "    OUTPUT:\n",
    "    top_articles - (list) A list of the top 'n' article titles \n",
    "    \n",
    "    '''\n",
    "    top_articles = []\n",
    "    top_ids = get_top_article_ids(n, df=df)\n",
    "    top_ids = [float(idx) for idx in top_ids]\n",
    "    for idx in top_ids:\n",
    "        top_articles.append(df[df['article_id']==idx]['title'].iloc[0])\n",
    "    \n",
    "    return top_articles # Return the top article titles from df (not df_content)"
   ]
  },
  {
   "cell_type": "code",
   "execution_count": 20,
   "metadata": {},
   "outputs": [
    {
     "name": "stdout",
     "output_type": "stream",
     "text": [
      "['use deep learning for image classification', 'insights from new york car accident reports', 'visualize car data with brunel', 'use xgboost, scikit-learn & ibm watson machine learning apis', 'predicting churn with the spss random tree algorithm']\n",
      "['1429.0', '1330.0', '1431.0', '1427.0', '1364.0']\n"
     ]
    }
   ],
   "source": [
    "print(get_top_articles(5))\n",
    "print(get_top_article_ids(5))"
   ]
  },
  {
   "cell_type": "code",
   "execution_count": 21,
   "metadata": {},
   "outputs": [
    {
     "name": "stdout",
     "output_type": "stream",
     "text": [
      "Your top_5 looks like the solution list! Nice job.\n",
      "Your top_10 looks like the solution list! Nice job.\n",
      "Your top_20 looks like the solution list! Nice job.\n"
     ]
    }
   ],
   "source": [
    "# Test your function by returning the top 5, 10, and 20 articles\n",
    "top_5 = get_top_articles(5)\n",
    "top_10 = get_top_articles(10)\n",
    "top_20 = get_top_articles(20)\n",
    "\n",
    "# Test each of your three lists from above\n",
    "t.sol_2_test(get_top_articles)"
   ]
  },
  {
   "cell_type": "markdown",
   "metadata": {},
   "source": [
    "### <a class=\"anchor\" id=\"User-User\">Part III: User-User Based Collaborative Filtering</a>\n",
    "\n",
    "\n",
    "`1.` Let's reformat the **df** dataframe to be shaped with users as the rows and articles as the columns.  "
   ]
  },
  {
   "cell_type": "code",
   "execution_count": 22,
   "metadata": {},
   "outputs": [],
   "source": [
    "def create_user_item_df(df):\n",
    "    \"\"\" Creates the user-article matrix in dataframe format with users as rows, articles as columns, and values are 1's and 0's (1 if the user\n",
    "    has read the article regardless of the number of times he/she has read the same article, 0 otherwise)\n",
    "    \n",
    "    INPUT:\n",
    "        df - pandas dataframe with article_id, title, user_id columns\n",
    "    \n",
    "    OUTPUT:\n",
    "        user_item_df - a dataframe with users as rows, articles as columns and values are 1 if the user has seen the\n",
    "        article and 0 otherwise \n",
    "    \"\"\"\n",
    "    # create user_item df with users (ids) as rows, articles (ids) as columns and views as values\n",
    "    user_item_df = df.groupby(['user_id','article_id'])['title'].count().unstack()\n",
    "    # replace non-missing values with 1 (any numeric value should be 1) and missing values with 0\n",
    "    user_item_np = np.matrix(user_item_df)\n",
    "    np.nan_to_num(user_item_np,0)\n",
    "    user_item_np[user_item_np>0]=1\n",
    "    user_item_matrix = pd.DataFrame(user_item_np, columns = user_item_df.columns, index = user_item_df.index)\n",
    "    return user_item_matrix\n",
    "\n",
    "def create_user_item_matrix(df):\n",
    "    ''' Creates the user-article matrix in numpy array format with users as rows, articles as columns, and values are 1's and 0's (1 if the user\n",
    "    has read the article regardless of the number of times he/she has read the same article, 0 otherwise)\n",
    "    INPUT:\n",
    "        df - pandas dataframe with article_id, title, user_id columns\n",
    "    \n",
    "    OUTPUT:\n",
    "        user_item - user item matrix (numpy array)\n",
    "    \n",
    "    '''\n",
    "    user_item_matrix = np.matrix(create_user_item_df(df))\n",
    "    return user_item_matrix # return the user_item matrix "
   ]
  },
  {
   "cell_type": "code",
   "execution_count": 23,
   "metadata": {},
   "outputs": [],
   "source": [
    "user_item = create_user_item_matrix(df)\n",
    "user_item_df = create_user_item_df(df)"
   ]
  },
  {
   "cell_type": "code",
   "execution_count": 24,
   "metadata": {},
   "outputs": [
    {
     "name": "stdout",
     "output_type": "stream",
     "text": [
      "You have passed our quick tests!  Please proceed!\n"
     ]
    }
   ],
   "source": [
    "## Tests: \n",
    "assert user_item.shape[0] == 5149, \"Oops!  The number of users in the user-article matrix doesn't look right.\"\n",
    "assert user_item.shape[1] == 714, \"Oops!  The number of articles in the user-article matrix doesn't look right.\"\n",
    "assert user_item.sum(axis=1)[0] == 36, \"Oops!  The number of articles seen by user 1 doesn't look right.\"\n",
    "print(\"You have passed our quick tests!  Please proceed!\")"
   ]
  },
  {
   "cell_type": "markdown",
   "metadata": {},
   "source": [
    "`2.` Let's now create a function to find similar users by computing the dot product of the user-item matrix with its transpose to have a measure of user similarity based on the articles they have seen. Then, return the most similar users sorted by similarity, removing the user itself. "
   ]
  },
  {
   "cell_type": "code",
   "execution_count": 25,
   "metadata": {},
   "outputs": [],
   "source": [
    "users_dot_prod_np = np.dot(user_item_df,np.transpose(user_item_df))\n",
    "dot_prod_df = pd.DataFrame(users_dot_prod_np, columns = user_item_df.index, index = user_item_df.index)\n",
    "#users_dot_prod_df.to_csv('users_dot_product.csv')\n",
    "#users_dot_prod_df.head()"
   ]
  },
  {
   "cell_type": "markdown",
   "metadata": {},
   "source": [
    "Ploting the dot product of the user-item matrix with its transpose reveals very little similarity between users in the dataset, as expected above and shown below (note a stark prevalence of dark color in heatmap below):"
   ]
  },
  {
   "cell_type": "code",
   "execution_count": 26,
   "metadata": {},
   "outputs": [
    {
     "data": {
      "text/plain": [
       "<AxesSubplot: xlabel='user_id', ylabel='user_id'>"
      ]
     },
     "execution_count": 26,
     "metadata": {},
     "output_type": "execute_result"
    },
    {
     "data": {
      "image/png": "[encoded data removed]",
      "text/plain": [
       "<Figure size 640x480 with 2 Axes>"
      ]
     },
     "metadata": {},
     "output_type": "display_data"
    }
   ],
   "source": [
    "sns.heatmap(dot_prod_df)"
   ]
  },
  {
   "cell_type": "code",
   "execution_count": 27,
   "metadata": {},
   "outputs": [],
   "source": [
    "def find_similar_users(user_id, users_similarity = dot_prod_df):\n",
    "    ''' Returns a list of all other users sorted by similarity to input user_id as computed by the dot product\n",
    "    of the user-item matrix with its transpose.\n",
    "    \n",
    "    INPUT:\n",
    "        user_id - (int) a user_id\n",
    "        users_similarity (dataframe): a dataframe resulting from the dot product of the user-item matrix with its transpose\n",
    "        (contains the similarity of all users with all the other users)\n",
    "    \n",
    "    OUTPUT:\n",
    "        similar_users - (list) an ordered list where the closest users (largest dot product users)\n",
    "        are listed first\n",
    "    \n",
    "    Description:\n",
    "    Computes the similarity of every pair of users based on the dot product\n",
    "    Returns an ordered list\n",
    "    \n",
    "    '''\n",
    "    # sort users by similarity\n",
    "    user_row = user_id - 1 # df position starts at 0 and user ids start at 1\n",
    "    sorted_df = users_similarity.iloc[user_row].sort_values(ascending=False)\n",
    "    # create list of just the user ids\n",
    "    most_similar_users = sorted_df.index.tolist()\n",
    "    # remove the own user's id\n",
    "    most_similar_users.remove(user_id)\n",
    "    return most_similar_users # return a list of the users in order from most to least similar\n",
    "        "
   ]
  },
  {
   "cell_type": "code",
   "execution_count": 28,
   "metadata": {},
   "outputs": [
    {
     "name": "stdout",
     "output_type": "stream",
     "text": [
      "The 10 most similar users to user 1 are: [3933, 23, 3782, 203, 4459, 3870, 131, 4201, 46, 5041]\n",
      "The 5 most similar users to user 3933 are: [1, 23, 3782, 203, 4459]\n",
      "The 3 most similar users to user 46 are: [4201, 3782, 23]\n"
     ]
    }
   ],
   "source": [
    "# Do a spot check of your function\n",
    "print(\"The 10 most similar users to user 1 are: {}\".format(find_similar_users(1)[:10]))\n",
    "print(\"The 5 most similar users to user 3933 are: {}\".format(find_similar_users(3933)[:5]))\n",
    "print(\"The 3 most similar users to user 46 are: {}\".format(find_similar_users(46)[:3]))"
   ]
  },
  {
   "cell_type": "markdown",
   "metadata": {},
   "source": [
    "`3.` Now let's create functions to return the articles to recommend to each user. "
   ]
  },
  {
   "cell_type": "code",
   "execution_count": 29,
   "metadata": {},
   "outputs": [],
   "source": [
    "def get_article_names(article_ids, df=df):\n",
    "    ''' Returns the article names associated with a list of article ids\n",
    "    \n",
    "    INPUT:\n",
    "        article_ids - (list) a list of article ids\n",
    "        df - (pandas dataframe) df containing user-article interactions (each row corresponds to\n",
    "        1 user viewing 1 article) \n",
    "    \n",
    "    OUTPUT:\n",
    "        article_names - (list) a list of article names associated with the list of article ids \n",
    "                    (this is identified by the title column)\n",
    "    '''\n",
    "    # convert article_ids to float in case  they come as strings\n",
    "    article_ids = [float(i) for i in article_ids]\n",
    "    # then store names\n",
    "    article_names = []\n",
    "    for item in article_ids:\n",
    "        try: # if the article id is in df, get name from there\n",
    "            article_names.append(df[df['article_id']==item]['title'].iloc[0])\n",
    "        except: # get name from df_content if not in df\n",
    "            article_names.append(df_content[df_content['article_id']==item]['doc_full_name'].iloc[0])\n",
    "    return article_names"
   ]
  },
  {
   "cell_type": "code",
   "execution_count": 30,
   "metadata": {},
   "outputs": [],
   "source": [
    "def get_user_articles_full(user_id, user_item=user_item_df):\n",
    "    ''' Provides a list of the article_ids and article titles that have been seen by a user\n",
    "    INPUT:\n",
    "    user_id - (int) a user id\n",
    "    user_item - (pandas dataframe) matrix of users by articles: \n",
    "                1's when a user has interacted with an article, 0 otherwise\n",
    "    \n",
    "    OUTPUT:\n",
    "    article_ids - (list) a list of the article ids seen by the user\n",
    "    article_names - (list) a list of article names associated with the list of article ids \n",
    "                    (this is identified by the doc_full_name column in df_content)\n",
    "    \n",
    "    '''\n",
    "    article_ids = []\n",
    "    user_df = user_item[user_item.index==user_id]\n",
    "    for article_id in user_df.columns:\n",
    "        if user_df.iloc[0][article_id] == 1:\n",
    "            article_ids.append(str(article_id)) # convert article_id to string for tests\n",
    "    article_names = get_article_names(article_ids, df=df)\n",
    "    return article_ids, article_names # return the ids and names"
   ]
  },
  {
   "cell_type": "code",
   "execution_count": 31,
   "metadata": {},
   "outputs": [],
   "source": [
    "def get_user_articles(user_id, user_item=user_item_df):\n",
    "    ''' Provides a list of ids of the articles that have been seen by a user\n",
    "    INPUT:\n",
    "    user_id - (int) a user id\n",
    "    user_item - (pandas dataframe) matrix of users by articles: \n",
    "                1's when a user has interacted with an article, 0 otherwise\n",
    "    \n",
    "    OUTPUT:\n",
    "    article_ids - (list) a list of the article ids seen by the user\n",
    "    \n",
    "    '''\n",
    "    article_ids = []\n",
    "    user_df = user_item[user_item.index==user_id]\n",
    "    for article_id in user_df.columns:\n",
    "        if user_df.iloc[0][article_id] == 1:\n",
    "            article_ids.append(str(article_id)) # convert article_id to string for tests\n",
    "    return article_ids"
   ]
  },
  {
   "cell_type": "code",
   "execution_count": 32,
   "metadata": {},
   "outputs": [],
   "source": [
    "def user_user_recs(user_id, m=10):\n",
    "    ''' Makes recommendations for a input user_id based on content liked by similar users. \n",
    "    \n",
    "    INPUT:\n",
    "        user_id - (int) a user id\n",
    "        m - (int) the number of recommendations you want for the user\n",
    "    \n",
    "    OUTPUT:\n",
    "        recs - (list) a list of recommendations for the user\n",
    "    \n",
    "    Description:\n",
    "    Loops through the users based on closeness to the input user_id\n",
    "    For each user - finds articles the user hasn't seen before and provides them as recs\n",
    "    Does this until m recommendations are found\n",
    "    \n",
    "    '''\n",
    "    seen_ids, seen_titles = get_user_articles_full(user_id)\n",
    "    similar_users = find_similar_users(user_id)\n",
    "    recs = []\n",
    "    for user in similar_users:\n",
    "        #print(\"\\nUser: {}, type: {}\".format(user, type(user)))\n",
    "        # convert user to integer to be able to find it in 'df_users_items' in get_user_articles() function\n",
    "        user = int(user)\n",
    "        # get ids of articles seen by that user\n",
    "        new_ids = get_user_articles(user)\n",
    "        # save ids in recs\n",
    "        recs.extend(new_ids)\n",
    "        # remove articles already seen by input user\n",
    "        recs = list(set(recs) - set(seen_ids))\n",
    "        # if number of collected recommendations exceeds m, stop loop\n",
    "        if len(recs) > m-1:\n",
    "            break\n",
    "    return recs[:m] # return your recommendations for this user_id    "
   ]
  },
  {
   "cell_type": "code",
   "execution_count": 33,
   "metadata": {},
   "outputs": [
    {
     "data": {
      "text/plain": [
       "['how smart catalogs can turn the big data flood into an ocean of opportunity',\n",
       " 'this week in data science (april 18, 2017)',\n",
       " 'a tensorflow regression model to predict house values',\n",
       " 'using github for project control in dsx',\n",
       " 'perform sentiment analysis with lstms, using tensorflow',\n",
       " 'spark-based machine learning tools for capturing word meanings',\n",
       " 'using deep learning with keras to predict customer churn',\n",
       " 'visualize data with the matplotlib library',\n",
       " 'leverage python, scikit, and text classification for behavioral profiling',\n",
       " 'analyze precipitation data']"
      ]
     },
     "execution_count": 33,
     "metadata": {},
     "output_type": "execute_result"
    }
   ],
   "source": [
    "# Check Results\n",
    "get_article_names(user_user_recs(1, 10)) # Return 10 recommendations for user 1"
   ]
  },
  {
   "cell_type": "code",
   "execution_count": 34,
   "metadata": {},
   "outputs": [
    {
     "name": "stdout",
     "output_type": "stream",
     "text": [
      "If this is all you see, you passed all of our tests!  Nice job!\n"
     ]
    }
   ],
   "source": [
    "# Test your functions here - No need to change this code - just run this cell\n",
    "assert set(get_article_names(['1024.0', '1176.0', '1305.0', '1314.0', '1422.0', '1427.0'])) == set(['using deep learning to reconstruct high-resolution audio', 'build a python app on the streaming analytics service', 'gosales transactions for naive bayes model', 'healthcare python streaming application demo', 'use r dataframes & ibm watson natural language understanding', 'use xgboost, scikit-learn & ibm watson machine learning apis']), \"Oops! Your the get_article_names function doesn't work quite how we expect.\"\n",
    "assert set(get_article_names(['1320.0', '232.0', '844.0'])) == set(['housing (2015): united states demographic measures','self-service data preparation with ibm data refinery','use the cloudant-spark connector in python notebook']), \"Oops! Your the get_article_names function doesn't work quite how we expect.\"\n",
    "assert set(get_user_articles_full(20)[0]) == set(['1320.0', '232.0', '844.0'])\n",
    "assert set(get_user_articles_full(20)[1]) == set(['housing (2015): united states demographic measures', 'self-service data preparation with ibm data refinery','use the cloudant-spark connector in python notebook'])\n",
    "assert set(get_user_articles_full(2)[0]) == set(['1024.0', '1176.0', '1305.0', '1314.0', '1422.0', '1427.0'])\n",
    "assert set(get_user_articles_full(2)[1]) == set(['using deep learning to reconstruct high-resolution audio', 'build a python app on the streaming analytics service', 'gosales transactions for naive bayes model', 'healthcare python streaming application demo', 'use r dataframes & ibm watson natural language understanding', 'use xgboost, scikit-learn & ibm watson machine learning apis'])\n",
    "print(\"If this is all you see, you passed all of our tests!  Nice job!\")"
   ]
  },
  {
   "cell_type": "markdown",
   "metadata": {},
   "source": [
    "`4.` Now we are going to improve the consistency of the **user_user_recs** function from above.  \n",
    "\n",
    "* Instead of arbitrarily choosing when we obtain users who are all the same closeness to a given user - choose the users that have the most total article interactions before choosing those with fewer article interactions.\n",
    "\n",
    "\n",
    "* Instead of arbitrarily choosing articles from the user, choose articles with the most total interactions before choosing those with fewer total interactions."
   ]
  },
  {
   "cell_type": "code",
   "execution_count": 35,
   "metadata": {},
   "outputs": [],
   "source": [
    "def get_top_sorted_users(user_id, df=df, users_similarity = dot_prod_df):\n",
    "    ''' Gives a list of users that are most similar to the input user_id and that are the most active\n",
    "    \n",
    "    INPUT:\n",
    "        user_id - (int)\n",
    "        df - (pandas dataframe) df containing user-article interactions (each row corresponds to 1 user viewing 1 article)\n",
    "        users_similarity (dataframe): a dataframe resulting from the dot product of the user-item matrix with its transpose\n",
    "        (contains the similarity of all users with all the other users)\n",
    "    \n",
    "            \n",
    "    OUTPUT:\n",
    "    neighbors_df - (pandas dataframe) a dataframe with:\n",
    "                    neighbor_id - is a neighbor user_id\n",
    "                    similarity - measure of the similarity of each user to the provided user_id\n",
    "                    num_interactions - the number of articles viewed by the user - if a u\n",
    "                    \n",
    "    Other Details - sort the neighbors_df by the similarity and then by number of interactions where \n",
    "                    highest of each is higher in the dataframe\n",
    "     \n",
    "    '''\n",
    "    # load dot_product_df and get row of user_id from users_similarity dataframe\n",
    "    #dot_prod_df = pd.read_csv('users_dot_product.csv')\n",
    "    #dot_prod_df.set_index('user_id', inplace=True)\n",
    "    #user_df = dot_prod_df[dot_prod_df.index==user_id]\n",
    "    user_df = users_similarity[users_similarity.index==user_id]\n",
    "    \n",
    "    # transpose row to have column of similarity and index = neighbour id\n",
    "    user_df_transpose = user_df.transpose().rename(columns={user_id:'simmilarity'})\n",
    "    \n",
    "    # append number of articles viewed by user. One option is unique articles. Another option is total views\n",
    "    user_df_transpose.index = user_df_transpose.index.astype(int)\n",
    "    user_df_transpose.index.name = 'user_id'\n",
    "    df_views_users = df[['user_id','title']].groupby(['user_id']).count().rename(columns={'title':'n_views'}) # total views\n",
    "    neighbors_df = user_df_transpose.merge(df_views_users, on='user_id')\n",
    "    \n",
    "    # sort \n",
    "    neighbors_df.sort_values(by=['simmilarity','n_views'], ascending=False, inplace=True)\n",
    "\n",
    "    # remove input user\n",
    "    neighbors_df = neighbors_df[neighbors_df.index != user_id]\n",
    "    \n",
    "    return neighbors_df # Return the dataframe specified in the doc_string\n"
   ]
  },
  {
   "cell_type": "code",
   "execution_count": 36,
   "metadata": {},
   "outputs": [],
   "source": [
    "def user_user_recs_part2(user_id, m=10):\n",
    "    ''' Gives recommendations to a user_id by pulling articles seen by similar users, sorted by user and article activity \n",
    "    in the platform (similar users with highest interactions are considered first, and articles with highest number of\n",
    "    views are also considered first)\n",
    "    \n",
    "    INPUT:\n",
    "    user_id - (int) a user id\n",
    "    m - (int) the number of recommendations you want for the user\n",
    "    \n",
    "    OUTPUT:\n",
    "    recs - (list) a list of recommendations for the user by article id\n",
    "    rec_names - (list) a list of recommendations for the user by article title\n",
    "    \n",
    "    Description:\n",
    "    Loops through the users based on closeness to the input user_id\n",
    "    For each user - finds articles the user hasn't seen before and provides them as recs\n",
    "    Does this until m recommendations are found\n",
    "    \n",
    "    Notes:\n",
    "    * Choose the users that have the most total article interactions \n",
    "    before choosing those with fewer article interactions.\n",
    "\n",
    "    * Choose articles with the most total interactions \n",
    "    before choosing those with fewer total interactions. \n",
    "   \n",
    "    '''\n",
    "    # Get articles seen by user\n",
    "    seen_ids = get_user_articles(user_id)\n",
    "    # Find similar users, favouring users with more interactions\n",
    "    similar_users = get_top_sorted_users(user_id, df=df).index.tolist()\n",
    "    # Loop over similar users storing recommendations in recs\n",
    "    recs = []\n",
    "    for user in similar_users:\n",
    "        #print(\"\\nUser: {}, type: {}\".format(user, type(user)))\n",
    "        # convert user to integer to be able to find it in 'df_users_items' in get_user_articles() function\n",
    "        user = int(user)\n",
    "        # For each user get his/her articles\n",
    "        new_ids = get_user_articles(user)\n",
    "        # sort articles by number of views\n",
    "        df_views_articles = df[['article_id','title']].groupby(['article_id']).count().rename(columns={'title':'n_views'})\n",
    "        new_ids = [float(idx) for idx in new_ids]\n",
    "        sorted_articles = df_views_articles[df_views_articles.index.isin(new_ids)].sort_values(by='n_views', ascending=False).index.tolist()\n",
    "        # save ids in recs\n",
    "        recs.extend(sorted_articles)\n",
    "        # remove articles already seen by input user\n",
    "        recs = list(set(recs) - set(seen_ids))\n",
    "        # if number of collected recommendations exceeds m, stop loop\n",
    "        if len(recs) > m-1:\n",
    "            break\n",
    "    # convert ids back to string and get only those requested by m\n",
    "    recs = [str(idx) for idx in recs][:m]\n",
    "    rec_names = get_article_names(recs, df=df)\n",
    "    return recs, rec_names"
   ]
  },
  {
   "cell_type": "code",
   "execution_count": 37,
   "metadata": {},
   "outputs": [
    {
     "name": "stdout",
     "output_type": "stream",
     "text": [
      "The top 10 recommendations for user 20 are the following article ids:\n",
      "['1024.0', '12.0', '1296.0', '1304.0', '793.0', '555.0', '1324.0', '302.0', '1329.0', '1330.0']\n",
      "\n",
      "The top 10 recommendations for user 20 are the following article names:\n",
      "['using deep learning to reconstruct high-resolution audio', 'timeseries data analysis of iot events by using jupyter notebook', 'fortune 100 companies', 'gosales transactions for logistic regression model', '10 powerful features on watson data platform, no coding necessary', 'build a naive-bayes model with wml & dsx', 'ibm watson facebook posts for 2015', 'accelerate your workflow with dsx', 'ingest data from message hub in a streams flow', 'insights from new york car accident reports']\n"
     ]
    }
   ],
   "source": [
    "# Quick spot check - don't change this code - just use it to test your functions\n",
    "rec_ids, rec_names = user_user_recs_part2(20, 10)\n",
    "print(\"The top 10 recommendations for user 20 are the following article ids:\")\n",
    "print(rec_ids)\n",
    "print()\n",
    "print(\"The top 10 recommendations for user 20 are the following article names:\")\n",
    "print(rec_names)"
   ]
  },
  {
   "cell_type": "markdown",
   "metadata": {},
   "source": [
    "`5.` Use your functions from above to correctly fill in the solutions to the dictionary below.  Then test your dictionary against the solution."
   ]
  },
  {
   "cell_type": "code",
   "execution_count": 38,
   "metadata": {},
   "outputs": [],
   "source": [
    "### Tests with a dictionary of results\n",
    "\n",
    "user1_most_sim = get_top_sorted_users(1, df=df).index.tolist()[0] # Find the user that is most similar to user 1 \n",
    "user131_10th_sim = get_top_sorted_users(131, df=df).index.tolist()[9] # Find the 10th most similar user to user 131"
   ]
  },
  {
   "cell_type": "code",
   "execution_count": 39,
   "metadata": {},
   "outputs": [
    {
     "name": "stdout",
     "output_type": "stream",
     "text": [
      "This all looks good!  Nice job!\n"
     ]
    }
   ],
   "source": [
    "## Dictionary Test Here\n",
    "sol_5_dict = {\n",
    "    'The user that is most similar to user 1.': user1_most_sim, \n",
    "    'The user that is the 10th most similar to user 131': user131_10th_sim,\n",
    "}\n",
    "\n",
    "t.sol_5_test(sol_5_dict)"
   ]
  },
  {
   "cell_type": "markdown",
   "metadata": {},
   "source": [
    "`6.` If we were given a new user, which of the above functions would I be able to use to make recommendations?"
   ]
  },
  {
   "cell_type": "markdown",
   "metadata": {},
   "source": [
    "For new users, I would show the most popular articles using the function 'get_top_articles' above. As we do not have info about new user preferences, we cannot make anything better than showing what is most popular in the platform. We could improve those recommendations by gathering some input about user characteristics and filter the recommendations accordingly (Knowledge based recommendation approach). For example, we could ask user age and try for find popular items among the same user age group. Or we could ask new users to input 2-3 article categories they are most interested in and start showing articles pertaining to those content categories."
   ]
  },
  {
   "cell_type": "markdown",
   "metadata": {},
   "source": [
    "`7.` Using the existing functions, I provide now the top 10 recommended articles for a new user below."
   ]
  },
  {
   "cell_type": "code",
   "execution_count": 40,
   "metadata": {},
   "outputs": [],
   "source": [
    "new_user = '0.0'\n",
    "\n",
    "# What would your recommendations be for this new user '0.0'?  As a new user, they have no observed articles.\n",
    "# Provide a list of the top 10 article ids you would give to \n",
    "new_user_recs = get_top_article_ids(10) # Your recommendations here"
   ]
  },
  {
   "cell_type": "code",
   "execution_count": 41,
   "metadata": {},
   "outputs": [
    {
     "name": "stdout",
     "output_type": "stream",
     "text": [
      "That's right!  Nice job!\n"
     ]
    }
   ],
   "source": [
    "assert set(new_user_recs) == set(['1314.0','1429.0','1293.0','1427.0','1162.0','1364.0','1304.0','1170.0','1431.0','1330.0']), \"Oops!  It makes sense that in this case we would want to recommend the most popular articles, because we don't know anything about these users.\"\n",
    "\n",
    "print(\"That's right!  Nice job!\")"
   ]
  },
  {
   "cell_type": "markdown",
   "metadata": {},
   "source": [
    "### <a class=\"anchor\" id=\"Content-Recs\">Part IV: Content Based Recommendations (EXTRA)</a>\n",
    "\n",
    "Another method we might use to make recommendations is to perform a ranking of the highest ranked articles associated with some term in either of the **doc_body**, **doc_description**, or **doc_full_name** columns.  <br><br>\n",
    "Another approach, that I follow here, is to use Natural Language Processing (NLP) to identify articles that are most similar to each other and then pull articles that are similar to those already seen by the user. \n",
    "\n",
    "`1.` Let's thus create below a content based recommender.  Let's first explore if the dataframes df and df_content are consistent in the info they contain about the articles in the platform"
   ]
  },
  {
   "cell_type": "markdown",
   "metadata": {},
   "source": [
    "An exploratory analysis reveals that there are some articles with which users have interacted (present in dataframe 'df') for which we do not have text data in dataframe 'df_content'. There are 277 articles as such. These articles are skiped for content-based recommendations."
   ]
  },
  {
   "cell_type": "code",
   "execution_count": 42,
   "metadata": {},
   "outputs": [
    {
     "data": {
      "text/html": [
       "<div>\n",
       "<style scoped>\n",
       "    .dataframe tbody tr th:only-of-type {\n",
       "        vertical-align: middle;\n",
       "    }\n",
       "\n",
       "    .dataframe tbody tr th {\n",
       "        vertical-align: top;\n",
       "    }\n",
       "\n",
       "    .dataframe thead th {\n",
       "        text-align: right;\n",
       "    }\n",
       "</style>\n",
       "<table border=\"1\" class=\"dataframe\">\n",
       "  <thead>\n",
       "    <tr style=\"text-align: right;\">\n",
       "      <th></th>\n",
       "      <th>article_id</th>\n",
       "      <th>title</th>\n",
       "      <th>user_id</th>\n",
       "    </tr>\n",
       "  </thead>\n",
       "  <tbody>\n",
       "    <tr>\n",
       "      <th>0</th>\n",
       "      <td>1430.0</td>\n",
       "      <td>using pixiedust for fast, flexible, and easier...</td>\n",
       "      <td>1</td>\n",
       "    </tr>\n",
       "    <tr>\n",
       "      <th>1</th>\n",
       "      <td>1314.0</td>\n",
       "      <td>healthcare python streaming application demo</td>\n",
       "      <td>2</td>\n",
       "    </tr>\n",
       "    <tr>\n",
       "      <th>2</th>\n",
       "      <td>1429.0</td>\n",
       "      <td>use deep learning for image classification</td>\n",
       "      <td>3</td>\n",
       "    </tr>\n",
       "    <tr>\n",
       "      <th>3</th>\n",
       "      <td>1338.0</td>\n",
       "      <td>ml optimization using cognitive assistant</td>\n",
       "      <td>4</td>\n",
       "    </tr>\n",
       "    <tr>\n",
       "      <th>4</th>\n",
       "      <td>1276.0</td>\n",
       "      <td>deploy your python model as a restful api</td>\n",
       "      <td>5</td>\n",
       "    </tr>\n",
       "  </tbody>\n",
       "</table>\n",
       "</div>"
      ],
      "text/plain": [
       "   article_id                                              title  user_id\n",
       "0      1430.0  using pixiedust for fast, flexible, and easier...        1\n",
       "1      1314.0       healthcare python streaming application demo        2\n",
       "2      1429.0         use deep learning for image classification        3\n",
       "3      1338.0          ml optimization using cognitive assistant        4\n",
       "4      1276.0          deploy your python model as a restful api        5"
      ]
     },
     "execution_count": 42,
     "metadata": {},
     "output_type": "execute_result"
    }
   ],
   "source": [
    "df.head()"
   ]
  },
  {
   "cell_type": "code",
   "execution_count": 43,
   "metadata": {},
   "outputs": [
    {
     "data": {
      "text/html": [
       "<div>\n",
       "<style scoped>\n",
       "    .dataframe tbody tr th:only-of-type {\n",
       "        vertical-align: middle;\n",
       "    }\n",
       "\n",
       "    .dataframe tbody tr th {\n",
       "        vertical-align: top;\n",
       "    }\n",
       "\n",
       "    .dataframe thead th {\n",
       "        text-align: right;\n",
       "    }\n",
       "</style>\n",
       "<table border=\"1\" class=\"dataframe\">\n",
       "  <thead>\n",
       "    <tr style=\"text-align: right;\">\n",
       "      <th></th>\n",
       "      <th>doc_body</th>\n",
       "      <th>doc_description</th>\n",
       "      <th>doc_full_name</th>\n",
       "      <th>doc_status</th>\n",
       "      <th>article_id</th>\n",
       "    </tr>\n",
       "  </thead>\n",
       "  <tbody>\n",
       "    <tr>\n",
       "      <th>0</th>\n",
       "      <td>Skip navigation Sign in SearchLoading...\\r\\n\\r...</td>\n",
       "      <td>Detect bad readings in real time using Python ...</td>\n",
       "      <td>Detect Malfunctioning IoT Sensors with Streami...</td>\n",
       "      <td>Live</td>\n",
       "      <td>0</td>\n",
       "    </tr>\n",
       "    <tr>\n",
       "      <th>1</th>\n",
       "      <td>No Free Hunch Navigation * kaggle.com\\r\\n\\r\\n ...</td>\n",
       "      <td>See the forest, see the trees. Here lies the c...</td>\n",
       "      <td>Communicating data science: A guide to present...</td>\n",
       "      <td>Live</td>\n",
       "      <td>1</td>\n",
       "    </tr>\n",
       "    <tr>\n",
       "      <th>2</th>\n",
       "      <td>☰ * Login\\r\\n * Sign Up\\r\\n\\r\\n * Learning Pat...</td>\n",
       "      <td>Here’s this week’s news in Data Science and Bi...</td>\n",
       "      <td>This Week in Data Science (April 18, 2017)</td>\n",
       "      <td>Live</td>\n",
       "      <td>2</td>\n",
       "    </tr>\n",
       "    <tr>\n",
       "      <th>3</th>\n",
       "      <td>DATALAYER: HIGH THROUGHPUT, LOW LATENCY AT SCA...</td>\n",
       "      <td>Learn how distributed DBs solve the problem of...</td>\n",
       "      <td>DataLayer Conference: Boost the performance of...</td>\n",
       "      <td>Live</td>\n",
       "      <td>3</td>\n",
       "    </tr>\n",
       "    <tr>\n",
       "      <th>4</th>\n",
       "      <td>Skip navigation Sign in SearchLoading...\\r\\n\\r...</td>\n",
       "      <td>This video demonstrates the power of IBM DataS...</td>\n",
       "      <td>Analyze NY Restaurant data using Spark in DSX</td>\n",
       "      <td>Live</td>\n",
       "      <td>4</td>\n",
       "    </tr>\n",
       "  </tbody>\n",
       "</table>\n",
       "</div>"
      ],
      "text/plain": [
       "                                            doc_body  \\\n",
       "0  Skip navigation Sign in SearchLoading...\\r\\n\\r...   \n",
       "1  No Free Hunch Navigation * kaggle.com\\r\\n\\r\\n ...   \n",
       "2  ☰ * Login\\r\\n * Sign Up\\r\\n\\r\\n * Learning Pat...   \n",
       "3  DATALAYER: HIGH THROUGHPUT, LOW LATENCY AT SCA...   \n",
       "4  Skip navigation Sign in SearchLoading...\\r\\n\\r...   \n",
       "\n",
       "                                     doc_description  \\\n",
       "0  Detect bad readings in real time using Python ...   \n",
       "1  See the forest, see the trees. Here lies the c...   \n",
       "2  Here’s this week’s news in Data Science and Bi...   \n",
       "3  Learn how distributed DBs solve the problem of...   \n",
       "4  This video demonstrates the power of IBM DataS...   \n",
       "\n",
       "                                       doc_full_name doc_status  article_id  \n",
       "0  Detect Malfunctioning IoT Sensors with Streami...       Live           0  \n",
       "1  Communicating data science: A guide to present...       Live           1  \n",
       "2         This Week in Data Science (April 18, 2017)       Live           2  \n",
       "3  DataLayer Conference: Boost the performance of...       Live           3  \n",
       "4      Analyze NY Restaurant data using Spark in DSX       Live           4  "
      ]
     },
     "execution_count": 43,
     "metadata": {},
     "output_type": "execute_result"
    }
   ],
   "source": [
    "df_content.head()"
   ]
  },
  {
   "cell_type": "code",
   "execution_count": 44,
   "metadata": {},
   "outputs": [
    {
     "name": "stdout",
     "output_type": "stream",
     "text": [
      "Unique articles in df_content: 1051, min id = 0, max id = 1050\n",
      "Unique articles in df: 714, min id = 0.0, max id = 1444.0\n"
     ]
    }
   ],
   "source": [
    "print(\"Unique articles in df_content: {}, min id = {}, max id = {}\".format(df_content['article_id'].nunique(), df_content['article_id'].min(), df_content['article_id'].max()))\n",
    "print(\"Unique articles in df: {}, min id = {}, max id = {}\".format(df['article_id'].nunique(), df['article_id'].min(), df['article_id'].max()))"
   ]
  },
  {
   "cell_type": "code",
   "execution_count": 45,
   "metadata": {},
   "outputs": [
    {
     "name": "stdout",
     "output_type": "stream",
     "text": [
      "Number of articles in df that are not present in df_content = 277\n"
     ]
    }
   ],
   "source": [
    "n = len(set(df['article_id'].tolist()) - set(df_content['article_id'].tolist()))\n",
    "print(\"Number of articles in df that are not present in df_content = {}\".format(n))"
   ]
  },
  {
   "cell_type": "markdown",
   "metadata": {},
   "source": [
    "Printing article titles in both df and df_content reveals that article titles do match. Even if there are some articles in df_content that do not exist in df, the ids and titles match (note column names are not the same, 'titles' in df, 'doc_full_name' in df_content):"
   ]
  },
  {
   "cell_type": "code",
   "execution_count": 46,
   "metadata": {},
   "outputs": [
    {
     "name": "stdout",
     "output_type": "stream",
     "text": [
      "In df, article with id = 0 has the title ('title'):\n",
      "--\n",
      "detect malfunctioning iot sensors with streaming analytics\n",
      "\n",
      "---\n",
      "In df_content, the article with id = 0 has the title ('doc_full_name'):\n",
      "--\n",
      "Detect Malfunctioning IoT Sensors with Streaming Analytics\n",
      "\n",
      "\n",
      "\n",
      "***\n",
      "In df, article with id = 1 has the title ('title'):\n",
      "--\n",
      "No value\n",
      "\n",
      "---\n",
      "In df_content, the article with id = 1 has the title ('doc_full_name'):\n",
      "--\n",
      "Communicating data science: A guide to presenting your work\n",
      "\n",
      "\n",
      "\n",
      "***\n",
      "In df, article with id = 2 has the title ('title'):\n",
      "--\n",
      "this week in data science (april 18, 2017)\n",
      "\n",
      "---\n",
      "In df_content, the article with id = 2 has the title ('doc_full_name'):\n",
      "--\n",
      "This Week in Data Science (April 18, 2017)\n",
      "\n",
      "\n",
      "\n",
      "***\n",
      "In df, article with id = 3 has the title ('title'):\n",
      "--\n",
      "No value\n",
      "\n",
      "---\n",
      "In df_content, the article with id = 3 has the title ('doc_full_name'):\n",
      "--\n",
      "DataLayer Conference: Boost the performance of your distributed database\n",
      "\n",
      "\n",
      "\n",
      "***\n",
      "In df, article with id = 4 has the title ('title'):\n",
      "--\n",
      "analyze ny restaurant data using spark in dsx\n",
      "\n",
      "---\n",
      "In df_content, the article with id = 4 has the title ('doc_full_name'):\n",
      "--\n",
      "Analyze NY Restaurant data using Spark in DSX\n",
      "\n",
      "\n",
      "\n",
      "***\n"
     ]
    }
   ],
   "source": [
    "for idx in range(5):\n",
    "    try:\n",
    "        df_title = df[df['article_id']==idx]['title'].iloc[0]\n",
    "    except:\n",
    "        df_title = \"No value\"\n",
    "    try:\n",
    "        df_content_title = df_content[df_content['article_id']==idx]['doc_full_name'].iloc[0]\n",
    "    except:\n",
    "        df_content_title = \"No value\"\n",
    "    print(\"In df, article with id = {} has the title ('title'):\\n--\\n{}\\n\\n---\".format(idx, df_title))\n",
    "    print(\"In df_content, the article with id = {} has the title ('doc_full_name'):\\n--\\n{}\\n\\n\\n\\n***\".format(idx, df_content_title))    "
   ]
  },
  {
   "cell_type": "markdown",
   "metadata": {},
   "source": [
    "Content based recommendations using NLP consists of finding article simmilarities in their text. By computing a simmilarity matrix (analogous to what we've done with users before), it's a straightforward process: if a user likes one article, then pull similar articles from that matrix. One way to do that is using vectorization with TfdIf of articles title text."
   ]
  },
  {
   "cell_type": "code",
   "execution_count": 47,
   "metadata": {},
   "outputs": [
    {
     "data": {
      "text/plain": [
       "['Detect Malfunctioning IoT Sensors with Streaming Analytics',\n",
       " 'Communicating data science: A guide to presenting your work',\n",
       " 'This Week in Data Science (April 18, 2017)',\n",
       " 'DataLayer Conference: Boost the performance of your distributed database',\n",
       " 'Analyze NY Restaurant data using Spark in DSX',\n",
       " 'Browsing PostgreSQL Data with Compose',\n",
       " 'Upgrading your PostgreSQL to 9.5',\n",
       " 'Data Wrangling at Slack',\n",
       " 'Data Science Bowl 2017',\n",
       " 'Using Apache Spark to predict attack vectors among billions of users and trillions of events']"
      ]
     },
     "execution_count": 47,
     "metadata": {},
     "output_type": "execute_result"
    }
   ],
   "source": [
    "# Articles text example\n",
    "df_content['doc_full_name'].tolist()[0:10]"
   ]
  },
  {
   "cell_type": "code",
   "execution_count": 48,
   "metadata": {},
   "outputs": [
    {
     "name": "stdout",
     "output_type": "stream",
     "text": [
      "{'detect': 463, 'malfunctioning': 997, 'iot': 867, 'sensors': 1466, 'with': 1794, 'streaming': 1570, 'analytics': 96, 'communicating': 336, 'data': 421, 'science': 1433, 'guide': 743, 'to': 1658, 'presenting': 1266, 'your': 1822, 'work': 1801, 'this': 1641, 'week': 1780, 'in': 824, 'april': 120, '18': 14, '2017': 19, 'datalayer': 424, 'conference': 347, 'boost': 214, 'the': 1632, 'performance': 1199, 'of': 1141, 'distributed': 491, 'database': 422, 'analyze': 97, 'ny': 1130, 'restaurant': 1384, 'using': 1730, 'spark': 1526, 'dsx': 518, 'browsing': 231, 'postgresql': 1242, 'compose': 343, 'upgrading': 1717, 'wrangling': 1810, 'at': 137, 'slack': 1508, 'bowl': 219, 'apache': 108, 'predict': 1256, 'attack': 138, 'vectors': 1741, 'among': 89, 'billions': 203, 'users': 1728, 'and': 100, 'trillions': 1686, 'events': 587, 'offline': 1143, 'first': 642, 'ios': 866, 'apps': 119, 'swift': 1594, 'cloudant': 310, 'sync': 1597, 'part': 1189, 'datastore': 427, 'warehousing': 1764, 'geojson': 708, 'documents': 500, 'timeseries': 1654, 'analysis': 93, 'by': 242, 'jupyter': 894, 'notebook': 1122, 'bridging': 227, 'gap': 696, 'between': 194, 'python': 1306, 'scala': 1424, 'notebooks': 1123, 'got': 726, 'zip': 1827, 'code': 314, 'prep': 1263, 'it': 871, 'for': 662, 'ibm': 799, 'watson': 1768, 'lab': 918, 'medium': 1030, 'extend': 613, 'structured': 1576, 'ml': 1057, 'higher': 771, 'order': 1162, 'logistic': 969, 'regression': 1361, 'large': 927, 'datasets': 426, 'mysql': 1088, 'now': 1128, 'you': 1821, 'greatest': 736, 'public': 1295, 'ai': 71, 'startup': 1551, 'grind': 738, 'finding': 639, 'mode': 1061, 'working': 1806, 'interactively': 853, 'rstudio': 1408, 'mapping': 1007, 'pixiedust': 1221, 'mapbox': 1006, 'move': 1076, 'csvs': 409, 'into': 861, 'different': 475, 'json': 890, 'doc': 496, 'stores': 1565, 'tutorial': 1691, 'how': 786, 'build': 234, 'query': 1311, 'geospatial': 709, 'index': 827, 'conversational': 376, 'interface': 856, 'is': 870, 'new': 1105, 'paradigm': 1184, 'creating': 400, 'experience': 601, 'machine': 986, 'learning': 938, 'parking': 1188, 'difficulty': 477, 'getting': 713, 'best': 191, 'pyspark': 1305, 'deep': 440, 'forest': 666, 'towards': 1666, 'an': 91, 'alternative': 81, 'neural': 1101, 'networks': 1100, 'coursera': 394, 'open': 1149, 'api': 110, 'economy': 529, 'accelerates': 40, 'growth': 741, 'big': 198, 'sign': 1498, 'up': 1712, 'free': 679, 'trial': 1683, 'kaggler': 898, 'model': 1062, 'stacking': 1544, 'practice': 1252, 'brunel': 232, 'ipython': 868, 'top': 1663, '10': 6, 'use': 1724, 'cases': 262, 'gaze': 697, 'my': 1086, 'reddit': 1354, 'crystal': 406, 'ball': 171, 'visualization': 1753, 'playbook': 1224, 'right': 1396, 'level': 944, 'detail': 461, 'create': 398, 'custom': 413, 'domain': 503, 'cloudflare': 311, 'developers': 467, 'querying': 1312, 'primary': 1271, 'pulling': 1299, 'displaying': 489, 'etf': 581, 'ensemble': 567, 'improve': 819, 'results': 1388, 'customizing': 415, 'mongodb': 1070, 'shell': 1489, 'compact': 338, 'prompts': 1288, 'started': 1549, 'scylladb': 1447, 'tensorflow': 1624, 'course': 393, 'university': 1706, 'uncover': 1701, 'product': 1279, 'insights': 844, 'hidden': 769, 'stack': 1543, 'overflow': 1171, 'start': 1548, 'developing': 468, 'voting': 1758, 'app': 112, 'rethinkdb': 1389, 'install': 845, 'conversion': 377, 'workbench': 1802, 'documentation': 498, 'geofile': 707, 'openstreetmap': 1151, 'ii': 808, 'graph': 730, 'based': 173, 'modern': 1066, 'algorithms': 78, 'introducing': 863, 'streams': 1572, 'designer': 458, 'ways': 1770, 'turn': 1690, 'value': 1735, 'flight': 650, 'delays': 446, 'mllib': 1058, 'flightstats': 652, 'weather': 1773, 'simple': 1501, 'autocomplete': 149, 'service': 1474, 'transfer': 1675, 'delay': 445, 'prediction': 1258, 'via': 1746, 'variational': 1739, 'autoencoders': 150, 'advancements': 60, 'community': 337, 'tame': 1611, 'valley': 1734, 'hessian': 768, 'hacks': 750, 'optimizing': 1159, 'neuralnetworks': 1103, 'autonomous': 153, 'agents': 67, 'readr': 1339, 'metrics': 1039, 'maven': 1023, 'window': 1791, 'functions': 689, 'importance': 815, 'excluding': 597, 'unnecessary': 1709, 'details': 462, 'making': 996, 'more': 1072, 'predicting': 1257, 'gentrification': 705, 'longitudinal': 973, 'census': 269, 'interconnect': 854, 'us': 1721, 'foodtracker': 661, 'find': 637, 'mongo': 1069, 'document': 497, 'id': 803, 'php': 1210, 'library': 949, 'introduction': 864, 'scientific': 1434, 'bit': 205, 'maths': 1020, 'behind': 189, 'numpy': 1129, 'calculating': 248, 'moving': 1080, 'average': 156, 'pouchdb': 1244, 'collection': 323, 'web': 1774, 'node': 1115, 'js': 889, 'could': 391, 'be': 181, 'next': 1107, 'september': 1468, '27': 28, '2016': 18, 'kinds': 909, 'context': 368, 'art': 131, 'frame': 674, 'tour': 1665, 'may': 1025, 'scale': 1426, '60': 34, 'tb': 1616, 'production': 1280, 'case': 261, '16': 12, 'action': 48, 'leverage': 945, 'scikit': 1437, 'learn': 936, 'models': 1065, 'core': 383, 'transform': 1676, 'anything': 107, 'vector': 1740, 'wml': 1797, 'janusgraph': 877, 'load': 964, 'twitter': 1695, 'dashdb': 420, 'testthat': 1628, 'beyond': 195, 'july': 893, '26': 27, 'collector': 324, 'microservices': 1040, 'edition': 531, '20': 16, 'packages': 1177, 'import': 814, 'website': 1779, 'engagement': 559, 'tracking': 1670, 'elasticsearch': 538, 'mistakes': 1054, 'avoid': 159, 'when': 1785, 'starting': 1550, 'career': 259, 'deploy': 451, 'application': 115, 'bluemix': 212, 'armand': 125, 'ruiz': 1410, 'gabernet': 692, 'bigdatanyc': 199, 'thecube': 1633, 'december': 438, 'improving': 822, 'quality': 1309, 'life': 950, 'empowered': 553, 'november': 1127, '08': 4, 'map': 1005, 'usa': 1722, 'rivers': 1398, 'ggplot2': 715, 'seven': 1482, 'databases': 423, 'days': 433, 'day': 432, 'assets': 135, 'project': 1286, 'catalog': 264, 'choose': 289, 'ease': 525, 'strain': 1568, 'as': 133, 'volumes': 1757, 'rise': 1397, '15': 11, 'building': 236, 'progressive': 1285, 'function': 688, 'drives': 513, 'design': 457, 'matters': 1022, 'erik': 574, 'bernhardsson': 190, 'fast': 625, 'flexible': 649, 'easier': 526, 'experimentation': 602, 'quick': 1317, 'tips': 1655, 'magic': 988, 'tidy': 1648, 'scripts': 1444, 'systemml': 1601, 'february': 630, '28': 29, 'all': 79, 'user': 1727, 'practical': 1251, 'on': 1146, 'random': 1324, 'parameter': 1187, 'tuning': 1689, 'migrating': 1044, 'applications': 116, 'most': 1073, 'customer': 414, 'one': 1147, 'preschool': 1265, 'launch': 929, 'job': 883, 'submit': 1581, 'dynamic': 523, 'duo': 520, 'inside': 842, 'picking': 1211, 'sql': 1537, 'or': 1160, 'nosql': 1120, 'view': 1749, 'what': 1784, 'hoopla': 779, 'about': 38, 'statistics': 1555, 'hackers': 748, 'joinery': 885, 'meteor': 1035, 'couchdb': 388, 'search': 1449, 'faceting': 622, 'from': 683, 'scratch': 1440, 'translating': 1679, 'backend': 165, 'frontend': 684, 'needs': 1096, 'feature': 628, 'why': 1790, 'important': 816, 'graphing': 733, 'pandas': 1181, 'collecting': 322, 'cheat': 285, 'sheets': 1488, 'script': 1442, 'painless': 1179, 'ly': 985, '01': 0, 'backup': 167, 'execute': 598, 'common': 335, 'http': 788, 'commands': 333, 'manipulation': 1003, 'designing': 459, 'ufc': 1700, 'moneyball': 1068, 'emile': 550, 'baizel': 170, 'fintech': 641, 'bot': 217, 'sentiment': 1467, 'sparkr': 1529, 'beginners': 186, 'popular': 1233, 'types': 1698, 'changing': 278, 'steps': 1559, 'interview': 860, 'jakob': 874, 'odersky': 1138, '12': 8, 'don': 505, 'throw': 1646, 'problem': 1275, 'here': 767, 'unlock': 1707, 'true': 1687, 'lake': 921, 'db2': 434, 'warehouse': 1763, 'cloud': 309, 'qr': 1308, 'badge': 169, 'scanner': 1428, 'cds': 268, 'labs': 920, 'hybrid': 796, 'campus': 252, 'discounts': 484, 'solve': 1518, '90': 37, 'nlp': 1113, 'problems': 1276, 'cancellations': 254, 'tableau': 1604, 'exponentially': 610, 'weighted': 1782, 'exposed': 612, 'jonas': 887, 'helfer': 763, 'joins': 886, 'across': 47, 'graphql': 734, 'variable': 1736, 'selection': 1459, 'd3heatmap': 417, 'interactive': 852, 'heat': 762, 'maps': 1009, 'citizen': 297, 'scientist': 1435, 'finds': 640, 'death': 436, 'star': 1545, 'seti': 1478, 'set': 1477, 'location': 968, 'tracker': 1669, 'stock': 1560, 'market': 1012, 'portal': 1234, 'powerups': 1250, 'deleted': 447, 'deployments': 454, 'together': 1659, 'classcraft': 301, 'push': 1301, 'notifications': 1126, 'local': 967, 'phd': 1208, 'struggling': 1578, 'deeper': 441, 'pipe': 1215, 'connectors': 360, 'must': 1085, 'attend': 140, 'conferences': 348, '2018': 20, 'faceted': 621, 'made': 987, 'easy': 527, 'way': 1769, 'words': 1800, 'tools': 1662, 'openwhisk': 1152, 'power': 1245, 'prototyping': 1291, 'red': 1353, 'camp': 250, 'california': 249, 'bayesian': 179, 'regularization': 1362, 'overview': 1174, 'ide': 804, 'expert': 603, 'holden': 774, 'karau': 899, 'roi': 1403, 'through': 1645, 'leveraging': 946, 'sources': 1523, 'drivers': 512, 'foundational': 673, 'methodology': 1037, 'excel': 596, 'tasks': 1614, 'demonstrated': 450, 'horizontal': 782, 'scaling': 1427, 'arrives': 129, 'enterprise': 568, 'march': 1010, 'sensor': 1465, 'sensibility': 1464, 'hull': 792, 'digital': 478, 'monitoring': 1071, 'available': 155, 'real': 1341, 'time': 1652, 'artificial': 132, 'intelligence': 850, 'ethically': 583, 'speaking': 1532, 'aws': 161, 'vpc': 1759, 'secured': 1456, 'terraform': 1626, 'grows': 740, 'handle': 754, 'ad': 52, 'hoc': 773, 'queries': 1310, 'movement': 1077, 'storage': 1562, 'wars': 1765, 'genome': 703, 'revolutionizes': 1394, 'industries': 832, 'not': 1121, 'world': 1808, 'domination': 504, 'keynote': 906, 'mitch': 1055, 'pirtle': 1216, 'capitalone': 256, 'sets': 1479, 'serverless': 1473, 'charity': 280, 'majors': 992, 'observability': 1134, 'glorious': 721, 'future': 690, 'beginner': 185, 'methods': 1038, 'xml': 1816, 'dates': 429, 'dating': 430, 'understanding': 1704, 'mango': 1002, 'indexes': 828, 'vs': 1760, 'java': 879, 'ee': 533, 'webapp': 1775, '14': 10, 'thinky': 1640, 'potency': 1243, 'idempotent': 805, 'rabbitmq': 1320, 'upsert': 1720, 'modeling': 1064, 'energy': 558, 'usage': 1723, 'york': 1820, 'city': 298, 'dplyr': 507, 'tidyr': 1650, 'sheet': 1487, 'connecting': 356, 'picks': 1212, 'envoy': 572, 'redis': 1355, 'stars': 1547, 'smart': 1510, 'catalogs': 266, 'can': 253, 'flood': 653, 'ocean': 1136, 'opportunity': 1156, 'authentication': 146, 'iii': 809, 'bigdl': 200, 'apply': 117, 'sapply': 1422, 'lapply': 926, 'visual': 1751, 'explanation': 607, 'back': 164, 'propagation': 1289, 'algorithm': 77, 'movetocloud': 1079, 'bradley': 221, 'holt': 775, 'channel': 279, 'publish': 1297, 'that': 1631, 'shiny': 1491, 'flow': 654, 'sequencing': 1470, '23': 24, 'january': 876, 'speed': 1534, 'self': 1460, 'preparation': 1264, 'refinery': 1359, 'nonparametric': 1118, 'stats': 1556, 'bots': 218, 'scenarios': 1430, 'multicloud': 1081, 'enable': 555, 'cache': 244, 'entity': 569, 'framework': 676, 'object': 1133, 'detection': 464, 'yolo': 1819, 'kiwi': 911, 'wearables': 1772, 'graphframes': 731, 'am': 82, 'omni': 1145, 'tool': 1661, 'scientists': 1436, 'seium': 1458, 'heartbits': 761, 'hackathon': 747, 'verse': 1743, 'validation': 1733, 'example': 594, 'system': 1600, 'dez': 471, 'blanchfield': 207, 'craig': 396, 'brown': 229, 'david': 431, 'mathison': 1019, 'jennifer': 882, 'shin': 1490, 'mike': 1047, 'tamir': 1613, 'lifelong': 951, 'automation': 152, 'help': 764, 'get': 711, 'smarter': 1511, 'over': 1169, 'apple': 114, 'add': 53, 'partnership': 1192, 'coupling': 392, 'pubsub': 1298, 'socket': 1515, 'io': 865, 'xml2': 1817, 'cluster': 312, 'raspberry': 1331, 'pis': 1217, 'sourcing': 1524, '223gb': 23, 'driving': 514, 'udacity': 1699, 'inc': 825, 'etcd': 579, 'apis': 111, 'possibilities': 1236, 'replicate': 1373, 'sample': 1420, 'builders': 235, 'podcast': 1229, 'tricks': 1684, 'source': 1522, 'connector': 359, 'configuration': 350, 'controls': 373, 'version': 1744, 'amas': 84, 'sector': 1454, 'correlations': 385, '06': 3, 'youtube': 1823, 'configuring': 351, 'google': 725, 'platform': 1222, 'statistical': 1554, 'bias': 197, 'explained': 606, 'examples': 595, 'runs': 1416, 'bunyan': 240, 'do': 495, 'zapier': 1824, 'integrate': 848, 'connections': 358, 'trends': 1682, 'talk': 1609, 'raw': 1335, 'lucene': 983, 'within': 1795, 'analyzing': 99, 'pet': 1205, 'name': 1090, 'crosstabview': 405, 'drone': 515, 'conquers': 363, 'layer': 931, 'twelve': 1694, 'color': 325, 'africa': 64, 'under': 1702, 'hood': 777, 'rainbow': 1323, 'crosstab': 404, 'revisited': 1392, 'pivoting': 1219, 'wisely': 1793, 'enhance': 563, 'uploads': 1719, 'developer': 466, '31': 32, 'writing': 1813, 'directly': 482, 'receptive': 1347, 'field': 632, 'arithmetic': 124, 'convolutional': 381, 'understand': 1703, 'replication': 1375, 'works': 1807, 'economic': 528, 'justice': 895, 'civic': 299, 'misconceptions': 1052, 'awesome': 160, 'papers': 1183, 'business': 241, 'chatbot': 283, 'dimensionality': 479, 'reduction': 1357, 'join': 884, 'enrich': 566, 'multiple': 1083, 'bits': 206, 'accessing': 42, 'relational': 1366, 'go': 723, 'accelerate': 39, 'workflow': 1805, 'backpropagation': 166, 'complex': 342, 'behaviors': 188, 'august': 143, '30': 31, 'generated': 701, 'columns': 327, 'indexing': 829, 'ambry': 87, 'linkedin': 959, 'glynnbird': 722, 'couchimport': 390, 'perform': 1198, 'group': 739, 'facet': 620, 'geo': 706, 'searches': 1450, 'series': 1471, 'recurrent': 1352, 'lstms': 981, 'probabilistic': 1274, 'graphical': 732, 'demand': 448, 'backups': 168, 'some': 1519, 'weekend': 1781, 'reading': 1337, 'neurally': 1102, 'embedded': 549, 'emojis': 551, 'text': 1629, 'classification': 302, 'behavioral': 187, 'profiling': 1284, 'control': 372, 'flows': 655, 'created': 399, 'copy': 382, 'mastering': 1016, 'filters': 636, 'foreign': 665, 'wrappers': 1811, 'manage': 998, 'mycheatsheets': 1087, 'com': 328, 'enhanced': 564, 'alchemy': 73, 'basket': 175, 'imitation': 811, 'sincere': 1505, 'form': 668, 'flattery': 646, 'porting': 1235, 'zendesk': 1825, 'existing': 600, 'deploying': 453, 'logshare': 971, 'dive': 494, 'fun': 687, 'kudos': 915, 'challenges': 275, 'generalization': 699, 'authenticating': 145, 'jsonwebtoken': 892, 'following': 658, 'roadmap': 1399, 'pivot': 1218, 'tables': 1605, 'toys': 1668, 'because': 182, 'make': 993, 'better': 193, 'october': 1137, '25': 26, 'secondary': 1451, 'fighting': 633, 'gerrymandering': 710, 'draw': 510, 'fairer': 624, 'congressional': 353, 'districts': 493, 'announcing': 102, 'environments': 571, 'beta': 192, 'white': 1788, 'paper': 1182, 'transforming': 1678, 'collect': 321, 'own': 1175, 'fitbit': 644, 'need': 1095, 'builds': 237, 'effective': 534, 'team': 1617, 'sparklyr': 1528, 'run': 1413, 'structure': 1575, 'innate': 839, 'priors': 1272, 'lorna': 979, 'jane': 875, 'mitchell': 1056, 'surviving': 1591, 'failure': 623, 'ready': 1340, 'oplog': 1155, 'marketing': 1013, 'campaign': 251, 'predictions': 1259, 'actions': 49, 'intro': 862, 'declarative': 439, 'migration': 1045, 'connect': 354, 'activities': 50, 'apex': 109, 'clustering': 313, 'perplexed': 1202, 'visualising': 1752, 'snowzilla': 1513, 'upload': 1718, 'frames': 675, 'fathom': 627, 'management': 1000, 'have': 759, 'had': 751, 'structures': 1577, 'libraries': 948, 'mobile': 1059, 'coming': 331, 'soon': 1521, 'transporter': 1681, 'released': 1367, 'streamlined': 1571, 'related': 1365, 'pythonista': 1307, 'katharine': 900, 'jarmul': 878, 'continuous': 369, 'esri': 575, 'arcgis': 121, 'conflicts': 352, 'aggregations': 69, 'impressive': 818, 'improvements': 821, 'studio': 1579, 'bridges': 226, 'let': 943, 'server': 1472, 'cf': 272, 'amazon': 86, 'emr': 554, 'helping': 766, 'educational': 532, 'organizations': 1164, 'innovate': 840, 'rethinking': 1390, 'replex': 1372, 'parallel': 1185, 'processing': 1278, 'rest': 1383, 'services': 1475, 'presidential': 1267, 'election': 539, 'read': 1336, 'write': 1812, 's3': 1418, 'buckets': 233, 'well': 1783, 'connected': 355, 'rabbit': 1319, 'meet': 1031, 'middle': 1041, 'median': 1029, 'show': 1496, 'persistent': 1203, 'changes': 277, 'config': 349, '29': 30, 'center': 270, 'encrypt': 557, 'tls': 1657, 'certificates': 271, 'github': 718, 'adoption': 58, 'software': 1516, 'homes': 776, 'airbnb': 72, 'maker': 994, 'palette': 1180, 'everything': 592, 'know': 913, 'nearest': 1093, 'neighbor': 1097, 'table': 1603, 'navigating': 1091, 'sxsw': 1596, 'cognitive': 317, 'preview': 1270, 'state': 1552, 'la': 917, 'dogfight': 501, '1983': 15, 'small': 1509, 'pleasure': 1225, 'generally': 700, 'demo': 449, 'nyc': 1131, 'ep': 573, 'collaboration': 320, 'dronedeploy': 516, 'ops': 1157, 'depth': 455, 'look': 974, 'conversation': 375, 'gremlin': 737, 'icars': 802, 'ohlc': 1144, 'like': 952, 'wine': 1792, 'cheese': 288, '24': 25, 'multiplying': 1084, 'technology': 1619, 'companies': 339, 'conquer': 361, 'their': 1634, 'line': 956, 'queues': 1316, '11': 7, 'passage': 1193, 'hb2': 760, 'north': 1119, 'carolina': 260, 'change': 276, 'permissions': 1201, 'privacy': 1273, 'governance': 728, 'update': 1713, 'baby': 162, 'reality': 1342, 'precipitation': 1255, 'things': 1638, 'hate': 758, 'amanda': 83, 'folson': 659, 'hacking': 749, 'dataminingapps': 425, '13': 9, 'rather': 1334, 'basketball': 176, 'games': 694, 'than': 1630, 'elections': 540, 'elastic': 537, 'nba': 1092, 'rankings': 1327, 'anomalies': 103, 'advantages': 61, 'browser': 230, 'comes': 330, 'converting': 379, 'importing': 817, 'shapefiles': 1483, 'hadoop': 752, 'advanced': 59, 'techniques': 1618, 'intelligent': 851, 'gradient': 729, 'boosting': 215, 'extensions': 614, 'views': 1750, 'markdown': 1011, 'cheatsheet': 286, 'ruby': 1409, 'drowning': 517, 'cataloging': 265, 'fix': 645, 'findability': 638, 'optimization': 1158, 'highlights': 772, 'edge': 530, 'shipping': 1492, 'logistics': 970, 'transportation': 1680, 'keras': 902, 'churn': 294, 'convert': 378, 'puredata': 1300, 'trading': 1672, 'strategy': 1569, 'guzzle': 744, 'amy': 90, 'unruh': 1710, 'out': 1168, 'spanner': 1525, 'hoodie': 778, 'deployable': 452, 'loops': 978, 'basics': 174, 'used': 1725, 'infrastructure': 836, 'petition': 1206, 'etcdtool': 580, 'bach': 163, 'command': 332, 'dictate': 472, 'difference': 474, 'defensive': 442, 'containers': 367, '02': 1, 'ssl': 1541, 'connection': 357, 'pooling': 1232, 'email': 545, 'postal': 1238, 'embeddable': 548, 'reporting': 1376, 'put': 1302, 'human': 793, 'face': 617, 'kaggle': 897, 'competition': 341, 'coding': 316, 'eventual': 588, 'consistency': 364, 'side': 1497, 'effects': 536, 'curing': 411, 'amnesia': 88, 'csv': 408, 'shaping': 1484, 'maintenance': 991, 'debugging': 437, 'lua': 982, 'share': 1485, 'message': 1034, 'hub': 790, 'platforms': 1223, 'are': 123, 'leading': 934, 'video': 1747, 'guest': 742, 'post': 1237, 'nifi': 1110, 'oscon': 1165, 'europe': 584, 'review': 1391, 'two': 1696, 'phases': 1207, 'descent': 456, 'matplotlib': 1021, 'embed': 547, 'rich': 1395, 'reports': 1377, 'powers': 1249, 'curl': 412, 'oracle': 1161, 'ross': 1405, 'kukulinski': 916, 'partner': 1191, 'summit': 1586, 'zero': 1826, 'kubernetes': 914, 'container': 366, 'syncing': 1599, 'car': 258, 'telemetry': 1620, 'ford': 663, 'openxc': 1153, 'traffic': 1673, 'tamer': 1612, 'trust': 1688, 'scylla': 1446, 'high': 770, 'cassandra': 263, 'successor': 1585, 'minute': 1051, 'signup': 1499, 'forms': 671, 'bootstrapping': 216, 'which': 1787, 'lives': 963, 'futures': 691, 'fosdem': 672, 'rust': 1417, 'wuzz': 1815, 'naive': 1089, 'bayes': 178, 'silverlining': 1500, 'nfl': 1108, 'mean': 1027, 'pre': 1254, 'authenticated': 144, 'dt': 519, 'datatables': 428, 'watch': 1767, 'wait': 1761, 'distribution': 492, 'key': 904, 'concept': 345, 'discovered': 486, 'beer': 184, 'brewery': 225, 'looking': 976, 'wrong': 1814, 'mobilefirst': 1060, 'collaborate': 319, 'study': 1580, 'differential': 476, 'documentdb': 499, 'fit': 643, 'radioactively': 1321, 'clean': 304, 'driven': 511, 'shopper': 1493, 'consulting': 365, 'love': 980, 'synchronization': 1598, 'gdal': 698, 'tibble': 1647, 'million': 1048, 'dollar': 502, 'question': 1313, 'where': 1786, 'tidyverse': 1651, 'european': 585, 'cities': 296, 'combines': 329, 'experts': 604, 'flying': 656, 'donut': 506, 'icanmakeitbetter': 801, 'dbaas': 435, 'files': 635, 'motor': 1075, 'vehicle': 1742, 'accident': 43, 'integration': 849, 'testing': 1627, 'against': 66, 'take': 1606, 'dip': 481, 'arrays': 128, 'kibana': 907, 'interpretation': 859, 'conditional': 346, 'contributions': 371, 'access': 41, 'hyver': 798, 'uses': 1729, 'odoo': 1139, 'choosing': 290, 'cs': 407, 'disk': 488, 'recommendation': 1349, 'peek': 1197, 'linear': 957, 'trigger': 1685, 'periodic': 1200, 'block': 209, 'chain': 273, 'contracts': 370, 'ethereum': 582, 'readme': 1338, 'three': 1643, 'reasons': 1344, 'gets': 712, 'its': 872, 'taught': 1615, 'explain': 605, 'itself': 873, 'elixir': 543, 'define': 443, 'htmlwidgets': 787, 'javascript': 880, 'dashboard': 418, 'questions': 1314, 'our': 1167, 'webinar': 1777, 'migrations': 1046, 'features': 629, 'updates': 1715, 'taking': 1607, 'robomongo': 1400, '3t': 33, '17': 13, 'hyperparameter': 797, 'sven': 1592, 'hafeneger': 753, 'check': 287, 'status': 1557, 'ux': 1731, 'year': 1818, 'row': 1406, 'security': 1457, 'persisting': 1204, 'biginsights': 201, 'analysts': 94, 'h2o': 746, 'game': 693, 'thrones': 1644, 'mahout': 990, 'reloaded': 1369, 'analysing': 92, 'runkit': 1414, 'radius': 1322, 'kafka': 896, 'topics': 1664, 'moves': 1078, 'ransomware': 1328, 'achievements': 45, 'past': 1195, 'managed': 999, 'automating': 151, 'discover': 485, 'govern': 727, '21': 21, 'answers': 105, 'architectures': 122, 'network': 1099, 'modeler': 1063, 'partial': 1190, 'improved': 820, 'social': 1514, 'informatica': 834, 'hopper': 781, 'openai': 1150, 'gym': 745, 'friend': 682, '70': 35, 'amazing': 85, 'should': 1495, 'calculate': 247, 'averages': 157, 'tutorials': 1692, 'sqlpro': 1540, 'postgres': 1241, 'keylord': 905, 'chronic': 293, 'kidney': 908, 'disease': 487, 'spss': 1536, 'simulating': 1504, 'insert': 841, 'individual': 831, 'thinking': 1639, 'box': 220, 'v1': 1732, 'package': 1176, 'development': 469, 'devtools': 470, 'rapid': 1329, 'evolution': 593, 'circle': 295, 'rogue': 1402, 'train': 1674, 'was': 1766, 'caught': 267, 'hashtags': 757, 'loading': 965, 'sharing': 1486, 'store': 1563, 'tweets': 1693, 'flexdashboard': 648, 'dashboards': 419, 'score': 1439, 'predictive': 1260, 'built': 238, 'points': 1231, 'interest': 855, 'page': 1178, 'temperatures': 1623, 'happy': 756, 'online': 1148, 'schema': 1431, 'gh': 716, 'ost': 1166, 'visualizing': 1755, 'stripe': 1574, 'chartio': 281, 'magical': 989, 'markov': 1014, 'chains': 274, 'missing': 1053, 'conundrum': 374, 'exploration': 608, 'imputation': 823, 'premises': 1262, 'couchapps': 387, 'aginity': 70, 'word2vec': 1799, 'products': 1282, 'support': 1589, 'sqlalchemy': 1538, 'cross': 403, 'limit': 953, 'survey': 1590, 'books': 213, 'creative': 401, 'rules': 1412, 'then': 1635, 'break': 223, 'em': 544, 'oauth': 1132, 'array': 127, 'elements': 542, 'phoenix': 1209, 'transformation': 1677, 'telling': 1622, 'story': 1567, 'information': 835, 'theory': 1636, 'essential': 576, 'engineers': 562, 'nips': 1111, 'nested': 1098, 'lists': 962, 'multidimensional': 1082, 'term': 1625, 'according': 44, 'pwned': 1303, 'least': 939, 'protect': 1290, 'passwords': 1194, 'bcrypt': 180, 'rapidly': 1330, 'asynchronous': 136, 'sense': 1463, 'variance': 1738, 'trade': 1671, 'off': 1142, 'reinforcement': 1363, 'swiss': 1595, 'army': 126, 'knife': 912, 'registry': 1360, 'result': 1387, 'materialized': 1018, 'pieces': 1214, 'advice': 63, 'frontends': 685, 'full': 686, 'journey': 888, 'capturing': 257, 'word': 1798, 'meanings': 1028, 'talking': 1610, 'cto': 410, 'avi': 158, 'kivity': 910, 'httr': 789, 'storing': 1566, 'addresses': 55, 'spatial': 1531, 'reference': 1358, 'systems': 1602, 'hurricane': 795, 'analytic': 95, 'schemas': 1432, 'non': 1117, 'toy': 1667, 'mind': 1050, 'angularjs': 101, 'step': 1558, 'glimpse': 720, 'broken': 228, 'clocks': 308, 'publicly': 1296, 'auto': 148, 'encoder': 556, 'frey': 680, 'faces': 619, 'dinesh': 480, 'nirmal': 1112, 'sport': 1535, 'secure': 1455, 'senecajs': 1462, 'if': 807, 'statements': 1553, 'powering': 1248, 'feeds': 631, 'timelines': 1653, 'export': 611, 'rss': 1407, 'ical': 800, 'caching': 246, 'requests': 1379, 'cachemachine': 245, 'postgraphql': 1240, 'meets': 1032, 'forecast': 664, 'empirical': 552, 'sizes': 1506, 'effectively': 535, 'handling': 755, 'successfully': 1584, 'podcasts': 1230, 'listen': 960, 'dygraphs': 522, 'engine': 560, 'instant': 847, 'restful': 1385, 'restheart': 1386, 'powerful': 1247, 'no': 1114, 'necessary': 1094, 'auc': 141, 'dramatic': 509, 'landscape': 923, 'including': 826, 'ggplot': 714, 'altair': 80, 'dynamodb': 524, 'reintroducing': 1364, 'blogging': 211, 'without': 1796, 'hosting': 784, 'eye': 616, 'candy': 255, 'everyone': 591, 'projects': 1287, 'christopher': 291, 'quinones': 1318, 'newest': 1106, 'environment': 570, 'variables': 1737, 'keeping': 901, 'secrets': 1453, 'secret': 1452, 'distance': 490, 'exercises': 599, 'generative': 702, 'adversarial': 62, 'gans': 695, 'alexa': 76, 'skills': 1507, 'learned': 937, 'pycon': 1304, 'fomo': 660, 'girl': 717, 'develop': 465, 'leadership': 933, 'recap': 1345, 'admin': 56, 'plug': 1228, 'walkthrough': 1762, 'hosted': 783, 'acme': 46, 'apparel': 113, 'smote': 1512, 'imbalanced': 810, 'class': 300, 'setting': 1480, 'fraud': 678, '09': 5, 'salesforce': 1419, 'looker': 975, 'bi': 196, 'solution': 1517, 'voice': 1756, 'gives': 719, 'hope': 780, 'indie': 830, 'again': 65, '05': 2, 'universe': 1705, 'cognos': 318, 'authorized': 147, 'acurl': 51, 'resources': 1382, 'aspiring': 134, 'these': 1637, 'pearson': 1196, 'correlation': 384, 'aggregation': 68, 'sparksql': 1530, 'alembic': 74, 'humans': 794, 'rock': 1401, 'scissors': 1438, 'chrome': 292, 'powered': 1246, 'practices': 1253, 'recognition': 1348, 'pretty': 1268, 'enjoy': 565, 'running': 1415, 'worker': 1803, 'starcraft': 1546, 'replays': 1371, 'scalable': 1425, 'webhooks': 1776, 'queue': 1315, 'workers': 1804, 'setup': 1481, 'mapreduce': 1008, 'cleaning': 305, 'swamp': 1593, 'clear': 306, 'insight': 843, 'max': 1024, 'min': 1049, 'neuroscience': 1104, 'san': 1421, 'francisco': 677, 'webizing': 1778, 'linked': 958, 'ld': 932, 'loop': 977, 'client': 307, 'overfitting': 1170, 'prevent': 1269, 'desktop': 460, 'faster': 626, 'unlogged': 1708, 'ordering': 1163, 'listening': 961, 'proxies': 1292, 'overlook': 1172, 'simpler': 1502, 'lessen': 942, 'friction': 681, 'forgetting': 667, 'long': 972, 'short': 1494, 'memory': 1033, 'breaking': 224, '80': 36, 'rule': 1411, 'productivity': 1281, 'convolution': 380, 'language': 924, 'notification': 1125, 'replicates': 1374, 'crime': 402, 'attempt': 139, 'baseball': 172, 'injuries': 838, 'lobbyist': 966, 'disclosures': 483, 'diff': 473, 'couchdiff': 389, 'land': 922, 'tell': 1621, 'me': 1026, 'something': 1520, 'speech': 1533, 'tl': 1656, 'dr': 508, 'postgis': 1239, 'leftronic': 941, 'interloop': 857, 'antonio': 106, 'chavez': 284, 'we': 1771, 'left': 940, 'talent': 1608, 'luck': 984, 'role': 1404, 'randomness': 1325, 'success': 1583, 'anomaly': 104, 'notice': 1124, 'pseudo': 1293, 'labeling': 919, 'semi': 1461, 'supervised': 1588, 'method': 1036, 'sparkling': 1527, 'unstructured': 1711, 'versus': 1745, 'repetitive': 1370, 'who': 1789, 'limits': 955, 'rate': 1333, 'limiter': 954, 'formatted': 670, 'psycopg': 1294, 'mogrify': 1067, 'computational': 344, 'graphs': 735, 'cran': 397, 'format': 669, 'arrow': 130, 'sean': 1448, 'li': 947, 'committer': 334, 'facebook': 618, 'extract': 615, 'file': 634, 'conquering': 362, 'relevant': 1368, 'analyzer': 98, 'resolves': 1381, 'column': 326, 'expo': 609, '2015': 17, 'plots': 1227, 'even': 586, 'moth': 1074, 'brain': 222, 'plethora': 1226, 'repositories': 1378, 'thousands': 1642, 'leaflet': 935, 'visualizations': 1754, 'estimation': 578, 'd3': 416, 'parallelize': 1186, 'scrum': 1445, 'revisiting': 1393, 'operations': 1154, 'jsonb': 891, 'type': 1697, 'flightpredict': 651, 'sequel': 1469, 'launching': 930, 'recent': 1346, 'recommender': 1350, '22': 22, 'process': 1277, 'genomics': 704, 'session': 1476, 'save': 1423, 'c2g': 243, 'super': 1587, 'string': 1573, 'matching': 1017, 'identify': 806, 'useful': 1726, 'chat': 282, 'inequality': 833, 'engineer': 561, 'realtime': 1343, 'infrastucture': 837, 'prem': 1261, 'availability': 154, 'blocking': 210, 'updated': 1714, 'pixieapp': 1220, 'going': 724, 'upgrade': 1716, 'raster': 1332, 'approaches': 118, 'installing': 846, 'electron': 541, 'essentials': 577, 'codes': 315, 'helper': 765, 'sso': 1542, 'hugo': 791, 'larochelle': 928, 'videos': 1748, 'subtitled': 1582, 'screengrabbed': 1441, 'addon': 54, 'ranked': 1326, 'every': 590, 'internet': 858, 'master': 1015, 'might': 1042, 'eventually': 589, 'become': 183, 'obsolete': 1135, 'profiles': 1283, 'makes': 995, 'migrate': 1043, 'iris': 869, 'couch': 386, 'emarsys': 546, 'biomedical': 204, 'administer': 57, 'reconstruct': 1351, 'resolution': 1380, 'audio': 142, 'tidying': 1649, 'blazingly': 208, 'sqlite': 1539, 'managing': 1001, 'immutable': 812, 'laplace': 925, 'noising': 1116, 'simulated': 1503, 'definitive': 444, 'many': 1004, 'flavors': 647, 'ods': 1140, 'duplicate': 521, 'piecemeal': 1213, 'bulk': 239, 'batch': 177, 'reducing': 1356, 'overplotting': 1173, 'scatterplots': 1429, 'too': 1660, 'stopped': 1561, 'worrying': 1809, 'stored': 1564, 'billing': 202, 'alerts': 75, 'folium': 657, 'scripting': 1443, 'covers': 395, 'comparison': 340, 'implementing': 813, 'classifier': 303, 'jean': 881, 'nicholas': 1109, 'hould': 785, 'kernels': 903}\n"
     ]
    }
   ],
   "source": [
    "# Initialize an instance of tf-idf Vectorizer\n",
    "tfidf_vectorizer = TfidfVectorizer()\n",
    "# tokenize and build vocab\n",
    "corpus = df_content['doc_full_name'].tolist()\n",
    "tfidf_vectorizer.fit(corpus)\n",
    "# summarize (show vocabulary)\n",
    "print(tfidf_vectorizer.vocabulary_)"
   ]
  },
  {
   "cell_type": "code",
   "execution_count": 49,
   "metadata": {},
   "outputs": [
    {
     "data": {
      "text/plain": [
       "1828"
      ]
     },
     "execution_count": 49,
     "metadata": {},
     "output_type": "execute_result"
    }
   ],
   "source": [
    "# Total size of vocabulary\n",
    "len(tfidf_vectorizer.vocabulary_)"
   ]
  },
  {
   "cell_type": "markdown",
   "metadata": {},
   "source": [
    "As explained [here](https://goodboychan.github.io/python/datacamp/natural_language_processing/2020/07/17/04-TF-IDF-and-similarity-scores.html), to compute the similarity between each 2 pairs of sentences, the cosine similarity is used, as follows:"
   ]
  },
  {
   "cell_type": "code",
   "execution_count": 50,
   "metadata": {},
   "outputs": [],
   "source": [
    "# Generate the tf-idf vectors for the corpus\n",
    "tfidf_matrix = tfidf_vectorizer.fit_transform(corpus)\n",
    "# compute and print the cosine similarity matrix\n",
    "cosine_sim = cosine_similarity(tfidf_matrix, tfidf_matrix)\n",
    "#print(cosine_sim)"
   ]
  },
  {
   "cell_type": "code",
   "execution_count": 51,
   "metadata": {},
   "outputs": [
    {
     "data": {
      "text/html": [
       "<div>\n",
       "<style scoped>\n",
       "    .dataframe tbody tr th:only-of-type {\n",
       "        vertical-align: middle;\n",
       "    }\n",
       "\n",
       "    .dataframe tbody tr th {\n",
       "        vertical-align: top;\n",
       "    }\n",
       "\n",
       "    .dataframe thead th {\n",
       "        text-align: right;\n",
       "    }\n",
       "</style>\n",
       "<table border=\"1\" class=\"dataframe\">\n",
       "  <thead>\n",
       "    <tr style=\"text-align: right;\">\n",
       "      <th></th>\n",
       "      <th>0</th>\n",
       "      <th>1</th>\n",
       "      <th>2</th>\n",
       "      <th>3</th>\n",
       "      <th>4</th>\n",
       "      <th>5</th>\n",
       "      <th>6</th>\n",
       "      <th>7</th>\n",
       "      <th>8</th>\n",
       "      <th>9</th>\n",
       "      <th>...</th>\n",
       "      <th>1041</th>\n",
       "      <th>1042</th>\n",
       "      <th>1043</th>\n",
       "      <th>1044</th>\n",
       "      <th>1045</th>\n",
       "      <th>1046</th>\n",
       "      <th>1047</th>\n",
       "      <th>1048</th>\n",
       "      <th>1049</th>\n",
       "      <th>1050</th>\n",
       "    </tr>\n",
       "  </thead>\n",
       "  <tbody>\n",
       "    <tr>\n",
       "      <th>0</th>\n",
       "      <td>1.000000</td>\n",
       "      <td>0.000000</td>\n",
       "      <td>0.000000</td>\n",
       "      <td>0.000000</td>\n",
       "      <td>0.000000</td>\n",
       "      <td>0.046092</td>\n",
       "      <td>0.000000</td>\n",
       "      <td>0.000000</td>\n",
       "      <td>0.000000</td>\n",
       "      <td>0.000000</td>\n",
       "      <td>...</td>\n",
       "      <td>0.030827</td>\n",
       "      <td>0.000000</td>\n",
       "      <td>0.144917</td>\n",
       "      <td>0.037670</td>\n",
       "      <td>0.000000</td>\n",
       "      <td>0.000000</td>\n",
       "      <td>0.000000</td>\n",
       "      <td>0.000000</td>\n",
       "      <td>0.056997</td>\n",
       "      <td>0.032027</td>\n",
       "    </tr>\n",
       "    <tr>\n",
       "      <th>1</th>\n",
       "      <td>0.000000</td>\n",
       "      <td>1.000000</td>\n",
       "      <td>0.086247</td>\n",
       "      <td>0.073354</td>\n",
       "      <td>0.023467</td>\n",
       "      <td>0.033051</td>\n",
       "      <td>0.177174</td>\n",
       "      <td>0.029396</td>\n",
       "      <td>0.115471</td>\n",
       "      <td>0.026146</td>\n",
       "      <td>...</td>\n",
       "      <td>0.022105</td>\n",
       "      <td>0.108406</td>\n",
       "      <td>0.019483</td>\n",
       "      <td>0.000000</td>\n",
       "      <td>0.181455</td>\n",
       "      <td>0.000000</td>\n",
       "      <td>0.000000</td>\n",
       "      <td>0.000000</td>\n",
       "      <td>0.000000</td>\n",
       "      <td>0.000000</td>\n",
       "    </tr>\n",
       "    <tr>\n",
       "      <th>2</th>\n",
       "      <td>0.000000</td>\n",
       "      <td>0.086247</td>\n",
       "      <td>1.000000</td>\n",
       "      <td>0.000000</td>\n",
       "      <td>0.064734</td>\n",
       "      <td>0.038319</td>\n",
       "      <td>0.000000</td>\n",
       "      <td>0.034082</td>\n",
       "      <td>0.316886</td>\n",
       "      <td>0.000000</td>\n",
       "      <td>...</td>\n",
       "      <td>0.025629</td>\n",
       "      <td>0.089149</td>\n",
       "      <td>0.053744</td>\n",
       "      <td>0.000000</td>\n",
       "      <td>0.000000</td>\n",
       "      <td>0.000000</td>\n",
       "      <td>0.000000</td>\n",
       "      <td>0.025085</td>\n",
       "      <td>0.000000</td>\n",
       "      <td>0.000000</td>\n",
       "    </tr>\n",
       "    <tr>\n",
       "      <th>3</th>\n",
       "      <td>0.000000</td>\n",
       "      <td>0.073354</td>\n",
       "      <td>0.000000</td>\n",
       "      <td>1.000000</td>\n",
       "      <td>0.000000</td>\n",
       "      <td>0.000000</td>\n",
       "      <td>0.111514</td>\n",
       "      <td>0.000000</td>\n",
       "      <td>0.000000</td>\n",
       "      <td>0.068391</td>\n",
       "      <td>...</td>\n",
       "      <td>0.034367</td>\n",
       "      <td>0.000000</td>\n",
       "      <td>0.000000</td>\n",
       "      <td>0.000000</td>\n",
       "      <td>0.000000</td>\n",
       "      <td>0.082259</td>\n",
       "      <td>0.049578</td>\n",
       "      <td>0.000000</td>\n",
       "      <td>0.000000</td>\n",
       "      <td>0.000000</td>\n",
       "    </tr>\n",
       "    <tr>\n",
       "      <th>4</th>\n",
       "      <td>0.000000</td>\n",
       "      <td>0.023467</td>\n",
       "      <td>0.064734</td>\n",
       "      <td>0.000000</td>\n",
       "      <td>1.000000</td>\n",
       "      <td>0.035923</td>\n",
       "      <td>0.000000</td>\n",
       "      <td>0.031951</td>\n",
       "      <td>0.036426</td>\n",
       "      <td>0.090945</td>\n",
       "      <td>...</td>\n",
       "      <td>0.024026</td>\n",
       "      <td>0.037600</td>\n",
       "      <td>0.050383</td>\n",
       "      <td>0.000000</td>\n",
       "      <td>0.000000</td>\n",
       "      <td>0.000000</td>\n",
       "      <td>0.000000</td>\n",
       "      <td>0.023517</td>\n",
       "      <td>0.141519</td>\n",
       "      <td>0.000000</td>\n",
       "    </tr>\n",
       "    <tr>\n",
       "      <th>...</th>\n",
       "      <td>...</td>\n",
       "      <td>...</td>\n",
       "      <td>...</td>\n",
       "      <td>...</td>\n",
       "      <td>...</td>\n",
       "      <td>...</td>\n",
       "      <td>...</td>\n",
       "      <td>...</td>\n",
       "      <td>...</td>\n",
       "      <td>...</td>\n",
       "      <td>...</td>\n",
       "      <td>...</td>\n",
       "      <td>...</td>\n",
       "      <td>...</td>\n",
       "      <td>...</td>\n",
       "      <td>...</td>\n",
       "      <td>...</td>\n",
       "      <td>...</td>\n",
       "      <td>...</td>\n",
       "      <td>...</td>\n",
       "      <td>...</td>\n",
       "    </tr>\n",
       "    <tr>\n",
       "      <th>1046</th>\n",
       "      <td>0.000000</td>\n",
       "      <td>0.000000</td>\n",
       "      <td>0.000000</td>\n",
       "      <td>0.082259</td>\n",
       "      <td>0.000000</td>\n",
       "      <td>0.000000</td>\n",
       "      <td>0.000000</td>\n",
       "      <td>0.000000</td>\n",
       "      <td>0.000000</td>\n",
       "      <td>0.069650</td>\n",
       "      <td>...</td>\n",
       "      <td>0.034999</td>\n",
       "      <td>0.000000</td>\n",
       "      <td>0.000000</td>\n",
       "      <td>0.000000</td>\n",
       "      <td>0.000000</td>\n",
       "      <td>1.000000</td>\n",
       "      <td>0.050490</td>\n",
       "      <td>0.000000</td>\n",
       "      <td>0.000000</td>\n",
       "      <td>0.000000</td>\n",
       "    </tr>\n",
       "    <tr>\n",
       "      <th>1047</th>\n",
       "      <td>0.000000</td>\n",
       "      <td>0.000000</td>\n",
       "      <td>0.000000</td>\n",
       "      <td>0.049578</td>\n",
       "      <td>0.000000</td>\n",
       "      <td>0.000000</td>\n",
       "      <td>0.000000</td>\n",
       "      <td>0.000000</td>\n",
       "      <td>0.000000</td>\n",
       "      <td>0.090933</td>\n",
       "      <td>...</td>\n",
       "      <td>0.000000</td>\n",
       "      <td>0.025995</td>\n",
       "      <td>0.029280</td>\n",
       "      <td>0.000000</td>\n",
       "      <td>0.000000</td>\n",
       "      <td>0.050490</td>\n",
       "      <td>1.000000</td>\n",
       "      <td>0.000000</td>\n",
       "      <td>0.000000</td>\n",
       "      <td>0.000000</td>\n",
       "    </tr>\n",
       "    <tr>\n",
       "      <th>1048</th>\n",
       "      <td>0.000000</td>\n",
       "      <td>0.000000</td>\n",
       "      <td>0.025085</td>\n",
       "      <td>0.000000</td>\n",
       "      <td>0.023517</td>\n",
       "      <td>0.000000</td>\n",
       "      <td>0.000000</td>\n",
       "      <td>0.000000</td>\n",
       "      <td>0.000000</td>\n",
       "      <td>0.000000</td>\n",
       "      <td>...</td>\n",
       "      <td>0.061385</td>\n",
       "      <td>0.000000</td>\n",
       "      <td>0.019524</td>\n",
       "      <td>0.000000</td>\n",
       "      <td>0.000000</td>\n",
       "      <td>0.000000</td>\n",
       "      <td>0.000000</td>\n",
       "      <td>1.000000</td>\n",
       "      <td>0.000000</td>\n",
       "      <td>0.063774</td>\n",
       "    </tr>\n",
       "    <tr>\n",
       "      <th>1049</th>\n",
       "      <td>0.056997</td>\n",
       "      <td>0.000000</td>\n",
       "      <td>0.000000</td>\n",
       "      <td>0.000000</td>\n",
       "      <td>0.141519</td>\n",
       "      <td>0.093527</td>\n",
       "      <td>0.000000</td>\n",
       "      <td>0.000000</td>\n",
       "      <td>0.000000</td>\n",
       "      <td>0.086541</td>\n",
       "      <td>...</td>\n",
       "      <td>0.062553</td>\n",
       "      <td>0.138566</td>\n",
       "      <td>0.156077</td>\n",
       "      <td>0.076436</td>\n",
       "      <td>0.000000</td>\n",
       "      <td>0.000000</td>\n",
       "      <td>0.000000</td>\n",
       "      <td>0.000000</td>\n",
       "      <td>1.000000</td>\n",
       "      <td>0.064987</td>\n",
       "    </tr>\n",
       "    <tr>\n",
       "      <th>1050</th>\n",
       "      <td>0.032027</td>\n",
       "      <td>0.000000</td>\n",
       "      <td>0.000000</td>\n",
       "      <td>0.000000</td>\n",
       "      <td>0.000000</td>\n",
       "      <td>0.052554</td>\n",
       "      <td>0.000000</td>\n",
       "      <td>0.000000</td>\n",
       "      <td>0.000000</td>\n",
       "      <td>0.000000</td>\n",
       "      <td>...</td>\n",
       "      <td>0.125016</td>\n",
       "      <td>0.000000</td>\n",
       "      <td>0.000000</td>\n",
       "      <td>0.042951</td>\n",
       "      <td>0.000000</td>\n",
       "      <td>0.000000</td>\n",
       "      <td>0.000000</td>\n",
       "      <td>0.063774</td>\n",
       "      <td>0.064987</td>\n",
       "      <td>1.000000</td>\n",
       "    </tr>\n",
       "  </tbody>\n",
       "</table>\n",
       "<p>1051 rows × 1051 columns</p>\n",
       "</div>"
      ],
      "text/plain": [
       "          0         1         2         3         4         5         6     \\\n",
       "0     1.000000  0.000000  0.000000  0.000000  0.000000  0.046092  0.000000   \n",
       "1     0.000000  1.000000  0.086247  0.073354  0.023467  0.033051  0.177174   \n",
       "2     0.000000  0.086247  1.000000  0.000000  0.064734  0.038319  0.000000   \n",
       "3     0.000000  0.073354  0.000000  1.000000  0.000000  0.000000  0.111514   \n",
       "4     0.000000  0.023467  0.064734  0.000000  1.000000  0.035923  0.000000   \n",
       "...        ...       ...       ...       ...       ...       ...       ...   \n",
       "1046  0.000000  0.000000  0.000000  0.082259  0.000000  0.000000  0.000000   \n",
       "1047  0.000000  0.000000  0.000000  0.049578  0.000000  0.000000  0.000000   \n",
       "1048  0.000000  0.000000  0.025085  0.000000  0.023517  0.000000  0.000000   \n",
       "1049  0.056997  0.000000  0.000000  0.000000  0.141519  0.093527  0.000000   \n",
       "1050  0.032027  0.000000  0.000000  0.000000  0.000000  0.052554  0.000000   \n",
       "\n",
       "          7         8         9     ...      1041      1042      1043  \\\n",
       "0     0.000000  0.000000  0.000000  ...  0.030827  0.000000  0.144917   \n",
       "1     0.029396  0.115471  0.026146  ...  0.022105  0.108406  0.019483   \n",
       "2     0.034082  0.316886  0.000000  ...  0.025629  0.089149  0.053744   \n",
       "3     0.000000  0.000000  0.068391  ...  0.034367  0.000000  0.000000   \n",
       "4     0.031951  0.036426  0.090945  ...  0.024026  0.037600  0.050383   \n",
       "...        ...       ...       ...  ...       ...       ...       ...   \n",
       "1046  0.000000  0.000000  0.069650  ...  0.034999  0.000000  0.000000   \n",
       "1047  0.000000  0.000000  0.090933  ...  0.000000  0.025995  0.029280   \n",
       "1048  0.000000  0.000000  0.000000  ...  0.061385  0.000000  0.019524   \n",
       "1049  0.000000  0.000000  0.086541  ...  0.062553  0.138566  0.156077   \n",
       "1050  0.000000  0.000000  0.000000  ...  0.125016  0.000000  0.000000   \n",
       "\n",
       "          1044      1045      1046      1047      1048      1049      1050  \n",
       "0     0.037670  0.000000  0.000000  0.000000  0.000000  0.056997  0.032027  \n",
       "1     0.000000  0.181455  0.000000  0.000000  0.000000  0.000000  0.000000  \n",
       "2     0.000000  0.000000  0.000000  0.000000  0.025085  0.000000  0.000000  \n",
       "3     0.000000  0.000000  0.082259  0.049578  0.000000  0.000000  0.000000  \n",
       "4     0.000000  0.000000  0.000000  0.000000  0.023517  0.141519  0.000000  \n",
       "...        ...       ...       ...       ...       ...       ...       ...  \n",
       "1046  0.000000  0.000000  1.000000  0.050490  0.000000  0.000000  0.000000  \n",
       "1047  0.000000  0.000000  0.050490  1.000000  0.000000  0.000000  0.000000  \n",
       "1048  0.000000  0.000000  0.000000  0.000000  1.000000  0.000000  0.063774  \n",
       "1049  0.076436  0.000000  0.000000  0.000000  0.000000  1.000000  0.064987  \n",
       "1050  0.042951  0.000000  0.000000  0.000000  0.063774  0.064987  1.000000  \n",
       "\n",
       "[1051 rows x 1051 columns]"
      ]
     },
     "execution_count": 51,
     "metadata": {},
     "output_type": "execute_result"
    }
   ],
   "source": [
    "# this dataframe below has article_id as rows, article_id as columns, \n",
    "# and the values are the cosine similarity between article-article title pairs\n",
    "cosine_sim_article_titles = pd.DataFrame(cosine_sim, columns = df_content['article_id'].tolist(), index = df_content['article_id'].tolist())\n",
    "cosine_sim_article_titles"
   ]
  },
  {
   "cell_type": "markdown",
   "metadata": {},
   "source": [
    "Let's explore cosine simmilarity between articles. Below, first, there's the distribution of similarities for 1 example article (article_id = 0), showing that most articles have a cosine simmilarity between 0 and 0.25 for that article. Further below, next, it is the distribution of cosine simmilarities in a heat map, suggesting the situation holds across all articles. Most articles seem unrelated (black color prevails in heatmap), which could be good if we want to be picky with recommendations. Finally, there's the histogram of average cosine simmilarities for all other articles except the article with itself. Such histogram shows that there are 100 articles that do not have any simmilar article in the matrix (those articles will be ignored in content-based recommendations)."
   ]
  },
  {
   "cell_type": "code",
   "execution_count": 52,
   "metadata": {},
   "outputs": [],
   "source": [
    "list_null = []\n",
    "list_low = []\n",
    "list_med = []\n",
    "list_high = []\n",
    "for article_id,cos_sim in cosine_sim_article_titles.iloc[0].items():\n",
    "    #print(article_id,cos_sim)\n",
    "    if cos_sim == 0:\n",
    "        list_null.append(article_id)\n",
    "    if cos_sim > 0 and cos_sim <= 0.5:\n",
    "        list_low.append(article_id)\n",
    "    if cos_sim > 0.5 and cos_sim <= 0.75:\n",
    "        list_med.append(article_id)\n",
    "    if cos_sim > 0.75:\n",
    "        list_high.append(article_id)"
   ]
  },
  {
   "cell_type": "code",
   "execution_count": 53,
   "metadata": {},
   "outputs": [
    {
     "data": {
      "text/plain": [
       "(829, 221, 0, 1)"
      ]
     },
     "execution_count": 53,
     "metadata": {},
     "output_type": "execute_result"
    }
   ],
   "source": [
    "len(list_null), len(list_low), len(list_med), len(list_high)"
   ]
  },
  {
   "cell_type": "code",
   "execution_count": 54,
   "metadata": {},
   "outputs": [
    {
     "data": {
      "text/plain": [
       "<AxesSubplot: >"
      ]
     },
     "execution_count": 54,
     "metadata": {},
     "output_type": "execute_result"
    },
    {
     "data": {
      "image/png": "[encoded data removed]",
      "text/plain": [
       "<Figure size 640x480 with 2 Axes>"
      ]
     },
     "metadata": {},
     "output_type": "display_data"
    }
   ],
   "source": [
    "sns.heatmap(cosine_sim_article_titles)"
   ]
  },
  {
   "cell_type": "code",
   "execution_count": 55,
   "metadata": {},
   "outputs": [
    {
     "data": {
      "text/plain": [
       "Text(0.5, 0, 'Average cosine similarity with other articles')"
      ]
     },
     "execution_count": 55,
     "metadata": {},
     "output_type": "execute_result"
    },
    {
     "data": {
      "image/png": "[encoded data removed]",
      "text/plain": [
       "<Figure size 640x480 with 1 Axes>"
      ]
     },
     "metadata": {},
     "output_type": "display_data"
    }
   ],
   "source": [
    "# compute average cosine simmilarities for all articles with all the other articles\n",
    "cosine_sim_article_titles['avge_similarity'] = 0\n",
    "avge_sims = []\n",
    "for idx, row in cosine_sim_article_titles.iterrows():\n",
    "    n_cols = len(cosine_sim_article_titles.columns) -1 # exclude recently created column\n",
    "    sum_vals = 0\n",
    "    for col in row.items():\n",
    "        if col[0] != idx:\n",
    "            sum_vals += col[1]\n",
    "    avge_sims.append(sum_vals / n_cols)\n",
    "cosine_sim_article_titles['avge_similarity'] = avge_sims\n",
    "cosine_sim_article_titles['avge_similarity'].hist()\n",
    "plt.ylabel(\"Number of articles\")\n",
    "plt.xlabel(\"Average cosine similarity with other articles\")"
   ]
  },
  {
   "cell_type": "markdown",
   "metadata": {},
   "source": [
    "Let's see below concrete similar articles pulled by cosine simmilarity. It works well in most cases."
   ]
  },
  {
   "cell_type": "code",
   "execution_count": 56,
   "metadata": {},
   "outputs": [],
   "source": [
    "def find_similar_articles(article_id, n_recs = 10, df = df_content):\n",
    "    ''' Find articles with a title most similar to the input article id\n",
    "    Article simmilarity is computed by cosine simmilarity between tfidf-vectorized titles. Articles with cosine simmilarity\n",
    "    equal to zero are excluded\n",
    "    \n",
    "    INPUT:\n",
    "        article_id (int)\n",
    "        n_recs (int): number of similar articles to return\n",
    "        df (dataframe): dataframe of records of article views, as explained above\n",
    "        \n",
    "    OUTPUT:\n",
    "        similar_ids (list of ints): ids of simmilar articles\n",
    "        similar_recs (list of strings): titles of simmilar articles\n",
    "        original_title (string): title of input article for which to find simmilar articles \n",
    "    '''\n",
    "    # vectorize corpus from article titles and store cosine similarity between all articles\n",
    "    corpus = df['doc_full_name'].tolist()\n",
    "    tfidf_vectorizer = TfidfVectorizer()\n",
    "    tfidf_matrix = tfidf_vectorizer.fit_transform(corpus)\n",
    "    cosine_sim = cosine_similarity(tfidf_matrix, tfidf_matrix)\n",
    "    cosine_sim_article_titles = pd.DataFrame(cosine_sim, columns = df['article_id'].tolist(), index = df['article_id'].tolist())\n",
    "    similar_ids = cosine_sim_article_titles[article_id].sort_values(ascending=False)[1:n_recs+1].index\n",
    "    similar_ids = [idx for idx in similar_ids if idx>0] # exclude articles with cosine similarity = 0\n",
    "    if len(similar_ids)>0:\n",
    "        similar_titles = [df[df['article_id']==idx]['doc_full_name'].values[0] for idx in similar_ids]\n",
    "        original_title = df[df['article_id']==article_id]['doc_full_name'].values[0]\n",
    "    else:\n",
    "        similar_titles = 0\n",
    "        original_title = 0\n",
    "    # devuelve tambien el valor del cosine_similarity\n",
    "    return original_title, similar_titles,similar_ids"
   ]
  },
  {
   "cell_type": "code",
   "execution_count": 57,
   "metadata": {},
   "outputs": [
    {
     "name": "stdout",
     "output_type": "stream",
     "text": [
      "Original: Detect Malfunctioning IoT Sensors with Streaming Analytics\n",
      "\n",
      "Similars:\n",
      "Data science for real-time streaming analytics\n",
      "Developing for the IBM Streaming Analytics service\n",
      "What’s new in the Streaming Analytics service on Bluemix\n",
      "Experience IoT with Coursera\n",
      "Use dashDB with Watson Analytics\n",
      "Apache Spark Analytics\n",
      "Use IBM Data Science Experience to detect time series anomalies\n",
      "Building IoT Apps on Cloudant, with Kiwi Wearables\n",
      "Show Twitter trends with Spark Streaming and IBM Watson\n",
      "Analyzing streaming Data from Kafka Topics\n"
     ]
    },
    {
     "data": {
      "text/plain": [
       "[None, None, None, None, None, None, None, None, None, None]"
      ]
     },
     "execution_count": 57,
     "metadata": {},
     "output_type": "execute_result"
    }
   ],
   "source": [
    "# Simmilar articles for article id 0: fairly good result\n",
    "article, similar_articles, sim_ids = find_similar_articles(article_id = 0)\n",
    "print(\"Original: \" + article)\n",
    "print(\"\\nSimilars:\")\n",
    "[print(article) for article in similar_articles]"
   ]
  },
  {
   "cell_type": "code",
   "execution_count": 58,
   "metadata": {},
   "outputs": [
    {
     "name": "stdout",
     "output_type": "stream",
     "text": [
      "Original: Communicating data science: A guide to presenting your work\n",
      "\n",
      "Similars:\n",
      "Work with Data Connections in DSX\n",
      "R for Data Science\n",
      "The Definitive Guide\n",
      "A Beginner's Guide to Variational Methods\n",
      "A guide to convolution arithmetic for deep learning\n",
      "A Quick Guide to Redis 3.2's Geo Support\n",
      "A Speed Guide To Redis Lua Scripting\n",
      "R Markdown Reference Guide\n",
      "Upgrading your PostgreSQL to 9.5\n",
      "Quick Guide to Build a Recommendation Engine in Python\n"
     ]
    },
    {
     "data": {
      "text/plain": [
       "[None, None, None, None, None, None, None, None, None, None]"
      ]
     },
     "execution_count": 58,
     "metadata": {},
     "output_type": "execute_result"
    }
   ],
   "source": [
    "# Similars to article 1 does not pull simmilar articles, but it brings a varied offer, which is also desirable\n",
    "article, similar_articles, sim_ids = find_similar_articles(article_id = 1)\n",
    "print(\"Original: \" + article)\n",
    "print(\"\\nSimilars:\")\n",
    "[print(article) for article in similar_articles]"
   ]
  },
  {
   "cell_type": "code",
   "execution_count": 59,
   "metadata": {},
   "outputs": [
    {
     "name": "stdout",
     "output_type": "stream",
     "text": [
      "Original: This Week in Data Science (April 18, 2017)\n",
      "\n",
      "Similars:\n",
      "This Week in Data Science (April 4, 2017)\n",
      "This Week in Data Science (April 11, 2017)\n",
      "This Week in Data Science (April 25, 2017)\n",
      "This Week in Data Science (October 18, 2016)\n",
      "This Week in Data Science\n",
      "This Week in Data Science (May 2, 2017)\n",
      "This Week in Data Science (February 7, 2017)\n",
      "This Week in Data Science (March 7, 2017)\n",
      "This Week in Data Science (January 10, 2017)\n",
      "This Week in Data Science (May 23, 2017)\n"
     ]
    },
    {
     "data": {
      "text/plain": [
       "[None, None, None, None, None, None, None, None, None, None]"
      ]
     },
     "execution_count": 59,
     "metadata": {},
     "output_type": "execute_result"
    }
   ],
   "source": [
    "# Similars to article 2: fairly good result\n",
    "article, similar_articles, sim_ids = find_similar_articles(article_id = 2)\n",
    "print(\"Original: \" + article)\n",
    "print(\"\\nSimilars:\")\n",
    "[print(article) for article in similar_articles]"
   ]
  },
  {
   "cell_type": "code",
   "execution_count": 60,
   "metadata": {},
   "outputs": [
    {
     "name": "stdout",
     "output_type": "stream",
     "text": [
      "Original: DataLayer Conference: Boost the performance of your distributed database\n",
      "\n",
      "Similars:\n",
      "DataLayer Conference: Scylla, the High-Performance Cassandra-Successor\n",
      "DataLayer Conference: Partial Indexing for Improved Query Performance\n",
      "DataLayer Conference: Bootstrapping a Startup using Compose\n",
      "DataLayer Conference: Ambry at LinkedIn\n",
      "The Machine Learning Database\n",
      "DataLayer Conference: Storage Wars - The Art Genome Project\n",
      "DataLayer Conference: Managing (or not) the Data in Immutable Infrastructure\n",
      "DataLayer Conference: Rethinking Indexing in Data Stores with Replex\n",
      "DataLayer Conference: Keynote with Mitch Pirtle, CapitalOne\n",
      "DataLayer Conference: Translating Backend Data to Frontend Needs\n"
     ]
    },
    {
     "data": {
      "text/plain": [
       "[None, None, None, None, None, None, None, None, None, None]"
      ]
     },
     "execution_count": 60,
     "metadata": {},
     "output_type": "execute_result"
    }
   ],
   "source": [
    "# Similars to article 3 are ok\n",
    "article, similar_articles, sim_ids = find_similar_articles(article_id = 3)\n",
    "print(\"Original: \" + article)\n",
    "print(\"\\nSimilars:\")\n",
    "[print(article) for article in similar_articles]"
   ]
  },
  {
   "cell_type": "code",
   "execution_count": 61,
   "metadata": {},
   "outputs": [
    {
     "name": "stdout",
     "output_type": "stream",
     "text": [
      "Original: Analyze NY Restaurant data using Spark in DSX\n",
      "\n",
      "Similars:\n",
      "Using DSX notebooks to analyze GitHub data\n",
      "Use Spark R to Load and Analyze Data\n",
      "Analyze Db2 Warehouse on Cloud data in RStudio in DSX\n",
      "Load and analyze public data sets in DSX\n",
      "Using BigDL in DSX for Deep Learning on Spark\n",
      "Analyze Market Trends in Twitter Using Apache Spark, Python, and dashDB\n",
      "Analyze open data sets using pandas in a Python notebook\n",
      "Build SQL queries with Apache Spark in DSX\n",
      "Load Cloudant Data in Apache Spark Using a Python Notebook\n",
      "Load Db2 Warehouse on Cloud data with Apache Spark in DSX\n"
     ]
    },
    {
     "data": {
      "text/plain": [
       "[None, None, None, None, None, None, None, None, None, None]"
      ]
     },
     "execution_count": 61,
     "metadata": {},
     "output_type": "execute_result"
    }
   ],
   "source": [
    "# Similars to article 4 are ok\n",
    "article, similar_articles, sim_ids = find_similar_articles(article_id = 4)\n",
    "print(\"Original: \" + article)\n",
    "print(\"\\nSimilars:\")\n",
    "[print(article) for article in similar_articles]"
   ]
  },
  {
   "cell_type": "markdown",
   "metadata": {},
   "source": [
    "Below a function that makes recommendations using content similarity (cosine similarity between article title text), as well as showing popular articles and articles from similar users. Below the function cell, there are tests of each of the 3 types of users to which it is targeted: **new users** (in this situation, the function pulls popular articles), **recent users** (here, it pulls a mix of popular articles and articles similar to those few articles seen by the recent user), and **old users** (here, in addition to the previous approaches, it also pulls articles from similar users):"
   ]
  },
  {
   "cell_type": "code",
   "execution_count": 62,
   "metadata": {},
   "outputs": [],
   "source": [
    "def make_content_recs(user_id, m=10):\n",
    "    ''' Gives recommendations of articles customized for each type of user (new users, recent users, old users). \n",
    "    \n",
    "    For new users, the most popular articles are pulled and shown ordered by popularity. \n",
    "    For recent users, popular articles as well as articles whose titles are similar to those already seen by the user. \n",
    "    For old users, in addition to the previous approaches, the system shows articles that are also seen by similar users.\n",
    "    INPUT:\n",
    "    user_id - (int) a user id\n",
    "    m - (int) the number of recommendations you want for the user\n",
    "    \n",
    "    OUTPUT:\n",
    "    recs - (list) a list of recommendations for the user by article id\n",
    "    rec_names - (list) a list of recommendations for the user by article title\n",
    "    \n",
    "    MORE INFO:\n",
    "    The aim of a recommender is to show personalized items to users based on 4 criteria:\n",
    "    - relevance: show items likely to be liked by the user\n",
    "    - novelty: show items that the user has never seen\n",
    "    - serendipity: show items that sourprise the user. This can be implemented by offering randomly or pseudorandomly\n",
    "    (pulling items from categories less interacted by the user)\n",
    "    - diversity: items should be varied to avoid the user geting bored\n",
    "    \n",
    "    Recommender approaches used in this function:\n",
    "    - Knowledge-based: takes user input about their preferences to pull items (to be applied on new users). Without \n",
    "    additional info, the idea here is to show popular articles within the categories preferred by the user, or simply \n",
    "    the most popular items across the database without considering categories.\n",
    "\n",
    "    - Content-based: uses information about content items. Here I use this approach by computing a content similarity matrix \n",
    "    of vectorized article texts ranked based on cosine similarity. Articles without similarity \n",
    "        (cosine similarity = 0) are removed and then the most similar article titles are returned. \n",
    "    \n",
    "    - Collaborative-filtering: uses information about user-item interactions, without having info about the content\n",
    "    nor the users. Throughout this notebook I use 2 different approaches:\n",
    "        * neighbor-based approach: pull items liked by similar users (we assume that seeing/reading an article = the user \n",
    "        has liked it). \n",
    "        * model-based (matrix factorization via SVD): this will come below in section 5. The idea is \n",
    "        to predict ratings of each user for each content item, which allows to measure the goodnes of the recommender system\n",
    "        by comparing predicted with actual ratings. \n",
    "        Here, we will pull items from user or item neighbours, ordered by popularity, \n",
    "        without knowing if the user will like those items or not.\n",
    "    \n",
    "    \n",
    "    '''\n",
    "    popular_articles_ids = get_top_article_ids(m)\n",
    "    popular_articles_names = get_top_articles(m)\n",
    "    \n",
    "    \n",
    "    ''' new users (no articles read yet) -> popular items\n",
    "    ''' \n",
    "    if user_id not in df['user_id'].unique():\n",
    "        recs = popular_articles_ids\n",
    "        rec_names = popular_articles_names\n",
    "    else:\n",
    "        recs = []\n",
    "        # get articles read by user:\n",
    "        seen_ids = get_user_articles(user_id)\n",
    "        # remove articles not present in df_content (no similarity can be analysed)\n",
    "        seen_ids = [idx for idx in seen_ids if int(float(idx)) in df_content['article_id'].unique()]\n",
    "        # sort articles seen by number of views\n",
    "        df_views_articles = df[['article_id','title']].groupby(['article_id']).count().rename(columns={'title':'n_views'})\n",
    "        sorted_articles = df_views_articles[df_views_articles.index.isin([int(float(idx)) for idx in seen_ids])].sort_values(by='n_views', ascending=False).index.tolist()           \n",
    "        \n",
    "        ''' Recent users (less than 5 articles read) -> up to 80% similar articles, at least 20% popular items \n",
    "        5 is an arbitrary threshold, could be optimized, but visual exploration suggest it is ok\n",
    "        '''\n",
    "        if len(sorted_articles) < 6:\n",
    "            # collect similar articles \n",
    "            for article in sorted_articles:\n",
    "                # find similar articles (4 for each seen article, to add variety)\n",
    "                similar_ids = find_similar_articles(article_id = article, n_recs = 4)[2]\n",
    "                # store and remove those already seen by user\n",
    "                recs.extend(similar_ids)\n",
    "                recs = list(set(recs) - set(seen_ids))        \n",
    "                # if number of collected recommendations exceeds m, stop loop\n",
    "                if len(recs) > int(0.8 * m) -1 :\n",
    "                    recs = recs[:int(0.8 * m)]\n",
    "                    break       \n",
    "        else:\n",
    "            ''' old users (more than 5 articles read) -> up to 50% similar articles, at least 50% articles from simmilar \n",
    "            users, until 100% popular items '''\n",
    "            \n",
    "            # similar articles (content similarity)\n",
    "            for article in sorted_articles:\n",
    "                # find similar articles (2 for each seen article, to add variety)\n",
    "                similar_ids = find_similar_articles(article_id = article, n_recs = 2)[2]\n",
    "                # store and remove those already seen by user\n",
    "                recs.extend(similar_ids)\n",
    "                recs = list(set(recs) - set(seen_ids))        \n",
    "                # if number of collected recommendations exceeds m, stop loop\n",
    "                if len(recs) > int(0.5 * m) -1 :\n",
    "                    recs = recs[:(int(0.5 * m) -1)]\n",
    "                    break \n",
    "            \n",
    "            # articles from similar users      \n",
    "            similar_users = get_top_sorted_users(user_id, df=df).index.tolist()\n",
    "            for user in similar_users:\n",
    "                #print(\"\\nUser: {}, type: {}\".format(user, type(user)))\n",
    "                # convert user to integer to be able to find it in 'df_users_items' in get_user_articles() function\n",
    "                #user = int(user)\n",
    "                # For each user get his/her articles\n",
    "                new_ids = get_user_articles(user)\n",
    "                # sort articles by number of views\n",
    "                new_ids = [int(float(idx)) for idx in new_ids]\n",
    "                sorted_articles_user = df_views_articles[df_views_articles.index.isin(new_ids)].sort_values(by='n_views', ascending=False).index.tolist()\n",
    "                # save ids in recs\n",
    "                recs.extend(sorted_articles_user)\n",
    "                # remove articles already seen by input user\n",
    "                recs = list(set(recs) - set(seen_ids))\n",
    "                # if number of collected recommendations exceeds m, stop loop\n",
    "                if len(recs) > m-2:\n",
    "                    recs = recs[:m-2]\n",
    "                    break\n",
    "        \n",
    "        # Finally, for both old and recent users, after collecting similar articles (content or user similarity), \n",
    "        # add popular articles to recs\n",
    "        if len(recs)< m:\n",
    "            for idx in popular_articles_ids:\n",
    "                recs.append(idx)\n",
    "                if len(recs) > m-1:\n",
    "                    break\n",
    "\n",
    "    # convert ids back to string and get only those requested by m\n",
    "    recs = [str(idx) for idx in recs][:m]\n",
    "    #print(recs)\n",
    "    rec_names = get_article_names(recs, df=df)   \n",
    "    return recs, rec_names\n",
    "    #return recs"
   ]
  },
  {
   "cell_type": "code",
   "execution_count": 63,
   "metadata": {},
   "outputs": [
    {
     "data": {
      "text/plain": [
       "['use deep learning for image classification',\n",
       " 'insights from new york car accident reports',\n",
       " 'visualize car data with brunel',\n",
       " 'use xgboost, scikit-learn & ibm watson machine learning apis',\n",
       " 'predicting churn with the spss random tree algorithm',\n",
       " 'healthcare python streaming application demo',\n",
       " 'finding optimal locations of new store using decision optimization',\n",
       " 'apache spark lab, part 1: basic concepts',\n",
       " 'analyze energy consumption in buildings',\n",
       " 'gosales transactions for logistic regression model']"
      ]
     },
     "execution_count": 63,
     "metadata": {},
     "output_type": "execute_result"
    }
   ],
   "source": [
    "# user_id = 0 does not exist -> new user -> popular articles\n",
    "make_content_recs(0)[1]"
   ]
  },
  {
   "cell_type": "code",
   "execution_count": 64,
   "metadata": {},
   "outputs": [
    {
     "data": {
      "text/plain": [
       "['back to basics — jupyter notebooks',\n",
       " 'Introducing IBM Graph',\n",
       " 'Introducing Cloudant Local',\n",
       " 'jupyter (ipython) notebooks features',\n",
       " 'Introducing Cloudant Geospatial',\n",
       " 'enjoy python 3.5 in jupyter notebooks',\n",
       " 'Introducing Cloudant Query',\n",
       " 'tidy data in python',\n",
       " 'use deep learning for image classification',\n",
       " 'insights from new york car accident reports']"
      ]
     },
     "execution_count": 64,
     "metadata": {},
     "output_type": "execute_result"
    }
   ],
   "source": [
    "# user_id = 3381 has seen 5 articles -> recent user (pull 8 similar articles, the last 2 are popular articles).\n",
    "make_content_recs(3381)[1]"
   ]
  },
  {
   "cell_type": "code",
   "execution_count": 65,
   "metadata": {},
   "outputs": [
    {
     "data": {
      "text/plain": [
       "['random forest interpretation – conditional feature contributions',\n",
       " 'the random forest algorithm ',\n",
       " \"a beginner's guide to variational methods\",\n",
       " 'variational auto-encoder for \"frey faces\" using keras',\n",
       " 'jupyter notebook tutorial',\n",
       " 'predicting flight cancellations using weather data, part 3',\n",
       " 'some random weekend reading',\n",
       " 'adoption of machine learning to software failure prediction',\n",
       " 'use deep learning for image classification',\n",
       " 'insights from new york car accident reports']"
      ]
     },
     "execution_count": 65,
     "metadata": {},
     "output_type": "execute_result"
    }
   ],
   "source": [
    "# user_id = 1157 has seen 5 articles -> recent user (pull 8 similar articles, the last 2 are popular articles).\n",
    "make_content_recs(1157)[1]"
   ]
  },
  {
   "cell_type": "code",
   "execution_count": 66,
   "metadata": {},
   "outputs": [
    {
     "data": {
      "text/plain": [
       "['build a logistic regression model with wml & dsx',\n",
       " 'the greatest public datasets for ai – startup grind',\n",
       " 'how to perform a logistic regression in r',\n",
       " 'a comparison of logistic regression and naive bayes ',\n",
       " 'use deep learning for image classification',\n",
       " 'insights from new york car accident reports',\n",
       " 'visualize car data with brunel',\n",
       " 'use xgboost, scikit-learn & ibm watson machine learning apis',\n",
       " 'predicting churn with the spss random tree algorithm',\n",
       " 'healthcare python streaming application demo']"
      ]
     },
     "execution_count": 66,
     "metadata": {},
     "output_type": "execute_result"
    }
   ],
   "source": [
    "# user_id = 1157 has seen 1 article -> recent user (pull 4 similar articles, the last 6 are popular articles).\n",
    "make_content_recs(5149)[1]"
   ]
  },
  {
   "cell_type": "code",
   "execution_count": 67,
   "metadata": {},
   "outputs": [
    {
     "data": {
      "text/plain": [
       "['data tidying in data science experience',\n",
       " 'this week in data science (april 18, 2017)',\n",
       " 'shaping data with ibm data refinery',\n",
       " 'data science platforms are on the rise and ibm is leading the way',\n",
       " 'timeseries data analysis of iot events by using jupyter notebook',\n",
       " 'got zip code data? prep it for analytics. – ibm watson data lab – medium',\n",
       " 'higher-order logistic regression for large datasets',\n",
       " 'using machine learning to predict parking difficulty',\n",
       " 'use deep learning for image classification',\n",
       " 'insights from new york car accident reports']"
      ]
     },
     "execution_count": 67,
     "metadata": {},
     "output_type": "execute_result"
    }
   ],
   "source": [
    "# user_id = 23 has seen 135 articles -> old user (pull 4 similar articles, 4 articles from similar users, \n",
    "# and 2 popular articles).\n",
    "make_content_recs(23)[1]"
   ]
  },
  {
   "cell_type": "code",
   "execution_count": 68,
   "metadata": {},
   "outputs": [
    {
     "data": {
      "text/plain": [
       "['using deep learning to reconstruct high-resolution audio',\n",
       " 'data tidying in data science experience',\n",
       " 'this week in data science (april 18, 2017)',\n",
       " 'share the (pixiedust) magic – ibm watson data lab – medium',\n",
       " 'timeseries data analysis of iot events by using jupyter notebook',\n",
       " 'got zip code data? prep it for analytics. – ibm watson data lab – medium',\n",
       " 'working interactively with rstudio and notebooks in dsx',\n",
       " 'a comparison of logistic regression and naive bayes ',\n",
       " 'use deep learning for image classification',\n",
       " 'insights from new york car accident reports']"
      ]
     },
     "execution_count": 68,
     "metadata": {},
     "output_type": "execute_result"
    }
   ],
   "source": [
    "# user_id = 3764 has seen 97 articles -> old user (pull 4 similar articles, 4 articles from similar users, \n",
    "# and 2 popular articles).\n",
    "make_content_recs(3764)[1]"
   ]
  },
  {
   "cell_type": "code",
   "execution_count": 69,
   "metadata": {},
   "outputs": [
    {
     "data": {
      "text/plain": [
       "['the random forest algorithm ',\n",
       " 'Improved Performance for Redis Cache Mode on Compose',\n",
       " 'Finding the Mode in PostgreSQL',\n",
       " 'Mongo Metrics: Calculating the Mode',\n",
       " 'ibm-cds-labs/hybrid-cloud-tutorial',\n",
       " 'random forest interpretation – conditional feature contributions',\n",
       " 'jupyter notebook tutorial',\n",
       " 'some random weekend reading',\n",
       " 'use deep learning for image classification',\n",
       " 'insights from new york car accident reports']"
      ]
     },
     "execution_count": 69,
     "metadata": {},
     "output_type": "execute_result"
    }
   ],
   "source": [
    "# user_id = 3190 has seen 6 articles -> old user (pull 4 similar articles, 4 articles from similar users, \n",
    "# and 2 popular articles).\n",
    "make_content_recs(3190)[1]"
   ]
  },
  {
   "cell_type": "markdown",
   "metadata": {},
   "source": [
    "`2.` Summary of the content based recommender system above:"
   ]
  },
  {
   "cell_type": "markdown",
   "metadata": {},
   "source": [
    "The function above gives a combination of 3 recommendation approaches (ppopular, content-based and collaborative filtering) tailored to 3 different types of users, with the aim of giving recommendations that, regardless of user type, are always relevant, new to the user, and are varied:\n",
    "- New users: as there are no data about user preferences, recommendations are the most popular articles in the platform\n",
    "- Recent users: if the user has read 5 articles or less, the recommendations include up to 80% of articles similar to those seen by the user (computed by cosine similarity on tfidf-vectorized articles text) and at least 20% of popular articles. For similar articles, articles seen by user are first sorted by the number of views of each article and then, starting with the most popular, similar articles (up to a maximum of 4) are pulled from each one of those articles, to bring more variety.\n",
    "- Old users: for users that have seen more than 5 articles, we add to the previous approaches a layer of recommendations pulled from similar users. The 3 approaches are blended to give variety, but prioritizing content similarity (40% of recommendations), then articles from similar users (40% of recommendations), and finally adding at least a 20% of popular articles. Such proportional mixture is made in each call to the recommendations generator function.\n",
    "\n",
    "One way to improve the funtion above is by measuring the goodness of the recommendation system. One way to to so is by making predicitions and comparing them with actual results observed from user behavior. Once we have a system with enough accurate predictions, we could use them to further refine the recommendations by subselecting those articles that are not only simmilar or popular, but are predicted to be liked by the user"
   ]
  },
  {
   "cell_type": "markdown",
   "metadata": {},
   "source": [
    "`3.` Let's test the recommendation system to make recommendations for some additional scenarios:"
   ]
  },
  {
   "cell_type": "code",
   "execution_count": 70,
   "metadata": {},
   "outputs": [
    {
     "data": {
      "text/plain": [
       "['use deep learning for image classification',\n",
       " 'insights from new york car accident reports',\n",
       " 'visualize car data with brunel',\n",
       " 'use xgboost, scikit-learn & ibm watson machine learning apis',\n",
       " 'predicting churn with the spss random tree algorithm',\n",
       " 'healthcare python streaming application demo',\n",
       " 'finding optimal locations of new store using decision optimization',\n",
       " 'apache spark lab, part 1: basic concepts',\n",
       " 'analyze energy consumption in buildings',\n",
       " 'gosales transactions for logistic regression model']"
      ]
     },
     "execution_count": 70,
     "metadata": {},
     "output_type": "execute_result"
    }
   ],
   "source": [
    "# make recommendations for a brand new user\n",
    "make_content_recs(50000)[1]"
   ]
  },
  {
   "cell_type": "code",
   "execution_count": 71,
   "metadata": {},
   "outputs": [
    {
     "name": "stdout",
     "output_type": "stream",
     "text": [
      "user id : 2234, number of articles seen: 1\n",
      "user id : 2360, number of articles seen: 1\n",
      "user id : 331, number of articles seen: 1\n",
      "user id : 348, number of articles seen: 1\n",
      "user id : 504, number of articles seen: 1\n",
      "user id : 2595, number of articles seen: 1\n",
      "user id : 2597, number of articles seen: 1\n",
      "user id : 2820, number of articles seen: 1\n",
      "user id : 2825, number of articles seen: 1\n",
      "user id : 2835, number of articles seen: 1\n",
      "user id : 2838, number of articles seen: 1\n",
      "user id : 3630, number of articles seen: 1\n"
     ]
    }
   ],
   "source": [
    "# make recommendations for a user who only has interacted with article id '1427.0'\n",
    "# Let's identify those users\n",
    "for user in set(df[df['article_id']==1427]['user_id'].tolist()): # users that have seen article 1427\n",
    "    seen_ids = get_user_articles(user)\n",
    "    if len(seen_ids) == 1:\n",
    "        print(\"user id : {}, number of articles seen: {}\".format(user, len(seen_ids)))"
   ]
  },
  {
   "cell_type": "code",
   "execution_count": 72,
   "metadata": {},
   "outputs": [
    {
     "data": {
      "text/plain": [
       "0"
      ]
     },
     "execution_count": 72,
     "metadata": {},
     "output_type": "execute_result"
    }
   ],
   "source": [
    "# Article 1427 is not in df_content, therefore even if the user is from category \"recent users\", \n",
    "# the recommendations for those users who only have interacted with artcile 1427 will be as if they were \"new users\"\n",
    "# because there is no content simmilarity to compute\n",
    "len(df_content[df_content['article_id']==1427])"
   ]
  },
  {
   "cell_type": "code",
   "execution_count": 73,
   "metadata": {},
   "outputs": [
    {
     "data": {
      "text/plain": [
       "['use deep learning for image classification',\n",
       " 'insights from new york car accident reports',\n",
       " 'visualize car data with brunel',\n",
       " 'use xgboost, scikit-learn & ibm watson machine learning apis',\n",
       " 'predicting churn with the spss random tree algorithm',\n",
       " 'healthcare python streaming application demo',\n",
       " 'finding optimal locations of new store using decision optimization',\n",
       " 'apache spark lab, part 1: basic concepts',\n",
       " 'analyze energy consumption in buildings',\n",
       " 'gosales transactions for logistic regression model']"
      ]
     },
     "execution_count": 73,
     "metadata": {},
     "output_type": "execute_result"
    }
   ],
   "source": [
    "make_content_recs(2234)[1]"
   ]
  },
  {
   "cell_type": "markdown",
   "metadata": {},
   "source": [
    "### <a class=\"anchor\" id=\"Matrix-Fact\">Part V: Matrix Factorization</a>\n",
    "\n",
    "In this part of the notebook, I use matrix factorization to predict articles that will be liked by the users on the IBM Watson Studio platform. Let's load the user-item matrix created above (in question 1, part III)"
   ]
  },
  {
   "cell_type": "code",
   "execution_count": 74,
   "metadata": {},
   "outputs": [],
   "source": [
    "# Load the matrix here\n",
    "user_item_matrix = pd.read_pickle('user_item_matrix.p')"
   ]
  },
  {
   "cell_type": "code",
   "execution_count": 75,
   "metadata": {},
   "outputs": [
    {
     "data": {
      "text/html": [
       "<div>\n",
       "<style scoped>\n",
       "    .dataframe tbody tr th:only-of-type {\n",
       "        vertical-align: middle;\n",
       "    }\n",
       "\n",
       "    .dataframe tbody tr th {\n",
       "        vertical-align: top;\n",
       "    }\n",
       "\n",
       "    .dataframe thead th {\n",
       "        text-align: right;\n",
       "    }\n",
       "</style>\n",
       "<table border=\"1\" class=\"dataframe\">\n",
       "  <thead>\n",
       "    <tr style=\"text-align: right;\">\n",
       "      <th>article_id</th>\n",
       "      <th>0.0</th>\n",
       "      <th>100.0</th>\n",
       "      <th>1000.0</th>\n",
       "      <th>1004.0</th>\n",
       "      <th>1006.0</th>\n",
       "      <th>1008.0</th>\n",
       "      <th>101.0</th>\n",
       "      <th>1014.0</th>\n",
       "      <th>1015.0</th>\n",
       "      <th>1016.0</th>\n",
       "      <th>...</th>\n",
       "      <th>977.0</th>\n",
       "      <th>98.0</th>\n",
       "      <th>981.0</th>\n",
       "      <th>984.0</th>\n",
       "      <th>985.0</th>\n",
       "      <th>986.0</th>\n",
       "      <th>990.0</th>\n",
       "      <th>993.0</th>\n",
       "      <th>996.0</th>\n",
       "      <th>997.0</th>\n",
       "    </tr>\n",
       "    <tr>\n",
       "      <th>user_id</th>\n",
       "      <th></th>\n",
       "      <th></th>\n",
       "      <th></th>\n",
       "      <th></th>\n",
       "      <th></th>\n",
       "      <th></th>\n",
       "      <th></th>\n",
       "      <th></th>\n",
       "      <th></th>\n",
       "      <th></th>\n",
       "      <th></th>\n",
       "      <th></th>\n",
       "      <th></th>\n",
       "      <th></th>\n",
       "      <th></th>\n",
       "      <th></th>\n",
       "      <th></th>\n",
       "      <th></th>\n",
       "      <th></th>\n",
       "      <th></th>\n",
       "      <th></th>\n",
       "    </tr>\n",
       "  </thead>\n",
       "  <tbody>\n",
       "    <tr>\n",
       "      <th>1</th>\n",
       "      <td>0.0</td>\n",
       "      <td>0.0</td>\n",
       "      <td>0.0</td>\n",
       "      <td>0.0</td>\n",
       "      <td>0.0</td>\n",
       "      <td>0.0</td>\n",
       "      <td>0.0</td>\n",
       "      <td>0.0</td>\n",
       "      <td>0.0</td>\n",
       "      <td>0.0</td>\n",
       "      <td>...</td>\n",
       "      <td>0.0</td>\n",
       "      <td>0.0</td>\n",
       "      <td>1.0</td>\n",
       "      <td>0.0</td>\n",
       "      <td>0.0</td>\n",
       "      <td>0.0</td>\n",
       "      <td>0.0</td>\n",
       "      <td>0.0</td>\n",
       "      <td>0.0</td>\n",
       "      <td>0.0</td>\n",
       "    </tr>\n",
       "    <tr>\n",
       "      <th>2</th>\n",
       "      <td>0.0</td>\n",
       "      <td>0.0</td>\n",
       "      <td>0.0</td>\n",
       "      <td>0.0</td>\n",
       "      <td>0.0</td>\n",
       "      <td>0.0</td>\n",
       "      <td>0.0</td>\n",
       "      <td>0.0</td>\n",
       "      <td>0.0</td>\n",
       "      <td>0.0</td>\n",
       "      <td>...</td>\n",
       "      <td>0.0</td>\n",
       "      <td>0.0</td>\n",
       "      <td>0.0</td>\n",
       "      <td>0.0</td>\n",
       "      <td>0.0</td>\n",
       "      <td>0.0</td>\n",
       "      <td>0.0</td>\n",
       "      <td>0.0</td>\n",
       "      <td>0.0</td>\n",
       "      <td>0.0</td>\n",
       "    </tr>\n",
       "    <tr>\n",
       "      <th>3</th>\n",
       "      <td>0.0</td>\n",
       "      <td>0.0</td>\n",
       "      <td>0.0</td>\n",
       "      <td>0.0</td>\n",
       "      <td>0.0</td>\n",
       "      <td>0.0</td>\n",
       "      <td>0.0</td>\n",
       "      <td>0.0</td>\n",
       "      <td>0.0</td>\n",
       "      <td>0.0</td>\n",
       "      <td>...</td>\n",
       "      <td>1.0</td>\n",
       "      <td>0.0</td>\n",
       "      <td>0.0</td>\n",
       "      <td>0.0</td>\n",
       "      <td>0.0</td>\n",
       "      <td>0.0</td>\n",
       "      <td>0.0</td>\n",
       "      <td>0.0</td>\n",
       "      <td>0.0</td>\n",
       "      <td>0.0</td>\n",
       "    </tr>\n",
       "    <tr>\n",
       "      <th>4</th>\n",
       "      <td>0.0</td>\n",
       "      <td>0.0</td>\n",
       "      <td>0.0</td>\n",
       "      <td>0.0</td>\n",
       "      <td>0.0</td>\n",
       "      <td>0.0</td>\n",
       "      <td>0.0</td>\n",
       "      <td>0.0</td>\n",
       "      <td>0.0</td>\n",
       "      <td>0.0</td>\n",
       "      <td>...</td>\n",
       "      <td>0.0</td>\n",
       "      <td>0.0</td>\n",
       "      <td>0.0</td>\n",
       "      <td>0.0</td>\n",
       "      <td>0.0</td>\n",
       "      <td>0.0</td>\n",
       "      <td>0.0</td>\n",
       "      <td>0.0</td>\n",
       "      <td>0.0</td>\n",
       "      <td>0.0</td>\n",
       "    </tr>\n",
       "    <tr>\n",
       "      <th>5</th>\n",
       "      <td>0.0</td>\n",
       "      <td>0.0</td>\n",
       "      <td>0.0</td>\n",
       "      <td>0.0</td>\n",
       "      <td>0.0</td>\n",
       "      <td>0.0</td>\n",
       "      <td>0.0</td>\n",
       "      <td>0.0</td>\n",
       "      <td>0.0</td>\n",
       "      <td>0.0</td>\n",
       "      <td>...</td>\n",
       "      <td>0.0</td>\n",
       "      <td>0.0</td>\n",
       "      <td>0.0</td>\n",
       "      <td>0.0</td>\n",
       "      <td>0.0</td>\n",
       "      <td>0.0</td>\n",
       "      <td>0.0</td>\n",
       "      <td>0.0</td>\n",
       "      <td>0.0</td>\n",
       "      <td>0.0</td>\n",
       "    </tr>\n",
       "  </tbody>\n",
       "</table>\n",
       "<p>5 rows × 714 columns</p>\n",
       "</div>"
      ],
      "text/plain": [
       "article_id  0.0  100.0  1000.0  1004.0  1006.0  1008.0  101.0  1014.0  1015.0  \\\n",
       "user_id                                                                         \n",
       "1           0.0    0.0     0.0     0.0     0.0     0.0    0.0     0.0     0.0   \n",
       "2           0.0    0.0     0.0     0.0     0.0     0.0    0.0     0.0     0.0   \n",
       "3           0.0    0.0     0.0     0.0     0.0     0.0    0.0     0.0     0.0   \n",
       "4           0.0    0.0     0.0     0.0     0.0     0.0    0.0     0.0     0.0   \n",
       "5           0.0    0.0     0.0     0.0     0.0     0.0    0.0     0.0     0.0   \n",
       "\n",
       "article_id  1016.0  ...  977.0  98.0  981.0  984.0  985.0  986.0  990.0  \\\n",
       "user_id             ...                                                   \n",
       "1              0.0  ...    0.0   0.0    1.0    0.0    0.0    0.0    0.0   \n",
       "2              0.0  ...    0.0   0.0    0.0    0.0    0.0    0.0    0.0   \n",
       "3              0.0  ...    1.0   0.0    0.0    0.0    0.0    0.0    0.0   \n",
       "4              0.0  ...    0.0   0.0    0.0    0.0    0.0    0.0    0.0   \n",
       "5              0.0  ...    0.0   0.0    0.0    0.0    0.0    0.0    0.0   \n",
       "\n",
       "article_id  993.0  996.0  997.0  \n",
       "user_id                          \n",
       "1             0.0    0.0    0.0  \n",
       "2             0.0    0.0    0.0  \n",
       "3             0.0    0.0    0.0  \n",
       "4             0.0    0.0    0.0  \n",
       "5             0.0    0.0    0.0  \n",
       "\n",
       "[5 rows x 714 columns]"
      ]
     },
     "execution_count": 75,
     "metadata": {},
     "output_type": "execute_result"
    }
   ],
   "source": [
    "# quick look at the matrix\n",
    "user_item_matrix.head()"
   ]
  },
  {
   "cell_type": "markdown",
   "metadata": {},
   "source": [
    "`2.` In this situation, I can use Singular Value Decomposition (SVD) from [numpy](https://docs.scipy.org/doc/numpy-1.14.0/reference/generated/numpy.linalg.svd.html) on the user-item matrix (next cell code, explanation below):"
   ]
  },
  {
   "cell_type": "code",
   "execution_count": 76,
   "metadata": {},
   "outputs": [],
   "source": [
    "# Perform SVD on the User-Item Matrix Here\n",
    "\n",
    "u, s, vt = np.linalg.svd(user_item_matrix)"
   ]
  },
  {
   "cell_type": "markdown",
   "metadata": {},
   "source": [
    "The reason why we can use SVD in this situation is that there are no missing values in the user item-matrix. Such matrix here has 2 possible values: 1 if the user has viewed the article, 0 otherwise. In other circumstances, for example if we had a matrix of ratings (ranging from 0-10) instead of binary-encoded views events (with only 2 possible values, as explained), or if we had missing values because of users not having rated certain items, then we could not use SVD directly from numpy, but we could have used an iterative approach such as FunkSVD. Here, as said, we can directly use SVD because we are predicting user views of articles, not a specific rating."
   ]
  },
  {
   "cell_type": "markdown",
   "metadata": {},
   "source": [
    "SVD assumes that similar users interact similarly with similar items, based on the existence of latent factors that explain the relationship between users and items. Indeed, by assuming a number of latent factors, we can mathematically predict the original user-item matrix by linear algebra (cell above) on a subset of data and then compare it with actual results to establish the accuracy of the prediction."
   ]
  },
  {
   "cell_type": "code",
   "execution_count": 77,
   "metadata": {},
   "outputs": [
    {
     "data": {
      "text/plain": [
       "0"
      ]
     },
     "execution_count": 77,
     "metadata": {},
     "output_type": "execute_result"
    }
   ],
   "source": [
    "# Confirm there are no missing values in the user-item matrix\n",
    "np.isnan(user_item_matrix).sum().sum()"
   ]
  },
  {
   "cell_type": "markdown",
   "metadata": {},
   "source": [
    "`3.` Now, how do we choose the number of latent features to use? The cell below shows that as the number of latent features increases, we obtain a lower error rate on making predictions for the 1 and 0 values in the user-item matrix."
   ]
  },
  {
   "cell_type": "code",
   "execution_count": 78,
   "metadata": {},
   "outputs": [
    {
     "data": {
      "image/png": "[encoded data removed]",
      "text/plain": [
       "<Figure size 640x480 with 1 Axes>"
      ]
     },
     "metadata": {},
     "output_type": "display_data"
    }
   ],
   "source": [
    "num_latent_feats = np.arange(10,700+10,20)\n",
    "sum_errs = []\n",
    "\n",
    "for k in num_latent_feats:\n",
    "    # restructure with k latent features\n",
    "    s_new, u_new, vt_new = np.diag(s[:k]), u[:, :k], vt[:k, :]\n",
    "    \n",
    "    # take dot product\n",
    "    user_item_est = np.around(np.dot(np.dot(u_new, s_new), vt_new))\n",
    "    \n",
    "    # compute error for each prediction to actual value\n",
    "    diffs = np.subtract(user_item_matrix, user_item_est)\n",
    "    \n",
    "    # total errors and keep track of them\n",
    "    err = np.sum(np.sum(np.abs(diffs)))\n",
    "    sum_errs.append(err)\n",
    "    \n",
    "    \n",
    "plt.plot(num_latent_feats, 1 - np.array(sum_errs)/df.shape[0]);\n",
    "plt.xlabel('Number of Latent Features');\n",
    "plt.ylabel('Accuracy');\n",
    "plt.title('Accuracy vs. Number of Latent Features');"
   ]
  },
  {
   "cell_type": "markdown",
   "metadata": {},
   "source": [
    "`4.` Next, let's split our dataset into a training and test set of data, as shown in the cell below, to measure the accuracy of the prediction and how it is affected by choosing different number of latent factors. \n",
    "\n",
    "* How many users can we make predictions for in the test set?  \n",
    "* How many users are we not able to make predictions for because of the cold start problem?\n",
    "* How many articles can we make predictions for in the test set?  \n",
    "* How many articles are we not able to make predictions for because of the cold start problem?"
   ]
  },
  {
   "cell_type": "code",
   "execution_count": 79,
   "metadata": {},
   "outputs": [],
   "source": [
    "df_train = df.head(40000)\n",
    "df_test = df.tail(5993)\n",
    "\n",
    "def create_test_and_train_user_item(df_train, df_test):\n",
    "    '''\n",
    "    INPUT:\n",
    "    df_train - training dataframe\n",
    "    df_test - test dataframe\n",
    "    \n",
    "    OUTPUT:\n",
    "    user_item_train - a user-item matrix of the training dataframe \n",
    "                      (unique users for each row and unique articles for each column)\n",
    "    user_item_test - a user-item matrix of the testing dataframe \n",
    "                    (unique users for each row and unique articles for each column)\n",
    "    test_idx - all of the test user ids\n",
    "    test_arts - all of the test article ids\n",
    "    \n",
    "    '''\n",
    "\n",
    "    user_item_train = create_user_item_matrix(df_train)\n",
    "    user_item_test = create_user_item_matrix(df_test)\n",
    "    test_idx = df_test['user_id'].unique().tolist()\n",
    "    test_arts = df_test['article_id'].unique().tolist()\n",
    "    \n",
    "    return user_item_train, user_item_test, test_idx, test_arts\n",
    "\n",
    "user_item_train, user_item_test, test_idx, test_arts = create_test_and_train_user_item(df_train, df_test)"
   ]
  },
  {
   "cell_type": "code",
   "execution_count": 80,
   "metadata": {},
   "outputs": [
    {
     "data": {
      "text/plain": [
       "20"
      ]
     },
     "execution_count": 80,
     "metadata": {},
     "output_type": "execute_result"
    }
   ],
   "source": [
    "# how many users in test set we could make predictions for? -> those users in test set that are also in the train set\n",
    "train_idx = df_train['user_id'].unique().tolist()\n",
    "test_users_predicted = [user for user in test_idx if user in train_idx]\n",
    "n_test_users_predicted = len(test_users_predicted)\n",
    "n_test_users_predicted"
   ]
  },
  {
   "cell_type": "code",
   "execution_count": 81,
   "metadata": {},
   "outputs": [
    {
     "data": {
      "text/plain": [
       "662"
      ]
     },
     "execution_count": 81,
     "metadata": {},
     "output_type": "execute_result"
    }
   ],
   "source": [
    "# users in test set we could not make predictions because of the cold-start problem:\n",
    "n_test_users_no_predicted = len(test_idx) - n_test_users_predicted\n",
    "n_test_users_no_predicted"
   ]
  },
  {
   "cell_type": "code",
   "execution_count": 82,
   "metadata": {},
   "outputs": [
    {
     "data": {
      "text/plain": [
       "574"
      ]
     },
     "execution_count": 82,
     "metadata": {},
     "output_type": "execute_result"
    }
   ],
   "source": [
    "# articles in test set we could make predictions -> those in the test set that are also in the train set:\n",
    "train_arts = df_train['article_id'].unique().tolist()\n",
    "test_articles_predicted = [article for article in test_arts if article in train_arts]\n",
    "n_test_articles_predicted = len(test_articles_predicted)\n",
    "n_test_articles_predicted"
   ]
  },
  {
   "cell_type": "code",
   "execution_count": 83,
   "metadata": {},
   "outputs": [
    {
     "data": {
      "text/plain": [
       "0"
      ]
     },
     "execution_count": 83,
     "metadata": {},
     "output_type": "execute_result"
    }
   ],
   "source": [
    "# articles in test set we could not make predictions because of the cold-start problem:\n",
    "n_test_arts_no_predicted = len(test_arts) - n_test_articles_predicted\n",
    "n_test_arts_no_predicted"
   ]
  },
  {
   "cell_type": "code",
   "execution_count": 84,
   "metadata": {},
   "outputs": [
    {
     "name": "stdout",
     "output_type": "stream",
     "text": [
      "Awesome job!  That's right!  All of the test articles are in the training data, but there are only 20 test users that were also in the training set.  All of the other users that are in the test set we have no data on.  Therefore, we cannot make predictions for these users using SVD.\n"
     ]
    }
   ],
   "source": [
    "# Replace the values in the dictionary below\n",
    "a = 662 \n",
    "b = 574 \n",
    "c = 20 \n",
    "d = 0 \n",
    "\n",
    "\n",
    "sol_4_dict = {\n",
    "    'How many users can we make predictions for in the test set?': c, \n",
    "    'How many users in the test set are we not able to make predictions for because of the cold start problem?': a, \n",
    "    'How many articles can we make predictions for in the test set?': b,\n",
    "    'How many articles in the test set are we not able to make predictions for because of the cold start problem?': d\n",
    "}\n",
    "\n",
    "t.sol_4_test(sol_4_dict)"
   ]
  },
  {
   "cell_type": "markdown",
   "metadata": {},
   "source": [
    "`5.` Now let's explore how well SVD works towards making predictions for recommendations on the test data.  Let's find U, S and V transpose using SVD on user_item_train and then compare the predicted data with the actual data in user_item_test to see how accuracy is affected by the number of latent factors."
   ]
  },
  {
   "cell_type": "code",
   "execution_count": 85,
   "metadata": {},
   "outputs": [],
   "source": [
    "# fit SVD on the user_item_train matrix\n",
    "u_train, s_train, vt_train = np.linalg.svd(user_item_train)"
   ]
  },
  {
   "cell_type": "code",
   "execution_count": 86,
   "metadata": {},
   "outputs": [
    {
     "data": {
      "image/png": "[encoded data removed]",
      "text/plain": [
       "<Figure size 640x480 with 1 Axes>"
      ]
     },
     "metadata": {},
     "output_type": "display_data"
    }
   ],
   "source": [
    "# Use these cells to see how well you can use the training \n",
    "# decomposition to predict on test data\n",
    "num_latent_feats = np.arange(10,700+10,20)\n",
    "sum_errs = []\n",
    "\n",
    "# localize rows and columns in training and test sets that were predicted and can be compared\n",
    "user_item_train_df = create_user_item_df(df_train)\n",
    "user_item_test_df = create_user_item_df(df_test)\n",
    "predicted_rows_train = user_item_train_df.index.get_indexer(test_users_predicted)\n",
    "predicted_cols_train = user_item_test_df.columns.get_indexer(test_articles_predicted)\n",
    "predicted_rows_test = user_item_test_df.index.get_indexer(test_users_predicted)\n",
    "\n",
    "for k in num_latent_feats:\n",
    "    # restructure with k latent features\n",
    "    s_new, u_new, vt_new = np.diag(s_train[:k]), u_train[:, :k], vt_train[:k, :]\n",
    "    \n",
    "    # take dot product\n",
    "    user_item_est_train = np.around(np.dot(np.dot(u_new, s_new), vt_new))\n",
    "    \n",
    "    # extract values from estimated train set for users and articles in test set (= estimated test set)\n",
    "    user_item_est_train_compare = user_item_est_train[predicted_rows_train,:]\n",
    "    user_item_est_train_compare = user_item_est_train_compare[:, predicted_cols_train]\n",
    "    \n",
    "    # extract values from actual test set that were predicted\n",
    "    user_item_test_predicted = user_item_test[predicted_rows_test,:]\n",
    "    \n",
    "    # compute error for each prediction to actual value\n",
    "    diffs = np.subtract(user_item_test_predicted, user_item_est_train_compare)\n",
    "    \n",
    "    # total errors and keep track of them\n",
    "    err = np.sum(np.sum(np.abs(diffs)))\n",
    "    sum_errs.append(err)\n",
    "    \n",
    "    \n",
    "plt.plot(num_latent_feats, 1 - np.array(sum_errs)/df_test.shape[0]);\n",
    "plt.xlabel('Number of Latent Features');\n",
    "plt.ylabel('Accuracy');\n",
    "plt.title('Accuracy vs. Number of Latent Features');"
   ]
  },
  {
   "cell_type": "markdown",
   "metadata": {
    "collapsed": true
   },
   "source": [
    "`6.` Comment on the results: are we improving how users currently find articles? "
   ]
  },
  {
   "cell_type": "markdown",
   "metadata": {},
   "source": [
    "As shown in the plot above, the prediction based on SVD has quite high accuracy. Even if accuracy decreases as the number of latent features increases, the decay seems quite small. It seems that taking 300 latent features may be a good number as further increasing this number does not bring additional change in accuracy, and looking at the corresponding plot done with the entire dataset also supports this. Nevertheless, the decrease in accuracy from 10 latent factors to 300 is quite small, so even the lower number could be appropriate. Performance factors may come to help make the decision on how many latent factors to use."
   ]
  },
  {
   "cell_type": "markdown",
   "metadata": {},
   "source": [
    "Thus, it seems we have a quite accurate prediction system that we could use to refine the recommendations (see below). Nevertheless, we should acknoweldge that so far we are drawing conclusions only from 20 users in which we could make predictions. Also, we do not know what actually a decay of accuracy from 0.96 with 10 latent factors to 0.935 with 300 latent factors means practically (would that make users dissapointed?). Therefore, we should collect more data to confirm the above accuracy. It should also be analysed how increasing the number of latent factors to up to 300 impacts the speed at which recommendations are pulled and presented. Additionally, at the very end, after deployment we should also measure that adding a recommender system will actually increase econometric measures of success, for example, the amount of unique articles viewed by each user, time using the platform, or conversion measures if applicable (% purchases, clicks on ads, etc)."
   ]
  },
  {
   "cell_type": "markdown",
   "metadata": {},
   "source": [
    "### Final recommender"
   ]
  },
  {
   "cell_type": "markdown",
   "metadata": {},
   "source": [
    "The final recommender will combine all of the approaches used before. SVD can be used to add another layer of filtering to ensure relevance of recommended articles by removing those articles not predicted to be liked by the user. In this particular case, it will be used to filter the movies from which to pull items when looking at articles from similar users. The final function is below:"
   ]
  },
  {
   "cell_type": "code",
   "execution_count": 87,
   "metadata": {},
   "outputs": [],
   "source": [
    "def predicted_articles_ids_svd(user_id, user_item_matrix=user_item_matrix, k=300):\n",
    "    ''' Returns articles ids predicted by SVD to be liked by user\n",
    "    INPUT:\n",
    "        user_id (int): id of user on whom to predict liked articles\n",
    "        user_item_matrix (2D numpy array): matrix of user-item interactions (unique users for each row and unique articles for each column)\n",
    "        k (int): number of latent factors to use in SVD\n",
    "        \n",
    "    OUTPUT:\n",
    "        predicted_articles_ids (list of integers): id of articles predicted to be liked for the input user_id\n",
    "    '''\n",
    "    # matrix factorization\n",
    "    u, s, vt = np.linalg.svd(user_item_matrix)\n",
    "    # restructure with k latent features\n",
    "    s_new, u_new, vt_new = np.diag(s[:k]), u[:, :k], vt[:k, :]\n",
    "    \n",
    "    # obtain predicted user-articles matrix\n",
    "    user_item_est = np.around(np.dot(np.dot(u_new, s_new), vt_new))\n",
    "            \n",
    "    # get list of articles ids predicted to be liked by user\n",
    "    est_user_row = user_item_est[user_item_matrix.index.get_loc(user_id),:]\n",
    "    df_pred = pd.DataFrame(est_user_row, index=user_item_matrix.columns)\n",
    "    predicted_articles_ids = df_pred.loc[df_pred[0]==1].index.tolist()\n",
    "    predicted_articles_ids = [int(float(idx)) for idx in predicted_articles_ids]\n",
    "        \n",
    "    return predicted_articles_ids"
   ]
  },
  {
   "cell_type": "code",
   "execution_count": 88,
   "metadata": {},
   "outputs": [],
   "source": [
    "def final_recommender(user_id, m=10, user_item_matrix=user_item_matrix, k=300, df=df, df_content=df_content, dot_prod_df = dot_prod_df):\n",
    "    ''' Gives a recommendation of articles customized for each type of user (new users, recent users, old users). \n",
    "    \n",
    "    For new users, the most popular articles are pulled and shown ordered by popularity. \n",
    "    For recent users, popular articles as well as articles whose titles are similar to those already seen by the user. \n",
    "    For old users, in addition to the previous approaches, the system shows\n",
    "    articles that are also seen by similar users removing those not predicted to be liked by matrix factorization with SVD.\n",
    "    \n",
    "    INPUT:\n",
    "        user_id - (int) a user id\n",
    "        m - (int) the number of recommendations you want for the user\n",
    "        user_item_matrix (2D numpy array): matrix of user-item interactions (unique users for each row and unique articles \n",
    "        for each column)\n",
    "        k (int): number of latent factors to use in SVD\n",
    "    \n",
    "    OUTPUT:\n",
    "        recs - (list) a list of recommendations for the user by article id\n",
    "        rec_names - (list) a list of recommendations for the user by article title\n",
    "    \n",
    "    '''\n",
    "    popular_articles_ids = get_top_article_ids(m, df=df)\n",
    "    popular_articles_names = get_top_articles(m, df=df)\n",
    "    \n",
    "    \n",
    "    ''' new users (no articles read yet) -> popular items\n",
    "    ''' \n",
    "    if user_id not in df['user_id'].unique():\n",
    "        recs = popular_articles_ids\n",
    "        rec_names = popular_articles_names\n",
    "    else:\n",
    "        recs = []\n",
    "        # get articles read by user:\n",
    "        seen_ids = get_user_articles(user_id, user_item=user_item_matrix)\n",
    "        # remove articles not present in df_content (no similarity can be analysed)\n",
    "        seen_ids = [idx for idx in seen_ids if int(float(idx)) in df_content['article_id'].unique()]\n",
    "        # sort articles seen by number of views\n",
    "        df_views_articles = df[['article_id','title']].groupby(['article_id']).count().rename(columns={'title':'n_views'})\n",
    "        sorted_articles = df_views_articles[df_views_articles.index.isin([int(float(idx)) for idx in seen_ids])].sort_values(by='n_views', ascending=False).index.tolist()           \n",
    "        \n",
    "        ''' Recent users (less than 5 articles read) -> up to 80% similar articles, at least 20% popular items \n",
    "        5 is an arbitrary threshold, could be optimized, but visual exploration suggest it is ok\n",
    "        '''\n",
    "        if len(sorted_articles) < 6:\n",
    "            # collect similar articles \n",
    "            for article in sorted_articles:\n",
    "                # find similar articles (4 for each seen article, to add variety)\n",
    "                similar_ids = find_similar_articles(article_id = article, n_recs = 4, df=df_content)[2]\n",
    "                # store and remove those already seen by user\n",
    "                recs.extend(similar_ids)\n",
    "                recs = list(set(recs) - set(seen_ids))        \n",
    "                # if number of collected recommendations exceeds m, stop loop\n",
    "                if len(recs) > int(0.8 * m) -1 :\n",
    "                    recs = recs[:int(0.8 * m)]\n",
    "                    break       \n",
    "        else:\n",
    "            ''' old users (more than 5 articles read) -> up to 50% similar articles, at least 50% articles from simmilar \n",
    "            users, filtered by SVD-prediction, and until 100% popular items '''\n",
    "            \n",
    "            # similar articles (content similarity)\n",
    "            for article in sorted_articles:\n",
    "                # find similar articles (2 for each seen article, to add variety)\n",
    "                similar_ids = find_similar_articles(article_id = article, n_recs = 2, df=df_content)[2]\n",
    "                # store and remove those already seen by user\n",
    "                recs.extend(similar_ids)\n",
    "                recs = list(set(recs) - set(seen_ids))        \n",
    "                # if number of collected recommendations exceeds m, stop loop\n",
    "                if len(recs) > int(0.5 * m) -1 :\n",
    "                    recs = recs[:(int(0.5 * m) -1)]\n",
    "                    break \n",
    "            \n",
    "            # articles from similar users      \n",
    "            similar_users = get_top_sorted_users(user_id, df=df, users_similarity = dot_prod_df).index.tolist()\n",
    "            \n",
    "            # compute SVD-predicted user-item matrix\n",
    "            predicted_articles = predicted_articles_ids_svd(user_id, user_item_matrix=user_item_matrix, k=k)\n",
    "            \n",
    "            for user in similar_users:\n",
    "                # For each user get his/her articles\n",
    "                new_ids = get_user_articles(user, user_item=user_item_matrix)\n",
    "                new_ids = [int(float(idx)) for idx in new_ids]\n",
    "                # filter out articles not predicted to be liked by svd\n",
    "                filtered_ids = [idx for idx in new_ids if idx in predicted_articles]\n",
    "                # sort articles by number of views\n",
    "                sorted_articles_user = df_views_articles[df_views_articles.index.isin(filtered_ids)].sort_values(by='n_views', ascending=False).index.tolist()\n",
    "                # save ids in recs\n",
    "                recs.extend(sorted_articles_user)\n",
    "                # remove articles already seen by input user\n",
    "                recs = list(set(recs) - set(seen_ids))\n",
    "                # if number of collected recommendations exceeds m, stop loop\n",
    "                if len(recs) > m-2:\n",
    "                    recs = recs[:m-2]\n",
    "                    break\n",
    "        \n",
    "        # Finally, for both old and recent users, after collecting similar articles (based on content or user similarity), \n",
    "        # add popular articles to recs\n",
    "        if len(recs)< m:\n",
    "            for idx in popular_articles_ids:\n",
    "                recs.append(idx)\n",
    "                recs = list(set(recs) - set(seen_ids))\n",
    "                if len(recs) > m-1:\n",
    "                    break\n",
    "\n",
    "    # convert ids back to string and get only those requested by m\n",
    "    recs = [str(idx) for idx in recs][:m]\n",
    "    rec_names = get_article_names(recs, df=df)   \n",
    "    return recs, rec_names"
   ]
  },
  {
   "cell_type": "markdown",
   "metadata": {},
   "source": [
    "As shown below, the results of this function and the previous one without SVD are quite similar. Let's pull both results for an old user, the only situation where there could be any difference between SVD and non-SVD recommenders. Indeed, the new function only slightly changes the order of recommendations."
   ]
  },
  {
   "cell_type": "code",
   "execution_count": 89,
   "metadata": {},
   "outputs": [
    {
     "data": {
      "text/plain": [
       "['using deep learning to reconstruct high-resolution audio',\n",
       " 'data tidying in data science experience',\n",
       " 'this week in data science (april 18, 2017)',\n",
       " 'share the (pixiedust) magic – ibm watson data lab – medium',\n",
       " 'timeseries data analysis of iot events by using jupyter notebook',\n",
       " 'got zip code data? prep it for analytics. – ibm watson data lab – medium',\n",
       " 'working interactively with rstudio and notebooks in dsx',\n",
       " 'a comparison of logistic regression and naive bayes ',\n",
       " 'use deep learning for image classification',\n",
       " 'insights from new york car accident reports']"
      ]
     },
     "execution_count": 89,
     "metadata": {},
     "output_type": "execute_result"
    }
   ],
   "source": [
    "# Recommender without SVD. user_id = 3764 has seen 97 articles -> old user (pull 4 similar articles, 4 articles from similar users, \n",
    "# and 2 popular articles).\n",
    "make_content_recs(3764)[1]"
   ]
  },
  {
   "cell_type": "code",
   "execution_count": 90,
   "metadata": {},
   "outputs": [
    {
     "data": {
      "text/plain": [
       "['using deep learning to reconstruct high-resolution audio',\n",
       " 'data tidying in data science experience',\n",
       " 'this week in data science (april 18, 2017)',\n",
       " 'share the (pixiedust) magic – ibm watson data lab – medium',\n",
       " 'insights from new york car accident reports',\n",
       " 'timeseries data analysis of iot events by using jupyter notebook',\n",
       " 'got zip code data? prep it for analytics. – ibm watson data lab – medium',\n",
       " 'working interactively with rstudio and notebooks in dsx',\n",
       " 'a comparison of logistic regression and naive bayes ',\n",
       " 'use deep learning for image classification']"
      ]
     },
     "execution_count": 90,
     "metadata": {},
     "output_type": "execute_result"
    }
   ],
   "source": [
    "# New function here\n",
    "final_recommender(3764)[1]"
   ]
  },
  {
   "cell_type": "markdown",
   "metadata": {
    "collapsed": true
   },
   "source": [
    "### <a class=\"anchor\" id=\"oop\">Part VI: Recommender class (OOP)</a>\n",
    "Finally, let's wrap up everything into a class to make new predictions and update the results based on user activity. Finally, let's deploy the recommender in a webapp on streamlit."
   ]
  },
  {
   "cell_type": "markdown",
   "metadata": {},
   "source": [
    "Let's first create a class that shows recommendations for a new user and stores what articles the user picks and updates recommendations accordingly using the final recommender function above. Thus, we need to update the df dataframe, but we do not write the file, so the recommender adapts only during a single session."
   ]
  },
  {
   "cell_type": "code",
   "execution_count": 91,
   "metadata": {},
   "outputs": [],
   "source": [
    "class Recommender():\n",
    "    ''' Makes recommendations of articles from IBM Watson Studio platform using a combination of ranked-based recommendations, \n",
    "    content-based recommendations and collaborative-filtering.\n",
    "    \n",
    "    For new users, the recommender shows popular articles.\n",
    "    \n",
    "    Once a user starts viewing articles, those articles are recorded to recommends articles which text title is simmilar.\n",
    "    \n",
    "    Once a user has seen more than 5 articles, the engine starts looking at similar users to pull articles seen by those, \n",
    "    among which only those predicted to be liked by the user via SVD factorization of the user-item matrix are shown.\n",
    "    \n",
    "    '''\n",
    "    def __init__(self):\n",
    "        ''' Instantiates a recommender object, load the datasets and pre-process them to have the recommender function ready\n",
    "        '''\n",
    "        # load datasets\n",
    "        self.df = pd.read_csv('data/user-item-interactions.csv')\n",
    "        self.df_content = pd.read_csv('data/articles_community.csv')\n",
    "        del self.df['Unnamed: 0']\n",
    "        del self.df_content['Unnamed: 0']\n",
    "        \n",
    "        # Remove any rows that have the same article_id - only keep the first\n",
    "        self.df_content.drop_duplicates(subset='article_id', keep='first', inplace=True)\n",
    "        \n",
    "        # map user email to create new user_id column\n",
    "        email_encoded = email_mapper(df=self.df)\n",
    "        del self.df['email']\n",
    "        self.df['user_id'] = email_encoded\n",
    "        \n",
    "        # create or load user_item matrix\n",
    "        #user_item_df = create_user_item_df(df) \n",
    "        self.user_item_matrix = pd.read_pickle('user_item_matrix.p')\n",
    "        \n",
    "        # load users similarity (dot_product) dataframe\n",
    "        self.dot_prod_df = pd.read_csv('users_dot_product.csv')\n",
    "        self.dot_prod_df.set_index('user_id', inplace=True)\n",
    "    \n",
    "    def make_recommendations(self, user_id, m=10, k=300):\n",
    "        ''' Makes recommendations for a given user_id\n",
    "        \n",
    "        INPUT:\n",
    "            user_id (int): user for whom to make recommendations\n",
    "        OUTPUT\n",
    "            None, but stores the titles of recommended articles in the 'recommended_articles' attribute\n",
    "        '''\n",
    "        self.recommended_articles = final_recommender(user_id, m=m, k=k, user_item_matrix = self.user_item_matrix, df=self.df, df_content=self.df_content, dot_prod_df=self.dot_prod_df)\n",
    "        "
   ]
  },
  {
   "cell_type": "code",
   "execution_count": 92,
   "metadata": {},
   "outputs": [],
   "source": [
    "rec = Recommender()"
   ]
  },
  {
   "cell_type": "code",
   "execution_count": 93,
   "metadata": {},
   "outputs": [
    {
     "data": {
      "text/plain": [
       "['use deep learning for image classification',\n",
       " 'insights from new york car accident reports',\n",
       " 'visualize car data with brunel',\n",
       " 'use xgboost, scikit-learn & ibm watson machine learning apis',\n",
       " 'predicting churn with the spss random tree algorithm',\n",
       " 'healthcare python streaming application demo',\n",
       " 'finding optimal locations of new store using decision optimization',\n",
       " 'apache spark lab, part 1: basic concepts',\n",
       " 'analyze energy consumption in buildings',\n",
       " 'gosales transactions for logistic regression model']"
      ]
     },
     "execution_count": 93,
     "metadata": {},
     "output_type": "execute_result"
    }
   ],
   "source": [
    "rec.make_recommendations(user_id=0)\n",
    "rec.recommended_articles[1]"
   ]
  },
  {
   "cell_type": "code",
   "execution_count": 94,
   "metadata": {},
   "outputs": [
    {
     "data": {
      "text/plain": [
       "['using deep learning to reconstruct high-resolution audio',\n",
       " 'data tidying in data science experience',\n",
       " 'this week in data science (april 18, 2017)',\n",
       " 'share the (pixiedust) magic – ibm watson data lab – medium',\n",
       " 'insights from new york car accident reports',\n",
       " 'timeseries data analysis of iot events by using jupyter notebook',\n",
       " 'got zip code data? prep it for analytics. – ibm watson data lab – medium',\n",
       " 'working interactively with rstudio and notebooks in dsx',\n",
       " 'a comparison of logistic regression and naive bayes ',\n",
       " 'use deep learning for image classification']"
      ]
     },
     "execution_count": 94,
     "metadata": {},
     "output_type": "execute_result"
    }
   ],
   "source": [
    "rec.make_recommendations(user_id=3764)\n",
    "rec.recommended_articles[1]"
   ]
  },
  {
   "cell_type": "markdown",
   "metadata": {},
   "source": [
    "### <a class=\"anchor\" id=\"deployment\">Part VII: Deployment</a>\n",
    "\n",
    "Using the recommender class above, I have built a website app in Streamlit to showcase its functionality and results. The app let's you choose a user type (new user, recent user, old user) and shows read items and recommendations for a randomly selected user id of the selected user type. Of note, the recommender class has to be wrapped in a Streamlit session state variable to be able to update the dataframe attribute of the recommender object."
   ]
  },
  {
   "cell_type": "markdown",
   "metadata": {},
   "source": [
    "Visit it [here](https://recommender-ibm-watson.streamlit.app/)."
   ]
  },
  {
   "cell_type": "markdown",
   "metadata": {},
   "source": [
    "### <a class=\"anchor\" id=\"conclusions\">Part VIII: Conclusions</a>\n",
    "In summary, I have built a recommendation engine using content based and collaborative filtering approaches. Concerning content based recommendation, my approach consists of pulling items with titles similar to articles already seen by the user (similar articles). Concerning collaborative filtering, I use both user-user similarity (similar users) and I also predict items to be liked by taking past user-item interactions and factorizing the user-item matrix using Single Value Decomposition (SVD). I also use rank-based filtering of items to show when we do not have enough information about past user activity (popular items).<br>"
   ]
  },
  {
   "cell_type": "markdown",
   "metadata": {},
   "source": [
    "The aim of a recommender is to show personalized items to users to maximize the following 4 goals:\n",
    "- Relevance: show items likely to be liked by the user\n",
    "- Novelty: show items that the user has never seen\n",
    "- Serendipity: show items that sourprise the user. This can be implemented by offering randomly or pseudorandomly\n",
    "    (pulling items from categories less interacted by the user)\n",
    "- Diversity: items should be varied to avoid the user geting bored\n",
    "    \n",
    "Background information about the different recommender approaches that exist, some of which are used in this project:\n",
    "- Knowledge-based recommendations: takes user input about their preferences to pull items (to be applied on new users). Without \n",
    "    additional info, the idea here is to show popular articles within the categories preferred by the user, or simply \n",
    "    the most popular items across the database without considering categories.\n",
    "\n",
    "- Content-based recommendations: uses information about users or about content items. Here we use this by computing similarities between content items. By using NLP, the title text of each article is vectorized and simmilarities with all the other articles are calculated by computing the cosine similarity. Articles without similarity (cosine similarity = 0) are removed and then the most similar article titles are returned. \n",
    "    \n",
    "- Collaborative-filtering: uses information about user-item interactions, without having info about the content nor the users. Here I use 2 different approaches:\n",
    "    * Neighbor-based approach: pull items liked by similar users (we assume that seeing/reading an article = the user \n",
    "        has liked it). I compute similarities between users, i.e. user-user closeness, based on the articles they have read. This leads to pulling article items read by the most similar users.\n",
    "    * Model-based (matrix factorization via SVD): here I reconstruct a user-item matrix to predict articles that will be liked by a given user based on items liked by similar users. As shown before, SVD with 300 latent factors gives an accuracy near to 0.94"
   ]
  },
  {
   "cell_type": "markdown",
   "metadata": {},
   "source": [
    "Below some issues and possible improvements."
   ]
  },
  {
   "cell_type": "markdown",
   "metadata": {},
   "source": [
    "Difficult aspects:\n",
    "- Given the overal sparse and low similarity of content items and users with other content items and users, SVD does not work with this dataset. By checking the recommender function carefully, it turns out that SVD simply pulls the items already seen by the user, but does not predict anything new (regardless of the number of latent factors chosen). For this reason, and since SVD is the most time consuming process among all code in the recommender object, in the final class deployed in Streamlit I have added an if statement to run SVD only when the user is very active (has seen over 100 content items).\n",
    "- Streamlit development: Streamlit runs the code entirely from top to bottom every time there is interaction with input elements (i.e. you click at any button to add items to the \"seen\" list or you interact with the slider to set the number of articles to show). For this reason, the code needs to be writen in a way that is sometimes not very intuitive and use session_state variables to store certain data during the time the visitor is using the webapp. Otherwise, it is a fantastic library that makes relatively easy to deploy a web app with Python."
   ]
  },
  {
   "cell_type": "markdown",
   "metadata": {},
   "source": [
    "Potential improvements:\n",
    "- Add more types of users: this could help fix why SVD does not work with this dataset, as well as adding more users and more interactions so that the user-item matrix has more commonalities.\n",
    "- Randomize or pseudorandomize items to show among the top 50 or top 100 items, to add more variety and serendipity."
   ]
  }
 ],
 "metadata": {
  "kernelspec": {
   "display_name": "Python 3 (ipykernel)",
   "language": "python",
   "name": "python3"
  },
  "language_info": {
   "codemirror_mode": {
    "name": "ipython",
    "version": 3
   },
   "file_extension": ".py",
   "mimetype": "text/x-python",
   "name": "python",
   "nbconvert_exporter": "python",
   "pygments_lexer": "ipython3",
   "version": "3.9.15"
  }
 },
 "nbformat": 4,
 "nbformat_minor": 2
}
